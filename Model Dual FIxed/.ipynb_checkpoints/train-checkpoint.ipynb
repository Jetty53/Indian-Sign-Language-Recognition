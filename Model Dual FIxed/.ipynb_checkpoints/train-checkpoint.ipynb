{
 "cells": [
  {
   "cell_type": "code",
   "execution_count": 1,
   "id": "2f488045",
   "metadata": {},
   "outputs": [],
   "source": [
    "import cv2\n",
    "import numpy as np\n",
    "import os\n",
    "from matplotlib import pyplot as plt\n",
    "import mediapipe as mp\n",
    "\n",
    "from sklearn.model_selection import train_test_split\n",
    "from sklearn.metrics import multilabel_confusion_matrix, accuracy_score, confusion_matrix, f1_score\n",
    "\n",
    "from tensorflow.keras.utils import to_categorical\n",
    "from tensorflow.keras.models import Sequential\n",
    "from tensorflow.keras.layers import LSTM, Dense\n",
    "from tensorflow.keras.callbacks import TensorBoard"
   ]
  },
  {
   "cell_type": "code",
   "execution_count": 2,
   "id": "7bd64a15",
   "metadata": {},
   "outputs": [],
   "source": [
    "mp_holistic = mp.solutions.holistic\n",
    "mp_drawing = mp.solutions.drawing_utils\n",
    "holistic = mp_holistic.Holistic(min_detection_confidence = 0.8, min_tracking_confidence = 0.5)"
   ]
  },
  {
   "cell_type": "code",
   "execution_count": 3,
   "id": "ff01524d",
   "metadata": {},
   "outputs": [],
   "source": [
    "IMAGESET_FOLDER = os.path.join('Imageset')\n",
    "KEYPOINT_FOLDER = os.path.join('Extracted Hand Landmarks')\n",
    "DATASET_FOLDER = os.path.join('Dataset')\n",
    "actions = np.array(['Kol', 'live'])\n",
    "no_sequences = 120\n",
    "no_frames = 30"
   ]
  },
  {
   "cell_type": "code",
   "execution_count": 4,
   "id": "b3b5337e",
   "metadata": {},
   "outputs": [],
   "source": [
    "log_dir = os.path.join('Logs')\n",
    "tb_callbacks = TensorBoard(log_dir = log_dir)"
   ]
  },
  {
   "cell_type": "code",
   "execution_count": 5,
   "id": "d20f47b4",
   "metadata": {},
   "outputs": [],
   "source": [
    "label_map = {label:num for num, label in enumerate(actions)}\n",
    "\n",
    "sequences, labels= [], []\n",
    "for action in range(len(actions)):\n",
    "    for sequence in range(no_sequences):\n",
    "        window = []\n",
    "        for frame_num in range(no_frames):\n",
    "            res = np.load(os.path.join(DATASET_FOLDER, actions[action], str(sequence), \"{}.npy\".format(frame_num)))\n",
    "            window.append(res)\n",
    "        sequences.append(window)\n",
    "        labels.append(label_map[actions[action]])\n",
    "        \n",
    "x = np.array(sequences)\n",
    "y = to_categorical(labels).astype(int)\n",
    "\n",
    "x_train, x_test, y_train, y_test = train_test_split(x, y, test_size = 0.2)"
   ]
  },
  {
   "cell_type": "code",
   "execution_count": 6,
   "id": "a1a63ba3",
   "metadata": {},
   "outputs": [
    {
     "data": {
      "text/plain": [
       "(192, 30, 199)"
      ]
     },
     "execution_count": 6,
     "metadata": {},
     "output_type": "execute_result"
    }
   ],
   "source": [
    "x_train.shape"
   ]
  },
  {
   "cell_type": "code",
   "execution_count": 7,
   "id": "be408803",
   "metadata": {},
   "outputs": [],
   "source": [
    "model = Sequential()\n",
    "model.add(LSTM(64, return_sequences = True, activation = 'relu', input_shape = (30, 199)))\n",
    "model.add(LSTM(128, return_sequences = True, activation = 'relu'))\n",
    "model.add(LSTM(64, return_sequences = False, activation = 'relu'))\n",
    "model.add(Dense(64, activation = 'relu'))\n",
    "model.add(Dense(32, activation = 'relu'))\n",
    "model.add(Dense(actions.shape[0], activation = 'softmax'))\n",
    "model.compile(optimizer = 'Adam', loss = 'categorical_crossentropy', metrics = ['categorical_accuracy'])"
   ]
  },
  {
   "cell_type": "code",
   "execution_count": 8,
   "id": "31ead9a7",
   "metadata": {},
   "outputs": [
    {
     "name": "stdout",
     "output_type": "stream",
     "text": [
      "Model: \"sequential\"\n",
      "_________________________________________________________________\n",
      " Layer (type)                Output Shape              Param #   \n",
      "=================================================================\n",
      " lstm (LSTM)                 (None, 30, 64)            67584     \n",
      "                                                                 \n",
      " lstm_1 (LSTM)               (None, 30, 128)           98816     \n",
      "                                                                 \n",
      " lstm_2 (LSTM)               (None, 64)                49408     \n",
      "                                                                 \n",
      " dense (Dense)               (None, 64)                4160      \n",
      "                                                                 \n",
      " dense_1 (Dense)             (None, 32)                2080      \n",
      "                                                                 \n",
      " dense_2 (Dense)             (None, 2)                 66        \n",
      "                                                                 \n",
      "=================================================================\n",
      "Total params: 222,114\n",
      "Trainable params: 222,114\n",
      "Non-trainable params: 0\n",
      "_________________________________________________________________\n"
     ]
    }
   ],
   "source": [
    "model.summary()"
   ]
  },
  {
   "cell_type": "code",
   "execution_count": 9,
   "id": "d83de0fd",
   "metadata": {},
   "outputs": [
    {
     "name": "stdout",
     "output_type": "stream",
     "text": [
      "Epoch 1/200\n",
      "6/6 [==============================] - 2s 109ms/step - loss: 37.3270 - categorical_accuracy: 0.5833 - val_loss: 29.0801 - val_categorical_accuracy: 0.4375\n",
      "Epoch 2/200\n",
      "6/6 [==============================] - 0s 34ms/step - loss: 25.9103 - categorical_accuracy: 0.5833 - val_loss: 30.6926 - val_categorical_accuracy: 0.6042\n",
      "Epoch 3/200\n",
      "6/6 [==============================] - 0s 31ms/step - loss: 37.8597 - categorical_accuracy: 0.5729 - val_loss: 13.2581 - val_categorical_accuracy: 0.6667\n",
      "Epoch 4/200\n",
      "6/6 [==============================] - 0s 31ms/step - loss: 40.8595 - categorical_accuracy: 0.5052 - val_loss: 29.4252 - val_categorical_accuracy: 0.5625\n",
      "Epoch 5/200\n",
      "6/6 [==============================] - 0s 31ms/step - loss: 35.3013 - categorical_accuracy: 0.5104 - val_loss: 35.1787 - val_categorical_accuracy: 0.4167\n",
      "Epoch 6/200\n",
      "6/6 [==============================] - 0s 31ms/step - loss: 36.9567 - categorical_accuracy: 0.5260 - val_loss: 30.4849 - val_categorical_accuracy: 0.5208\n",
      "Epoch 7/200\n",
      "6/6 [==============================] - 0s 33ms/step - loss: 32.7927 - categorical_accuracy: 0.5417 - val_loss: 12.9673 - val_categorical_accuracy: 0.6667\n",
      "Epoch 8/200\n",
      "6/6 [==============================] - 0s 29ms/step - loss: 25.6038 - categorical_accuracy: 0.5781 - val_loss: 15.1897 - val_categorical_accuracy: 0.5417\n",
      "Epoch 9/200\n",
      "6/6 [==============================] - 0s 30ms/step - loss: 25.0464 - categorical_accuracy: 0.5938 - val_loss: 26.2762 - val_categorical_accuracy: 0.5833\n",
      "Epoch 10/200\n",
      "6/6 [==============================] - 0s 31ms/step - loss: 31.3293 - categorical_accuracy: 0.5729 - val_loss: 25.2053 - val_categorical_accuracy: 0.5625\n",
      "Epoch 11/200\n",
      "6/6 [==============================] - 0s 29ms/step - loss: 26.5576 - categorical_accuracy: 0.5312 - val_loss: 12.7618 - val_categorical_accuracy: 0.5625\n",
      "Epoch 12/200\n",
      "6/6 [==============================] - 0s 31ms/step - loss: 19.5125 - categorical_accuracy: 0.5885 - val_loss: 9.0461 - val_categorical_accuracy: 0.6458\n",
      "Epoch 13/200\n",
      "6/6 [==============================] - 0s 34ms/step - loss: 16.7958 - categorical_accuracy: 0.6406 - val_loss: 10.3186 - val_categorical_accuracy: 0.7292\n",
      "Epoch 14/200\n",
      "6/6 [==============================] - 0s 32ms/step - loss: 14.5556 - categorical_accuracy: 0.6302 - val_loss: 9.7355 - val_categorical_accuracy: 0.8125\n",
      "Epoch 15/200\n",
      "6/6 [==============================] - 0s 31ms/step - loss: 10.9462 - categorical_accuracy: 0.5938 - val_loss: 4.2134 - val_categorical_accuracy: 0.7708\n",
      "Epoch 16/200\n",
      "6/6 [==============================] - 0s 29ms/step - loss: 8.4430 - categorical_accuracy: 0.6615 - val_loss: 8.2984 - val_categorical_accuracy: 0.7708\n",
      "Epoch 17/200\n",
      "6/6 [==============================] - 0s 31ms/step - loss: 11.5945 - categorical_accuracy: 0.6510 - val_loss: 5.1129 - val_categorical_accuracy: 0.8125\n",
      "Epoch 18/200\n",
      "6/6 [==============================] - 0s 31ms/step - loss: 7.9465 - categorical_accuracy: 0.7500 - val_loss: 16.2854 - val_categorical_accuracy: 0.6875\n",
      "Epoch 19/200\n",
      "6/6 [==============================] - 0s 30ms/step - loss: 6.6300 - categorical_accuracy: 0.7240 - val_loss: 12.7682 - val_categorical_accuracy: 0.8125\n",
      "Epoch 20/200\n",
      "6/6 [==============================] - 0s 30ms/step - loss: 20.5375 - categorical_accuracy: 0.7448 - val_loss: 122.5294 - val_categorical_accuracy: 0.5625\n",
      "Epoch 21/200\n",
      "6/6 [==============================] - 0s 31ms/step - loss: 136.8964 - categorical_accuracy: 0.5312 - val_loss: 201.7531 - val_categorical_accuracy: 0.5000\n",
      "Epoch 22/200\n",
      "6/6 [==============================] - 0s 36ms/step - loss: 166.8895 - categorical_accuracy: 0.6094 - val_loss: 116.7728 - val_categorical_accuracy: 0.6250\n",
      "Epoch 23/200\n",
      "6/6 [==============================] - 0s 38ms/step - loss: 155.4954 - categorical_accuracy: 0.5625 - val_loss: 193.5676 - val_categorical_accuracy: 0.6042\n",
      "Epoch 24/200\n",
      "6/6 [==============================] - 0s 34ms/step - loss: 160.4204 - categorical_accuracy: 0.5260 - val_loss: 188.7373 - val_categorical_accuracy: 0.5208\n",
      "Epoch 25/200\n",
      "6/6 [==============================] - 0s 34ms/step - loss: 194.4682 - categorical_accuracy: 0.4896 - val_loss: 115.7201 - val_categorical_accuracy: 0.6042\n",
      "Epoch 26/200\n",
      "6/6 [==============================] - 0s 38ms/step - loss: 163.5119 - categorical_accuracy: 0.5260 - val_loss: 56.1783 - val_categorical_accuracy: 0.6042\n",
      "Epoch 27/200\n",
      "6/6 [==============================] - 0s 38ms/step - loss: 88.4964 - categorical_accuracy: 0.5990 - val_loss: 42.6236 - val_categorical_accuracy: 0.4583\n",
      "Epoch 28/200\n",
      "6/6 [==============================] - 0s 39ms/step - loss: 88.1583 - categorical_accuracy: 0.4688 - val_loss: 109.5720 - val_categorical_accuracy: 0.5625\n",
      "Epoch 29/200\n",
      "6/6 [==============================] - 0s 35ms/step - loss: 73.5487 - categorical_accuracy: 0.5885 - val_loss: 95.3127 - val_categorical_accuracy: 0.4792\n",
      "Epoch 30/200\n",
      "6/6 [==============================] - 0s 34ms/step - loss: 112.8356 - categorical_accuracy: 0.5156 - val_loss: 135.7331 - val_categorical_accuracy: 0.6667\n",
      "Epoch 31/200\n",
      "6/6 [==============================] - 0s 34ms/step - loss: 145.1167 - categorical_accuracy: 0.6250 - val_loss: 130.2833 - val_categorical_accuracy: 0.5417\n",
      "Epoch 32/200\n",
      "6/6 [==============================] - 0s 32ms/step - loss: 80.6027 - categorical_accuracy: 0.5781 - val_loss: 44.2671 - val_categorical_accuracy: 0.6042\n",
      "Epoch 33/200\n",
      "6/6 [==============================] - 0s 33ms/step - loss: 70.1936 - categorical_accuracy: 0.5677 - val_loss: 47.9918 - val_categorical_accuracy: 0.5625\n",
      "Epoch 34/200\n",
      "6/6 [==============================] - 0s 32ms/step - loss: 46.5738 - categorical_accuracy: 0.5417 - val_loss: 29.1791 - val_categorical_accuracy: 0.5208\n",
      "Epoch 35/200\n",
      "6/6 [==============================] - 0s 35ms/step - loss: 42.3828 - categorical_accuracy: 0.6510 - val_loss: 84.9257 - val_categorical_accuracy: 0.4583\n",
      "Epoch 36/200\n",
      "6/6 [==============================] - 0s 35ms/step - loss: 57.3719 - categorical_accuracy: 0.6302 - val_loss: 37.8114 - val_categorical_accuracy: 0.6667\n",
      "Epoch 37/200\n",
      "6/6 [==============================] - 0s 34ms/step - loss: 72.6709 - categorical_accuracy: 0.4948 - val_loss: 91.1964 - val_categorical_accuracy: 0.3958\n",
      "Epoch 38/200\n",
      "6/6 [==============================] - 0s 38ms/step - loss: 60.3806 - categorical_accuracy: 0.5104 - val_loss: 43.3306 - val_categorical_accuracy: 0.6875\n",
      "Epoch 39/200\n",
      "6/6 [==============================] - 0s 37ms/step - loss: 56.6498 - categorical_accuracy: 0.6094 - val_loss: 73.5225 - val_categorical_accuracy: 0.5833\n",
      "Epoch 40/200\n",
      "6/6 [==============================] - 0s 37ms/step - loss: 105.8489 - categorical_accuracy: 0.4583 - val_loss: 75.1053 - val_categorical_accuracy: 0.4792\n",
      "Epoch 41/200\n",
      "6/6 [==============================] - 0s 35ms/step - loss: 54.3663 - categorical_accuracy: 0.5417 - val_loss: 84.8087 - val_categorical_accuracy: 0.4167\n",
      "Epoch 42/200\n",
      "6/6 [==============================] - 0s 36ms/step - loss: 93.9527 - categorical_accuracy: 0.4635 - val_loss: 90.6830 - val_categorical_accuracy: 0.7292\n",
      "Epoch 43/200\n",
      "6/6 [==============================] - 0s 36ms/step - loss: 221.3697 - categorical_accuracy: 0.5260 - val_loss: 260.8415 - val_categorical_accuracy: 0.7292\n",
      "Epoch 44/200\n",
      "6/6 [==============================] - 0s 34ms/step - loss: 618.5300 - categorical_accuracy: 0.6615 - val_loss: 217.9656 - val_categorical_accuracy: 0.7917\n",
      "Epoch 45/200\n",
      "6/6 [==============================] - 0s 34ms/step - loss: 491.9181 - categorical_accuracy: 0.6094 - val_loss: 811.4256 - val_categorical_accuracy: 0.7292\n",
      "Epoch 46/200\n",
      "6/6 [==============================] - 0s 34ms/step - loss: 1787.5303 - categorical_accuracy: 0.5156 - val_loss: 2193.3708 - val_categorical_accuracy: 0.5625\n",
      "Epoch 47/200\n",
      "6/6 [==============================] - 0s 34ms/step - loss: 1923.3610 - categorical_accuracy: 0.7396 - val_loss: 5528.0737 - val_categorical_accuracy: 0.4375\n",
      "Epoch 48/200\n",
      "6/6 [==============================] - 0s 34ms/step - loss: 2049.1790 - categorical_accuracy: 0.6198 - val_loss: 1419.0752 - val_categorical_accuracy: 0.5833\n",
      "Epoch 49/200\n",
      "6/6 [==============================] - 0s 32ms/step - loss: 2673.1531 - categorical_accuracy: 0.5156 - val_loss: 59.1701 - val_categorical_accuracy: 0.7708\n"
     ]
    },
    {
     "name": "stdout",
     "output_type": "stream",
     "text": [
      "Epoch 50/200\n",
      "6/6 [==============================] - 0s 30ms/step - loss: 3575.0828 - categorical_accuracy: 0.5365 - val_loss: 2112.3574 - val_categorical_accuracy: 0.4375\n",
      "Epoch 51/200\n",
      "6/6 [==============================] - 0s 34ms/step - loss: 8852.4209 - categorical_accuracy: 0.4844 - val_loss: 5757.7710 - val_categorical_accuracy: 0.4375\n",
      "Epoch 52/200\n",
      "6/6 [==============================] - 0s 36ms/step - loss: 7361.6333 - categorical_accuracy: 0.5208 - val_loss: 10493.7861 - val_categorical_accuracy: 0.5625\n",
      "Epoch 53/200\n",
      "6/6 [==============================] - 0s 37ms/step - loss: 11350.5938 - categorical_accuracy: 0.5312 - val_loss: 17642.0410 - val_categorical_accuracy: 0.4375\n",
      "Epoch 54/200\n",
      "6/6 [==============================] - 0s 33ms/step - loss: 8590.5703 - categorical_accuracy: 0.5417 - val_loss: 14910.2139 - val_categorical_accuracy: 0.5625\n",
      "Epoch 55/200\n",
      "6/6 [==============================] - 0s 33ms/step - loss: 26247.9238 - categorical_accuracy: 0.4844 - val_loss: 4771.5278 - val_categorical_accuracy: 0.6667\n",
      "Epoch 56/200\n",
      "6/6 [==============================] - 0s 32ms/step - loss: 2590.3091 - categorical_accuracy: 0.5312 - val_loss: 1164.3198 - val_categorical_accuracy: 0.4792\n",
      "Epoch 57/200\n",
      "6/6 [==============================] - 0s 33ms/step - loss: 502.3096 - categorical_accuracy: 0.5521 - val_loss: 114.6014 - val_categorical_accuracy: 0.5417\n",
      "Epoch 58/200\n",
      "6/6 [==============================] - 0s 32ms/step - loss: 136.6767 - categorical_accuracy: 0.5052 - val_loss: 492.4096 - val_categorical_accuracy: 0.3750\n",
      "Epoch 59/200\n",
      "6/6 [==============================] - 0s 33ms/step - loss: 1524.4746 - categorical_accuracy: 0.4115 - val_loss: 599.6385 - val_categorical_accuracy: 0.4167\n",
      "Epoch 60/200\n",
      "6/6 [==============================] - 0s 33ms/step - loss: 217.8942 - categorical_accuracy: 0.4844 - val_loss: 97.0084 - val_categorical_accuracy: 0.5208\n",
      "Epoch 61/200\n",
      "6/6 [==============================] - 0s 33ms/step - loss: 73.7571 - categorical_accuracy: 0.4271 - val_loss: 72.8444 - val_categorical_accuracy: 0.4792\n",
      "Epoch 62/200\n",
      "6/6 [==============================] - 0s 32ms/step - loss: 185.8976 - categorical_accuracy: 0.5260 - val_loss: 264.3469 - val_categorical_accuracy: 0.5625\n",
      "Epoch 63/200\n",
      "6/6 [==============================] - 0s 33ms/step - loss: 310.0480 - categorical_accuracy: 0.5521 - val_loss: 563.4435 - val_categorical_accuracy: 0.3542\n",
      "Epoch 64/200\n",
      "6/6 [==============================] - 0s 35ms/step - loss: 762.9897 - categorical_accuracy: 0.5469 - val_loss: 795.4309 - val_categorical_accuracy: 0.5625\n",
      "Epoch 65/200\n",
      "6/6 [==============================] - 0s 33ms/step - loss: 1055.5404 - categorical_accuracy: 0.4219 - val_loss: 341.3318 - val_categorical_accuracy: 0.6875\n",
      "Epoch 66/200\n",
      "6/6 [==============================] - 0s 33ms/step - loss: 110.9965 - categorical_accuracy: 0.6562 - val_loss: 235.9589 - val_categorical_accuracy: 0.3958\n",
      "Epoch 67/200\n",
      "6/6 [==============================] - 0s 33ms/step - loss: 600.1144 - categorical_accuracy: 0.5781 - val_loss: 700.9709 - val_categorical_accuracy: 0.6042\n",
      "Epoch 68/200\n",
      "6/6 [==============================] - 0s 32ms/step - loss: 947.9355 - categorical_accuracy: 0.5365 - val_loss: 828.4642 - val_categorical_accuracy: 0.5625\n",
      "Epoch 69/200\n",
      "6/6 [==============================] - 0s 32ms/step - loss: 441.7820 - categorical_accuracy: 0.5573 - val_loss: 343.8156 - val_categorical_accuracy: 0.6042\n",
      "Epoch 70/200\n",
      "6/6 [==============================] - 0s 33ms/step - loss: 352.3425 - categorical_accuracy: 0.4583 - val_loss: 486.2948 - val_categorical_accuracy: 0.4375\n",
      "Epoch 71/200\n",
      "6/6 [==============================] - 0s 33ms/step - loss: 330.9786 - categorical_accuracy: 0.5052 - val_loss: 85.2968 - val_categorical_accuracy: 0.6458\n",
      "Epoch 72/200\n",
      "6/6 [==============================] - 0s 34ms/step - loss: 104.6270 - categorical_accuracy: 0.6354 - val_loss: 144.8056 - val_categorical_accuracy: 0.5000\n",
      "Epoch 73/200\n",
      "6/6 [==============================] - 0s 35ms/step - loss: 99.5847 - categorical_accuracy: 0.5990 - val_loss: 87.0537 - val_categorical_accuracy: 0.3333\n",
      "Epoch 74/200\n",
      "6/6 [==============================] - 0s 36ms/step - loss: 80.2027 - categorical_accuracy: 0.5000 - val_loss: 59.5221 - val_categorical_accuracy: 0.5417\n",
      "Epoch 75/200\n",
      "6/6 [==============================] - 0s 34ms/step - loss: 55.0314 - categorical_accuracy: 0.5365 - val_loss: 38.6186 - val_categorical_accuracy: 0.7292\n",
      "Epoch 76/200\n",
      "6/6 [==============================] - 0s 34ms/step - loss: 75.1339 - categorical_accuracy: 0.5729 - val_loss: 20.7759 - val_categorical_accuracy: 0.8542\n",
      "Epoch 77/200\n",
      "6/6 [==============================] - 0s 38ms/step - loss: 34.1306 - categorical_accuracy: 0.7188 - val_loss: 17.9044 - val_categorical_accuracy: 0.8333\n",
      "Epoch 78/200\n",
      "6/6 [==============================] - 0s 37ms/step - loss: 25.8948 - categorical_accuracy: 0.7708 - val_loss: 13.9497 - val_categorical_accuracy: 0.7292\n",
      "Epoch 79/200\n",
      "6/6 [==============================] - 0s 36ms/step - loss: 32.4097 - categorical_accuracy: 0.7656 - val_loss: 7.8167 - val_categorical_accuracy: 0.9375\n",
      "Epoch 80/200\n",
      "6/6 [==============================] - 0s 34ms/step - loss: 26.1395 - categorical_accuracy: 0.7969 - val_loss: 9.4798 - val_categorical_accuracy: 0.8958\n",
      "Epoch 81/200\n",
      "6/6 [==============================] - 0s 32ms/step - loss: 22.0303 - categorical_accuracy: 0.8646 - val_loss: 5.2625 - val_categorical_accuracy: 0.9375\n",
      "Epoch 82/200\n",
      "6/6 [==============================] - 0s 33ms/step - loss: 18.8010 - categorical_accuracy: 0.7969 - val_loss: 7.7802 - val_categorical_accuracy: 0.9167\n",
      "Epoch 83/200\n",
      "6/6 [==============================] - 0s 35ms/step - loss: 18.7521 - categorical_accuracy: 0.7865 - val_loss: 4.0162 - val_categorical_accuracy: 0.9375\n",
      "Epoch 84/200\n",
      "6/6 [==============================] - 0s 35ms/step - loss: 19.1987 - categorical_accuracy: 0.7708 - val_loss: 15.6370 - val_categorical_accuracy: 0.6667\n",
      "Epoch 85/200\n",
      "6/6 [==============================] - 0s 33ms/step - loss: 16.5139 - categorical_accuracy: 0.7448 - val_loss: 12.7782 - val_categorical_accuracy: 0.7292\n",
      "Epoch 86/200\n",
      "6/6 [==============================] - 0s 32ms/step - loss: 21.3712 - categorical_accuracy: 0.8281 - val_loss: 7.8173 - val_categorical_accuracy: 0.8750\n",
      "Epoch 87/200\n",
      "6/6 [==============================] - 0s 34ms/step - loss: 15.3027 - categorical_accuracy: 0.8021 - val_loss: 4.4778 - val_categorical_accuracy: 0.9583\n",
      "Epoch 88/200\n",
      "6/6 [==============================] - 0s 32ms/step - loss: 20.6047 - categorical_accuracy: 0.9115 - val_loss: 2.0442 - val_categorical_accuracy: 0.9375\n",
      "Epoch 89/200\n",
      "6/6 [==============================] - 0s 37ms/step - loss: 10.8047 - categorical_accuracy: 0.8438 - val_loss: 2.2346 - val_categorical_accuracy: 0.9583\n",
      "Epoch 90/200\n",
      "6/6 [==============================] - 0s 36ms/step - loss: 9.4838 - categorical_accuracy: 0.8906 - val_loss: 2.4304 - val_categorical_accuracy: 0.9375\n",
      "Epoch 91/200\n",
      "6/6 [==============================] - 0s 34ms/step - loss: 14.5039 - categorical_accuracy: 0.8438 - val_loss: 3.6994 - val_categorical_accuracy: 0.8125\n",
      "Epoch 92/200\n",
      "6/6 [==============================] - 0s 34ms/step - loss: 19.6159 - categorical_accuracy: 0.7865 - val_loss: 11.7989 - val_categorical_accuracy: 0.8125\n",
      "Epoch 93/200\n",
      "6/6 [==============================] - 0s 36ms/step - loss: 19.5833 - categorical_accuracy: 0.7969 - val_loss: 14.6219 - val_categorical_accuracy: 0.8125\n",
      "Epoch 94/200\n",
      "6/6 [==============================] - 0s 37ms/step - loss: 19.0287 - categorical_accuracy: 0.8281 - val_loss: 3.3315 - val_categorical_accuracy: 0.9167\n",
      "Epoch 95/200\n",
      "6/6 [==============================] - 0s 34ms/step - loss: 9.8854 - categorical_accuracy: 0.8438 - val_loss: 2.9198 - val_categorical_accuracy: 0.8958\n",
      "Epoch 96/200\n",
      "6/6 [==============================] - 0s 33ms/step - loss: 14.1854 - categorical_accuracy: 0.7760 - val_loss: 12.5611 - val_categorical_accuracy: 0.8333\n",
      "Epoch 97/200\n",
      "6/6 [==============================] - 0s 33ms/step - loss: 15.5999 - categorical_accuracy: 0.8229 - val_loss: 3.2086 - val_categorical_accuracy: 0.9792\n",
      "Epoch 98/200\n",
      "6/6 [==============================] - 0s 35ms/step - loss: 7.7916 - categorical_accuracy: 0.8958 - val_loss: 3.8560 - val_categorical_accuracy: 0.9167\n"
     ]
    },
    {
     "name": "stdout",
     "output_type": "stream",
     "text": [
      "Epoch 99/200\n",
      "6/6 [==============================] - 0s 35ms/step - loss: 7.0944 - categorical_accuracy: 0.8906 - val_loss: 2.6212 - val_categorical_accuracy: 0.9583\n",
      "Epoch 100/200\n",
      "6/6 [==============================] - 0s 33ms/step - loss: 5.8825 - categorical_accuracy: 0.8750 - val_loss: 1.2691 - val_categorical_accuracy: 0.9583\n",
      "Epoch 101/200\n",
      "6/6 [==============================] - 0s 30ms/step - loss: 6.5244 - categorical_accuracy: 0.8750 - val_loss: 0.0831 - val_categorical_accuracy: 0.9583\n",
      "Epoch 102/200\n",
      "6/6 [==============================] - 0s 35ms/step - loss: 8.3254 - categorical_accuracy: 0.8073 - val_loss: 0.7073 - val_categorical_accuracy: 0.9583\n",
      "Epoch 103/200\n",
      "6/6 [==============================] - 0s 36ms/step - loss: 7.8281 - categorical_accuracy: 0.8281 - val_loss: 0.7455 - val_categorical_accuracy: 0.9792\n",
      "Epoch 104/200\n",
      "6/6 [==============================] - 0s 35ms/step - loss: 3.7541 - categorical_accuracy: 0.8542 - val_loss: 0.7289 - val_categorical_accuracy: 0.9583\n",
      "Epoch 105/200\n",
      "6/6 [==============================] - 0s 34ms/step - loss: 8.5234 - categorical_accuracy: 0.8125 - val_loss: 4.6301 - val_categorical_accuracy: 0.9167\n",
      "Epoch 106/200\n",
      "6/6 [==============================] - 0s 32ms/step - loss: 7.2316 - categorical_accuracy: 0.7865 - val_loss: 13.5881 - val_categorical_accuracy: 0.7500\n",
      "Epoch 107/200\n",
      "6/6 [==============================] - 0s 32ms/step - loss: 11.7929 - categorical_accuracy: 0.7760 - val_loss: 1.2796 - val_categorical_accuracy: 0.9792\n",
      "Epoch 108/200\n",
      "6/6 [==============================] - 0s 33ms/step - loss: 8.9399 - categorical_accuracy: 0.8802 - val_loss: 2.2172 - val_categorical_accuracy: 0.9583\n",
      "Epoch 109/200\n",
      "6/6 [==============================] - 0s 31ms/step - loss: 5.5630 - categorical_accuracy: 0.8750 - val_loss: 2.7042 - val_categorical_accuracy: 0.9792\n",
      "Epoch 110/200\n",
      "6/6 [==============================] - 0s 32ms/step - loss: 4.3201 - categorical_accuracy: 0.8854 - val_loss: 1.9107 - val_categorical_accuracy: 0.9792\n",
      "Epoch 111/200\n",
      "6/6 [==============================] - 0s 32ms/step - loss: 3.5857 - categorical_accuracy: 0.8802 - val_loss: 1.9994 - val_categorical_accuracy: 0.9583\n",
      "Epoch 112/200\n",
      "6/6 [==============================] - 0s 32ms/step - loss: 2.6465 - categorical_accuracy: 0.8698 - val_loss: 3.2051 - val_categorical_accuracy: 0.9167\n",
      "Epoch 113/200\n",
      "6/6 [==============================] - 0s 31ms/step - loss: 3.2326 - categorical_accuracy: 0.8750 - val_loss: 7.2169 - val_categorical_accuracy: 0.7292\n",
      "Epoch 114/200\n",
      "6/6 [==============================] - 0s 35ms/step - loss: 8.5416 - categorical_accuracy: 0.7240 - val_loss: 0.5750 - val_categorical_accuracy: 0.9583\n",
      "Epoch 115/200\n",
      "6/6 [==============================] - 0s 33ms/step - loss: 7.1795 - categorical_accuracy: 0.7448 - val_loss: 18.4572 - val_categorical_accuracy: 0.5625\n",
      "Epoch 116/200\n",
      "6/6 [==============================] - 0s 32ms/step - loss: 11.7406 - categorical_accuracy: 0.7240 - val_loss: 4.4917 - val_categorical_accuracy: 0.8333\n",
      "Epoch 117/200\n",
      "6/6 [==============================] - 0s 33ms/step - loss: 6.7413 - categorical_accuracy: 0.8333 - val_loss: 8.8910 - val_categorical_accuracy: 0.7708\n",
      "Epoch 118/200\n",
      "6/6 [==============================] - 0s 33ms/step - loss: 18.5041 - categorical_accuracy: 0.6406 - val_loss: 2.7903 - val_categorical_accuracy: 0.7708\n",
      "Epoch 119/200\n",
      "6/6 [==============================] - 0s 35ms/step - loss: 22.5847 - categorical_accuracy: 0.6354 - val_loss: 54.0460 - val_categorical_accuracy: 0.4583\n",
      "Epoch 120/200\n",
      "6/6 [==============================] - 0s 34ms/step - loss: 52.7113 - categorical_accuracy: 0.5260 - val_loss: 102.2910 - val_categorical_accuracy: 0.4375\n",
      "Epoch 121/200\n",
      "6/6 [==============================] - 0s 32ms/step - loss: 54.8948 - categorical_accuracy: 0.5677 - val_loss: 30.5008 - val_categorical_accuracy: 0.6875\n",
      "Epoch 122/200\n",
      "6/6 [==============================] - 0s 31ms/step - loss: 35.2711 - categorical_accuracy: 0.6667 - val_loss: 14.4919 - val_categorical_accuracy: 0.8750\n",
      "Epoch 123/200\n",
      "6/6 [==============================] - 0s 33ms/step - loss: 35.9820 - categorical_accuracy: 0.7812 - val_loss: 47.7224 - val_categorical_accuracy: 0.5625\n",
      "Epoch 124/200\n",
      "6/6 [==============================] - 0s 33ms/step - loss: 47.2638 - categorical_accuracy: 0.6927 - val_loss: 35.8214 - val_categorical_accuracy: 0.8542\n",
      "Epoch 125/200\n",
      "6/6 [==============================] - 0s 32ms/step - loss: 27.1420 - categorical_accuracy: 0.7500 - val_loss: 13.1372 - val_categorical_accuracy: 0.7917\n",
      "Epoch 126/200\n",
      "6/6 [==============================] - 0s 33ms/step - loss: 19.7506 - categorical_accuracy: 0.6927 - val_loss: 3.7330 - val_categorical_accuracy: 0.9167\n",
      "Epoch 127/200\n",
      "6/6 [==============================] - 0s 33ms/step - loss: 9.8334 - categorical_accuracy: 0.8958 - val_loss: 2.0449 - val_categorical_accuracy: 0.9375\n",
      "Epoch 128/200\n",
      "6/6 [==============================] - 0s 34ms/step - loss: 10.5506 - categorical_accuracy: 0.8542 - val_loss: 3.6354 - val_categorical_accuracy: 0.9167\n",
      "Epoch 129/200\n",
      "6/6 [==============================] - 0s 37ms/step - loss: 9.3314 - categorical_accuracy: 0.8854 - val_loss: 2.7889 - val_categorical_accuracy: 0.8958\n",
      "Epoch 130/200\n",
      "6/6 [==============================] - 0s 34ms/step - loss: 8.1044 - categorical_accuracy: 0.8333 - val_loss: 3.1047 - val_categorical_accuracy: 0.9167\n",
      "Epoch 131/200\n",
      "6/6 [==============================] - 0s 31ms/step - loss: 7.9533 - categorical_accuracy: 0.8125 - val_loss: 0.9503 - val_categorical_accuracy: 0.9792\n",
      "Epoch 132/200\n",
      "6/6 [==============================] - 0s 32ms/step - loss: 6.7489 - categorical_accuracy: 0.8438 - val_loss: 2.2355 - val_categorical_accuracy: 0.8542\n",
      "Epoch 133/200\n",
      "6/6 [==============================] - 0s 31ms/step - loss: 5.3536 - categorical_accuracy: 0.7865 - val_loss: 0.8280 - val_categorical_accuracy: 0.9792\n",
      "Epoch 134/200\n",
      "6/6 [==============================] - 0s 35ms/step - loss: 5.5114 - categorical_accuracy: 0.8125 - val_loss: 1.5938 - val_categorical_accuracy: 0.9167\n",
      "Epoch 135/200\n",
      "6/6 [==============================] - 0s 32ms/step - loss: 4.1990 - categorical_accuracy: 0.8438 - val_loss: 0.4834 - val_categorical_accuracy: 0.9792\n",
      "Epoch 136/200\n",
      "6/6 [==============================] - 0s 32ms/step - loss: 2.8302 - categorical_accuracy: 0.8958 - val_loss: 1.2336 - val_categorical_accuracy: 0.8958\n",
      "Epoch 137/200\n",
      "6/6 [==============================] - 0s 33ms/step - loss: 3.4866 - categorical_accuracy: 0.8542 - val_loss: 2.4300 - val_categorical_accuracy: 0.9167\n",
      "Epoch 138/200\n",
      "6/6 [==============================] - 0s 33ms/step - loss: 3.0328 - categorical_accuracy: 0.8698 - val_loss: 0.4722 - val_categorical_accuracy: 0.9583\n",
      "Epoch 139/200\n",
      "6/6 [==============================] - 0s 32ms/step - loss: 2.6375 - categorical_accuracy: 0.8802 - val_loss: 1.3958 - val_categorical_accuracy: 0.9375\n",
      "Epoch 140/200\n",
      "6/6 [==============================] - 0s 35ms/step - loss: 2.7425 - categorical_accuracy: 0.8333 - val_loss: 2.8885 - val_categorical_accuracy: 0.8958\n",
      "Epoch 141/200\n",
      "6/6 [==============================] - 0s 34ms/step - loss: 4.0101 - categorical_accuracy: 0.8177 - val_loss: 1.3385 - val_categorical_accuracy: 0.9375\n",
      "Epoch 142/200\n",
      "6/6 [==============================] - 0s 34ms/step - loss: 3.3758 - categorical_accuracy: 0.8333 - val_loss: 0.1466 - val_categorical_accuracy: 0.9583\n",
      "Epoch 143/200\n",
      "6/6 [==============================] - 0s 31ms/step - loss: 3.8260 - categorical_accuracy: 0.8333 - val_loss: 4.9300 - val_categorical_accuracy: 0.6667\n",
      "Epoch 144/200\n",
      "6/6 [==============================] - 0s 34ms/step - loss: 3.3561 - categorical_accuracy: 0.8490 - val_loss: 0.1702 - val_categorical_accuracy: 0.9375\n",
      "Epoch 145/200\n",
      "6/6 [==============================] - 0s 33ms/step - loss: 1.4325 - categorical_accuracy: 0.8854 - val_loss: 0.0597 - val_categorical_accuracy: 0.9792\n",
      "Epoch 146/200\n",
      "6/6 [==============================] - 0s 33ms/step - loss: 2.0205 - categorical_accuracy: 0.8906 - val_loss: 1.7241 - val_categorical_accuracy: 0.9375\n",
      "Epoch 147/200\n",
      "6/6 [==============================] - 0s 34ms/step - loss: 2.7139 - categorical_accuracy: 0.8385 - val_loss: 2.7239 - val_categorical_accuracy: 0.8958\n",
      "Epoch 148/200\n"
     ]
    },
    {
     "name": "stdout",
     "output_type": "stream",
     "text": [
      "6/6 [==============================] - 0s 35ms/step - loss: 4.2555 - categorical_accuracy: 0.8073 - val_loss: 0.1477 - val_categorical_accuracy: 0.9583\n",
      "Epoch 149/200\n",
      "6/6 [==============================] - 0s 33ms/step - loss: 4.4295 - categorical_accuracy: 0.8854 - val_loss: 1.9775 - val_categorical_accuracy: 0.8958\n",
      "Epoch 150/200\n",
      "6/6 [==============================] - 0s 35ms/step - loss: 2.2023 - categorical_accuracy: 0.8958 - val_loss: 0.1555 - val_categorical_accuracy: 0.9583\n",
      "Epoch 151/200\n",
      "6/6 [==============================] - 0s 33ms/step - loss: 1.6446 - categorical_accuracy: 0.9062 - val_loss: 0.3058 - val_categorical_accuracy: 0.9583\n",
      "Epoch 152/200\n",
      "6/6 [==============================] - 0s 32ms/step - loss: 1.1549 - categorical_accuracy: 0.9219 - val_loss: 0.3420 - val_categorical_accuracy: 0.9375\n",
      "Epoch 153/200\n",
      "6/6 [==============================] - 0s 35ms/step - loss: 1.3696 - categorical_accuracy: 0.9062 - val_loss: 0.5497 - val_categorical_accuracy: 0.9167\n",
      "Epoch 154/200\n",
      "6/6 [==============================] - 0s 35ms/step - loss: 2.0909 - categorical_accuracy: 0.8646 - val_loss: 3.9483 - val_categorical_accuracy: 0.7083\n",
      "Epoch 155/200\n",
      "6/6 [==============================] - 0s 33ms/step - loss: 2.2153 - categorical_accuracy: 0.8229 - val_loss: 2.9556 - val_categorical_accuracy: 0.7292\n",
      "Epoch 156/200\n",
      "6/6 [==============================] - 0s 34ms/step - loss: 6.4277 - categorical_accuracy: 0.7135 - val_loss: 0.4095 - val_categorical_accuracy: 0.9583\n",
      "Epoch 157/200\n",
      "6/6 [==============================] - 0s 31ms/step - loss: 1.7713 - categorical_accuracy: 0.8958 - val_loss: 0.6493 - val_categorical_accuracy: 0.9375\n",
      "Epoch 158/200\n",
      "6/6 [==============================] - 0s 33ms/step - loss: 1.8846 - categorical_accuracy: 0.9167 - val_loss: 0.3551 - val_categorical_accuracy: 0.9583\n",
      "Epoch 159/200\n",
      "6/6 [==============================] - 0s 31ms/step - loss: 2.0671 - categorical_accuracy: 0.8646 - val_loss: 0.4034 - val_categorical_accuracy: 0.9792\n",
      "Epoch 160/200\n",
      "6/6 [==============================] - 0s 34ms/step - loss: 1.0636 - categorical_accuracy: 0.8958 - val_loss: 0.6810 - val_categorical_accuracy: 0.9583\n",
      "Epoch 161/200\n",
      "6/6 [==============================] - 0s 32ms/step - loss: 1.1862 - categorical_accuracy: 0.9010 - val_loss: 1.6017 - val_categorical_accuracy: 0.9167\n",
      "Epoch 162/200\n",
      "6/6 [==============================] - 0s 31ms/step - loss: 2.2914 - categorical_accuracy: 0.8802 - val_loss: 0.3344 - val_categorical_accuracy: 0.9583\n",
      "Epoch 163/200\n",
      "6/6 [==============================] - 0s 34ms/step - loss: 1.3439 - categorical_accuracy: 0.9271 - val_loss: 0.3667 - val_categorical_accuracy: 0.9583\n",
      "Epoch 164/200\n",
      "6/6 [==============================] - 0s 31ms/step - loss: 0.7536 - categorical_accuracy: 0.9219 - val_loss: 0.4751 - val_categorical_accuracy: 0.9583\n",
      "Epoch 165/200\n",
      "6/6 [==============================] - 0s 36ms/step - loss: 0.6027 - categorical_accuracy: 0.9323 - val_loss: 0.5149 - val_categorical_accuracy: 0.9583\n",
      "Epoch 166/200\n",
      "6/6 [==============================] - 0s 35ms/step - loss: 0.7818 - categorical_accuracy: 0.9427 - val_loss: 0.5639 - val_categorical_accuracy: 0.9583\n",
      "Epoch 167/200\n",
      "6/6 [==============================] - 0s 34ms/step - loss: 2.7211 - categorical_accuracy: 0.8385 - val_loss: 0.5586 - val_categorical_accuracy: 0.9583\n",
      "Epoch 168/200\n",
      "6/6 [==============================] - 0s 31ms/step - loss: 1.9104 - categorical_accuracy: 0.8594 - val_loss: 0.6429 - val_categorical_accuracy: 0.8958\n",
      "Epoch 169/200\n",
      "6/6 [==============================] - 0s 34ms/step - loss: 5.3774 - categorical_accuracy: 0.7812 - val_loss: 7.1517 - val_categorical_accuracy: 0.5833\n",
      "Epoch 170/200\n",
      "6/6 [==============================] - 0s 36ms/step - loss: 5.7249 - categorical_accuracy: 0.7552 - val_loss: 0.3910 - val_categorical_accuracy: 0.9583\n",
      "Epoch 171/200\n",
      "6/6 [==============================] - 0s 32ms/step - loss: 5.0283 - categorical_accuracy: 0.8333 - val_loss: 4.3389 - val_categorical_accuracy: 0.9167\n",
      "Epoch 172/200\n",
      "6/6 [==============================] - 0s 33ms/step - loss: 4.6790 - categorical_accuracy: 0.8646 - val_loss: 0.8533 - val_categorical_accuracy: 0.9583\n",
      "Epoch 173/200\n",
      "6/6 [==============================] - 0s 31ms/step - loss: 2.2783 - categorical_accuracy: 0.9271 - val_loss: 0.3096 - val_categorical_accuracy: 0.9583\n",
      "Epoch 174/200\n",
      "6/6 [==============================] - 0s 32ms/step - loss: 1.6099 - categorical_accuracy: 0.9167 - val_loss: 0.7589 - val_categorical_accuracy: 0.9583\n",
      "Epoch 175/200\n",
      "6/6 [==============================] - 0s 34ms/step - loss: 1.2810 - categorical_accuracy: 0.8958 - val_loss: 1.9406 - val_categorical_accuracy: 0.8958\n",
      "Epoch 176/200\n",
      "6/6 [==============================] - 0s 34ms/step - loss: 1.9025 - categorical_accuracy: 0.8750 - val_loss: 0.7823 - val_categorical_accuracy: 0.9583\n",
      "Epoch 177/200\n",
      "6/6 [==============================] - 0s 34ms/step - loss: 2.9185 - categorical_accuracy: 0.8438 - val_loss: 2.6568 - val_categorical_accuracy: 0.7917\n",
      "Epoch 178/200\n",
      "6/6 [==============================] - 0s 34ms/step - loss: 1.7655 - categorical_accuracy: 0.8750 - val_loss: 1.9901 - val_categorical_accuracy: 0.8750\n",
      "Epoch 179/200\n",
      "6/6 [==============================] - 0s 34ms/step - loss: 0.6920 - categorical_accuracy: 0.8958 - val_loss: 0.6911 - val_categorical_accuracy: 0.9583\n",
      "Epoch 180/200\n",
      "6/6 [==============================] - 0s 37ms/step - loss: 1.7148 - categorical_accuracy: 0.8958 - val_loss: 1.4340 - val_categorical_accuracy: 0.9375\n",
      "Epoch 181/200\n",
      "6/6 [==============================] - 0s 35ms/step - loss: 2.0808 - categorical_accuracy: 0.9010 - val_loss: 0.9071 - val_categorical_accuracy: 0.9167\n",
      "Epoch 182/200\n",
      "6/6 [==============================] - 0s 35ms/step - loss: 0.8559 - categorical_accuracy: 0.9583 - val_loss: 0.5415 - val_categorical_accuracy: 0.9583\n",
      "Epoch 183/200\n",
      "6/6 [==============================] - 0s 34ms/step - loss: 0.7543 - categorical_accuracy: 0.9375 - val_loss: 0.3774 - val_categorical_accuracy: 0.9583\n",
      "Epoch 184/200\n",
      "6/6 [==============================] - 0s 32ms/step - loss: 0.8838 - categorical_accuracy: 0.9323 - val_loss: 0.8437 - val_categorical_accuracy: 0.9167\n",
      "Epoch 185/200\n",
      "6/6 [==============================] - 0s 35ms/step - loss: 1.1626 - categorical_accuracy: 0.9115 - val_loss: 0.3882 - val_categorical_accuracy: 0.9583\n",
      "Epoch 186/200\n",
      "6/6 [==============================] - 0s 32ms/step - loss: 2.4790 - categorical_accuracy: 0.8438 - val_loss: 0.3631 - val_categorical_accuracy: 0.9583\n",
      "Epoch 187/200\n",
      "6/6 [==============================] - 0s 34ms/step - loss: 2.9727 - categorical_accuracy: 0.8385 - val_loss: 0.2916 - val_categorical_accuracy: 0.9375\n",
      "Epoch 188/200\n",
      "6/6 [==============================] - 0s 35ms/step - loss: 1.5877 - categorical_accuracy: 0.8958 - val_loss: 1.0328 - val_categorical_accuracy: 0.9375\n",
      "Epoch 189/200\n",
      "6/6 [==============================] - 0s 37ms/step - loss: 1.7695 - categorical_accuracy: 0.8802 - val_loss: 1.6758 - val_categorical_accuracy: 0.9375\n",
      "Epoch 190/200\n",
      "6/6 [==============================] - 0s 37ms/step - loss: 1.5538 - categorical_accuracy: 0.9010 - val_loss: 0.4099 - val_categorical_accuracy: 0.9583\n",
      "Epoch 191/200\n",
      "6/6 [==============================] - 0s 37ms/step - loss: 0.8458 - categorical_accuracy: 0.9375 - val_loss: 0.2995 - val_categorical_accuracy: 0.9583\n",
      "Epoch 192/200\n",
      "6/6 [==============================] - 0s 34ms/step - loss: 0.6343 - categorical_accuracy: 0.9219 - val_loss: 0.2804 - val_categorical_accuracy: 0.9792\n",
      "Epoch 193/200\n",
      "6/6 [==============================] - 0s 34ms/step - loss: 0.5966 - categorical_accuracy: 0.9323 - val_loss: 0.5000 - val_categorical_accuracy: 0.9792\n",
      "Epoch 194/200\n",
      "6/6 [==============================] - 0s 32ms/step - loss: 0.5379 - categorical_accuracy: 0.9427 - val_loss: 0.4990 - val_categorical_accuracy: 0.9583\n",
      "Epoch 195/200\n",
      "6/6 [==============================] - 0s 36ms/step - loss: 0.5134 - categorical_accuracy: 0.9375 - val_loss: 1.1632 - val_categorical_accuracy: 0.8542\n",
      "Epoch 196/200\n",
      "6/6 [==============================] - 0s 31ms/step - loss: 0.4953 - categorical_accuracy: 0.9375 - val_loss: 0.8130 - val_categorical_accuracy: 0.9167\n",
      "Epoch 197/200\n"
     ]
    },
    {
     "name": "stdout",
     "output_type": "stream",
     "text": [
      "6/6 [==============================] - 0s 33ms/step - loss: 0.6940 - categorical_accuracy: 0.8958 - val_loss: 0.5156 - val_categorical_accuracy: 0.9375\n",
      "Epoch 198/200\n",
      "6/6 [==============================] - 0s 33ms/step - loss: 0.5178 - categorical_accuracy: 0.9323 - val_loss: 0.4652 - val_categorical_accuracy: 0.9583\n",
      "Epoch 199/200\n",
      "6/6 [==============================] - 0s 31ms/step - loss: 0.4485 - categorical_accuracy: 0.9271 - val_loss: 1.1567 - val_categorical_accuracy: 0.9167\n",
      "Epoch 200/200\n",
      "6/6 [==============================] - 0s 36ms/step - loss: 0.8884 - categorical_accuracy: 0.9115 - val_loss: 0.7261 - val_categorical_accuracy: 0.9583\n"
     ]
    }
   ],
   "source": [
    "learn = model.fit(\n",
    "    x_train, \n",
    "    y_train, \n",
    "    validation_data = (x_test, y_test), \n",
    "    epochs = 200, \n",
    "    callbacks = [tb_callbacks]\n",
    ")"
   ]
  },
  {
   "cell_type": "code",
   "execution_count": 16,
   "id": "18895e39",
   "metadata": {},
   "outputs": [],
   "source": [
    "# model.save('DualFixed.h5')"
   ]
  },
  {
   "cell_type": "code",
   "execution_count": 40,
   "id": "6cb8e062",
   "metadata": {},
   "outputs": [
    {
     "data": {
      "image/png": "[encoded data removed]",
      "text/plain": [
       "<Figure size 720x360 with 1 Axes>"
      ]
     },
     "metadata": {
      "needs_background": "light"
     },
     "output_type": "display_data"
    }
   ],
   "source": [
    "fig, loss_graph = plt.subplots(figsize=(10, 5))\n",
    "# acc_ax = loss_ax.twinx()\n",
    "\n",
    "loss_graph.plot(learn.history['loss'], 'y', label='train loss')\n",
    "loss_graph.plot(learn.history['val_loss'], 'b', label='val loss')\n",
    "loss_graph.set_xlabel('epoch')\n",
    "loss_graph.set_ylabel('loss')\n",
    "loss_graph.legend(loc = 'upper left')\n",
    "plt.savefig('DualFixed_loss_plot_curve.jpg')\n",
    "plt.show()"
   ]
  },
  {
   "cell_type": "code",
   "execution_count": 41,
   "id": "2ccc18e0",
   "metadata": {},
   "outputs": [
    {
     "data": {
      "image/png": "[encoded data removed]",
      "text/plain": [
       "<Figure size 720x360 with 1 Axes>"
      ]
     },
     "metadata": {
      "needs_background": "light"
     },
     "output_type": "display_data"
    }
   ],
   "source": [
    "fig, acc_graph = plt.subplots(figsize = (10, 5))\n",
    "\n",
    "acc_graph.plot(learn.history['categorical_accuracy'], 'b', label='train acc')\n",
    "acc_graph.plot(learn.history['val_categorical_accuracy'], 'g', label='val acc')\n",
    "acc_graph.set_xlabel('epoch')\n",
    "acc_graph.set_ylabel('accuracy')\n",
    "acc_graph.set_ylim([0, 1.5])\n",
    "acc_graph.legend(loc = 'upper left')\n",
    "plt.savefig('DualFixed_train_plot_curve.jpg')\n",
    "plt.show()"
   ]
  },
  {
   "cell_type": "code",
   "execution_count": 10,
   "id": "e998144c",
   "metadata": {},
   "outputs": [],
   "source": [
    "x_pred = model.predict(x_test)"
   ]
  },
  {
   "cell_type": "code",
   "execution_count": 11,
   "id": "96d6d737",
   "metadata": {},
   "outputs": [],
   "source": [
    "y_true = np.argmax(y_test, axis = 1).tolist()"
   ]
  },
  {
   "cell_type": "code",
   "execution_count": 12,
   "id": "2d0cfea5",
   "metadata": {},
   "outputs": [],
   "source": [
    "x_pred = np.argmax(x_pred, axis = 1).tolist()"
   ]
  },
  {
   "cell_type": "code",
   "execution_count": 13,
   "id": "04a3b7d2",
   "metadata": {},
   "outputs": [
    {
     "data": {
      "text/plain": [
       "[0,\n",
       " 1,\n",
       " 0,\n",
       " 1,\n",
       " 1,\n",
       " 1,\n",
       " 0,\n",
       " 0,\n",
       " 0,\n",
       " 1,\n",
       " 1,\n",
       " 0,\n",
       " 1,\n",
       " 1,\n",
       " 1,\n",
       " 1,\n",
       " 1,\n",
       " 0,\n",
       " 0,\n",
       " 0,\n",
       " 1,\n",
       " 0,\n",
       " 0,\n",
       " 0,\n",
       " 0,\n",
       " 1,\n",
       " 1,\n",
       " 0,\n",
       " 1,\n",
       " 1,\n",
       " 1,\n",
       " 0,\n",
       " 1,\n",
       " 1,\n",
       " 1,\n",
       " 0,\n",
       " 1,\n",
       " 1,\n",
       " 0,\n",
       " 0,\n",
       " 0,\n",
       " 0,\n",
       " 0,\n",
       " 1,\n",
       " 0,\n",
       " 1,\n",
       " 0,\n",
       " 1]"
      ]
     },
     "execution_count": 13,
     "metadata": {},
     "output_type": "execute_result"
    }
   ],
   "source": [
    "x_pred"
   ]
  },
  {
   "cell_type": "code",
   "execution_count": 14,
   "id": "cf427ef5",
   "metadata": {},
   "outputs": [
    {
     "data": {
      "text/plain": [
       "[0,\n",
       " 1,\n",
       " 0,\n",
       " 1,\n",
       " 1,\n",
       " 1,\n",
       " 0,\n",
       " 0,\n",
       " 0,\n",
       " 1,\n",
       " 1,\n",
       " 0,\n",
       " 1,\n",
       " 1,\n",
       " 1,\n",
       " 1,\n",
       " 1,\n",
       " 0,\n",
       " 0,\n",
       " 0,\n",
       " 1,\n",
       " 1,\n",
       " 0,\n",
       " 0,\n",
       " 0,\n",
       " 1,\n",
       " 1,\n",
       " 0,\n",
       " 1,\n",
       " 1,\n",
       " 1,\n",
       " 1,\n",
       " 1,\n",
       " 1,\n",
       " 1,\n",
       " 0,\n",
       " 1,\n",
       " 1,\n",
       " 0,\n",
       " 0,\n",
       " 0,\n",
       " 0,\n",
       " 0,\n",
       " 1,\n",
       " 0,\n",
       " 1,\n",
       " 0,\n",
       " 1]"
      ]
     },
     "execution_count": 14,
     "metadata": {},
     "output_type": "execute_result"
    }
   ],
   "source": [
    "y_true"
   ]
  },
  {
   "cell_type": "code",
   "execution_count": 47,
   "id": "3b2c4b70",
   "metadata": {},
   "outputs": [],
   "source": [
    "mul_conf_mx = multilabel_confusion_matrix(y_true, x_pred)"
   ]
  },
  {
   "cell_type": "code",
   "execution_count": 48,
   "id": "6a9199a1",
   "metadata": {
    "scrolled": true
   },
   "outputs": [
    {
     "data": {
      "text/plain": [
       "array([[[23,  0],\n",
       "        [ 2, 23]],\n",
       "\n",
       "       [[23,  2],\n",
       "        [ 0, 23]]], dtype=int64)"
      ]
     },
     "execution_count": 48,
     "metadata": {},
     "output_type": "execute_result"
    }
   ],
   "source": [
    "mul_conf_mx"
   ]
  },
  {
   "cell_type": "code",
   "execution_count": 49,
   "id": "ec5d6e22",
   "metadata": {},
   "outputs": [],
   "source": [
    "conf_mx = confusion_matrix(y_true, x_pred)"
   ]
  },
  {
   "cell_type": "code",
   "execution_count": 50,
   "id": "c1fcd57a",
   "metadata": {},
   "outputs": [
    {
     "data": {
      "text/plain": [
       "array([[23,  2],\n",
       "       [ 0, 23]], dtype=int64)"
      ]
     },
     "execution_count": 50,
     "metadata": {},
     "output_type": "execute_result"
    }
   ],
   "source": [
    "conf_mx"
   ]
  },
  {
   "cell_type": "code",
   "execution_count": 15,
   "id": "0112a304",
   "metadata": {},
   "outputs": [
    {
     "data": {
      "text/plain": [
       "0.9583333333333334"
      ]
     },
     "execution_count": 15,
     "metadata": {},
     "output_type": "execute_result"
    }
   ],
   "source": [
    "accuracy_score(y_true, x_pred)"
   ]
  },
  {
   "cell_type": "code",
   "execution_count": 51,
   "id": "939b2a9f",
   "metadata": {},
   "outputs": [
    {
     "data": {
      "text/plain": [
       "0.9583333333333334"
      ]
     },
     "execution_count": 51,
     "metadata": {},
     "output_type": "execute_result"
    }
   ],
   "source": [
    "accuracy_score(y_true, x_pred)"
   ]
  },
  {
   "cell_type": "code",
   "execution_count": 54,
   "id": "aff21f46",
   "metadata": {},
   "outputs": [
    {
     "name": "stdout",
     "output_type": "stream",
     "text": [
      "[0. 1.]\n"
     ]
    },
    {
     "data": {
      "text/plain": [
       "<Figure size 6480x6480 with 0 Axes>"
      ]
     },
     "execution_count": 54,
     "metadata": {},
     "output_type": "execute_result"
    },
    {
     "data": {
      "image/png": "[encoded data removed]",
      "text/plain": [
       "<Figure size 432x288 with 2 Axes>"
      ]
     },
     "metadata": {
      "needs_background": "light"
     },
     "output_type": "display_data"
    },
    {
     "data": {
      "text/plain": [
       "<Figure size 6480x6480 with 0 Axes>"
      ]
     },
     "metadata": {},
     "output_type": "display_data"
    }
   ],
   "source": [
    "ticks = np.linspace(0, 1, num = 2)\n",
    "print(ticks)\n",
    "# ticks = actions\n",
    "plt.imshow(conf_mx, interpolation = 'none')\n",
    "plt.colorbar()\n",
    "plt.xticks(ticks, fontsize = 6)\n",
    "plt.yticks(ticks, fontsize = 6)\n",
    "plt.savefig('DualFixed_confusion_matrix.jpg')\n",
    "plt.figure(figsize = (90, 90))"
   ]
  },
  {
   "cell_type": "code",
   "execution_count": null,
   "id": "c13b47af",
   "metadata": {},
   "outputs": [],
   "source": []
  }
 ],
 "metadata": {
  "kernelspec": {
   "display_name": "Python 3 (ipykernel)",
   "language": "python",
   "name": "python3"
  },
  "language_info": {
   "codemirror_mode": {
    "name": "ipython",
    "version": 3
   },
   "file_extension": ".py",
   "mimetype": "text/x-python",
   "name": "python",
   "nbconvert_exporter": "python",
   "pygments_lexer": "ipython3",
   "version": "3.9.7"
  }
 },
 "nbformat": 4,
 "nbformat_minor": 5
}
