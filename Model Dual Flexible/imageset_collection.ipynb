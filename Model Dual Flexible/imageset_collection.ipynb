{
 "cells": [
  {
   "cell_type": "code",
   "execution_count": 1,
   "id": "47dde0eb",
   "metadata": {},
   "outputs": [],
   "source": [
    "import cv2\n",
    "import numpy as np\n",
    "import os\n",
    "import mediapipe as mp"
   ]
  },
  {
   "cell_type": "code",
   "execution_count": 2,
   "id": "e1a7ca08",
   "metadata": {},
   "outputs": [],
   "source": [
    "mp_holistic = mp.solutions.holistic\n",
    "mp_drawing = mp.solutions.drawing_utils\n",
    "holistic = mp_holistic.Holistic(min_detection_confidence = 0.8, min_tracking_confidence = 0.5)"
   ]
  },
  {
   "cell_type": "code",
   "execution_count": 3,
   "id": "f16ada87",
   "metadata": {},
   "outputs": [],
   "source": [
    "IMAGESET_FOLDER = os.path.join('Imageset')\n",
    "actions = np.array(['A', 'B', 'J', 'N', 'W', \"teacher\", \"live\", \"Kol\", \"sign\", \"language\"])\n",
    "no_sequences = 30\n",
    "no_frames = 30"
   ]
  },
  {
   "cell_type": "code",
   "execution_count": 4,
   "id": "ae2a5fb7",
   "metadata": {},
   "outputs": [],
   "source": [
    "def mediapipe_detection(image, holistic):\n",
    "    image = cv2.cvtColor(image, cv2.COLOR_BGR2RGB)\n",
    "    image.flags.writeable = False\n",
    "    result = holistic.process(image)\n",
    "    image.flags.writeable = True\n",
    "    image = cv2.cvtColor(image, cv2.COLOR_RGB2BGR)\n",
    "    return image, result"
   ]
  },
  {
   "cell_type": "code",
   "execution_count": 5,
   "id": "5e3fca28",
   "metadata": {},
   "outputs": [],
   "source": [
    "def render_landmarks(image, results):\n",
    "    mp_drawing.draw_landmarks(image, results.left_hand_landmarks, mp_holistic.HAND_CONNECTIONS)\n",
    "    mp_drawing.draw_landmarks(image, results.right_hand_landmarks, mp_holistic.HAND_CONNECTIONS)"
   ]
  },
  {
   "cell_type": "code",
   "execution_count": 7,
   "id": "a414cdcf",
   "metadata": {},
   "outputs": [],
   "source": [
    "cap = cv2.VideoCapture(0)\n",
    "\n",
    "for action in range(6, 7):\n",
    "    for seqNo in range(no_sequences):\n",
    "        for frameNo in range(no_frames):\n",
    "            ret, frame = cap.read()\n",
    "            \n",
    "            h, w, c = frame.shape\n",
    "\n",
    "            backBlackImage = np.zeros([h, w, c])\n",
    "\n",
    "            backBlackImage.fill(0)\n",
    "            \n",
    "            image, results = mediapipe_detection(frame, holistic)\n",
    "        \n",
    "            render_landmarks(backBlackImage, results)\n",
    "            \n",
    "            image = cv2.flip(image, 1)\n",
    "            backBlackImage = cv2.flip(backBlackImage, 1)\n",
    "\n",
    "            if frameNo == 0:\n",
    "                cv2.putText(backBlackImage, \"STARTING COLLECTION FOR {}\".format(actions[action]), (120, 200), cv2.FONT_HERSHEY_SIMPLEX, 1, (255, 255, 255), 4, cv2.LINE_AA)\n",
    "                cv2.putText(backBlackImage, \"\\\"{}\\\" - ({}/15)\".format(actions[action], seqNo + 1), (15, 12), cv2.FONT_HERSHEY_SIMPLEX, 0.5, (255, 255, 255), 1, cv2.LINE_AA)\n",
    "                cv2.putText(image, \"\\\"{}\\\" - ({}/15)\".format(actions[action], seqNo + 1), (15, 12), cv2.FONT_HERSHEY_SIMPLEX, 0.5, (255, 0, 0), 1, cv2.LINE_AA)\n",
    "                cv2.imshow(\"Live Feed\", image)\n",
    "                cv2.imshow(\"Extracted Hand\", backBlackImage)\n",
    "                #cv2.imshow(\"Shifted Hands\", shiftedOriginImage)\n",
    "                cv2.waitKey(1500)\n",
    "            else:\n",
    "                cv2.putText(backBlackImage, \"\\\"{}\\\" - ({}/15)\".format(actions[action], seqNo + 1), (15, 12), cv2.FONT_HERSHEY_SIMPLEX, 0.5, (255, 255, 255), 1, cv2.LINE_AA)\n",
    "                cv2.putText(image, \"\\\"{}\\\" - ({}/15)\".format(actions[action], seqNo + 1), (15, 12), cv2.FONT_HERSHEY_SIMPLEX, 0.5, (255, 0, 0), 1, cv2.LINE_AA)\n",
    "                cv2.imshow(\"Live Feed\", image)\n",
    "                cv2.imshow(\"Extracted Hand\", backBlackImage)\n",
    "                #cv2.imshow(\"Shifted Hands\", shiftedOriginImage)\n",
    "                \n",
    "            image_save_path = os.path.join(IMAGESET_FOLDER, actions[action], str(seqNo))\n",
    "            \n",
    "            try:\n",
    "                os.makedirs(image_save_path)\n",
    "            except:\n",
    "                pass\n",
    "\n",
    "            cv2.imwrite(os.path.join(image_save_path, str(frameNo) + '.jpg'), image)\n",
    "            \n",
    "            cv2.waitKey(10)\n",
    "            \n",
    "cap.release()\n",
    "cv2.destroyAllWindows()"
   ]
  },
  {
   "cell_type": "code",
   "execution_count": null,
   "id": "4e6659b4",
   "metadata": {},
   "outputs": [],
   "source": []
  }
 ],
 "metadata": {
  "kernelspec": {
   "display_name": "Python 3 (ipykernel)",
   "language": "python",
   "name": "python3"
  },
  "language_info": {
   "codemirror_mode": {
    "name": "ipython",
    "version": 3
   },
   "file_extension": ".py",
   "mimetype": "text/x-python",
   "name": "python",
   "nbconvert_exporter": "python",
   "pygments_lexer": "ipython3",
   "version": "3.9.7"
  }
 },
 "nbformat": 4,
 "nbformat_minor": 5
}
