{
 "cells": [
  {
   "cell_type": "code",
   "execution_count": 21,
   "id": "9cb06e45",
   "metadata": {},
   "outputs": [],
   "source": [
    "import cv2\n",
    "import numpy as np\n",
    "import os\n",
    "import mediapipe as mp"
   ]
  },
  {
   "cell_type": "code",
   "execution_count": 22,
   "id": "87889583",
   "metadata": {},
   "outputs": [],
   "source": [
    "mp_holistic = mp.solutions.holistic\n",
    "mp_drawing = mp.solutions.drawing_utils\n",
    "holistic = mp_holistic.Holistic(min_detection_confidence = 0.8, min_tracking_confidence = 0.5)"
   ]
  },
  {
   "cell_type": "code",
   "execution_count": 23,
   "id": "2319274c",
   "metadata": {},
   "outputs": [],
   "source": [
    "IMAGESET_FOLDER = os.path.join('Imageset')\n",
    "KEYPOINT_FOLDER = os.path.join('Extracted Hand Landmarks')\n",
    "DATASET_FOLDER = os.path.join('Dataset')\n",
    "actions = np.array(['I', 'jayga', 'hello', 'my', 'india'])\n",
    "# actions = np.array(['A', 'B', 'J', 'N', 'W', \"teacher\", \"live\", \"Kol\", \"sign\", \"language\"])\n",
    "no_sequences = 30\n",
    "no_frames = 30"
   ]
  },
  {
   "cell_type": "code",
   "execution_count": 24,
   "id": "1edaa19b",
   "metadata": {},
   "outputs": [],
   "source": [
    "def mediapipe_detection(image, holistic):\n",
    "    image = cv2.cvtColor(image, cv2.COLOR_BGR2RGB)\n",
    "    image.flags.writeable = False\n",
    "    result = holistic.process(image)\n",
    "    image.flags.writeable = True\n",
    "    image = cv2.cvtColor(image, cv2.COLOR_RGB2BGR)\n",
    "    return image, result"
   ]
  },
  {
   "cell_type": "code",
   "execution_count": 25,
   "id": "7ae232d7",
   "metadata": {},
   "outputs": [],
   "source": [
    "def render_landmarks(image, results):\n",
    "    mp_drawing.draw_landmarks(image, results.left_hand_landmarks, mp_holistic.HAND_CONNECTIONS)\n",
    "    mp_drawing.draw_landmarks(image, results.right_hand_landmarks, mp_holistic.HAND_CONNECTIONS)"
   ]
  },
  {
   "cell_type": "code",
   "execution_count": 26,
   "id": "15de23c9",
   "metadata": {},
   "outputs": [],
   "source": [
    "def get_coords(results):\n",
    "    l_coords = np.zeros(shape = (21, 3), dtype = float)\n",
    "    r_coords = np.zeros(shape = (21, 3), dtype = float)\n",
    "    \n",
    "    l_shift_coords = np.zeros(shape = (21, 3), dtype = float)\n",
    "    r_shift_coords = np.zeros(shape = (21, 3), dtype = float)\n",
    "    \n",
    "    if results.left_hand_landmarks:\n",
    "        for idxL, lh in enumerate(results.left_hand_landmarks.landmark):\n",
    "            l_coords[idxL] = np.array([lh.x, lh.y, lh.z])\n",
    "        l_shift_coords = coord_shift(l_coords, 0)\n",
    "    \n",
    "    if results.right_hand_landmarks:\n",
    "        for idxR, rh in enumerate(results.right_hand_landmarks.landmark):\n",
    "            r_coords[idxR] = np.array([rh.x, rh.y, rh.z])\n",
    "        r_shift_coords = coord_shift(r_coords, 1)\n",
    "    \n",
    "    return l_shift_coords, r_shift_coords"
   ]
  },
  {
   "cell_type": "code",
   "execution_count": 27,
   "id": "7abb2b06",
   "metadata": {},
   "outputs": [],
   "source": [
    "def coord_shift(coords_array, num):\n",
    "    \n",
    "    coords_zero = np.all((coords_array == 0))\n",
    "    shifted_coords_array = np.zeros(shape = (21, 3), dtype = float)\n",
    "    \n",
    "    new_l_x = 8.24e-01\n",
    "    new_l_y = 6.7e-01\n",
    "    new_l_z = 2.25e-07\n",
    "    \n",
    "    new_r_x = 1.39e-01\n",
    "    new_r_y = 6.7e-01\n",
    "    new_r_z = 2.25e-07\n",
    "    \n",
    "    if num == 0:\n",
    "        shifted_coords_array[0] = np.array([new_l_x, new_l_y, new_l_z])\n",
    "        shift_factor_x = new_l_x - coords_array[0][0]\n",
    "        shift_factor_y = new_l_y - coords_array[0][1]\n",
    "        shift_factor_z = new_l_z - coords_array[0][2]\n",
    "        for i in range(1, len(coords_array)):\n",
    "            shifted_coords_array[i] = np.array([(coords_array[i][0] + shift_factor_x), (coords_array[i][1] + shift_factor_y), (coords_array[i][2] + shift_factor_z)])\n",
    "\n",
    "    else:\n",
    "        shifted_coords_array[0] = np.array([new_r_x, new_r_y, new_r_z])\n",
    "        shift_factor_x = new_r_x - coords_array[0][0]\n",
    "        shift_factor_y = new_r_y - coords_array[0][1]\n",
    "        shift_factor_z = new_r_z - coords_array[0][2]\n",
    "        for j in range(1, len(coords_array)):\n",
    "            shifted_coords_array[j] = np.array([(coords_array[j][0] + shift_factor_x), (coords_array[j][1] + shift_factor_y), (coords_array[j][2] + shift_factor_z)])\n",
    "\n",
    "    #print(shifted_coords_array)\n",
    "    return shifted_coords_array"
   ]
  },
  {
   "cell_type": "code",
   "execution_count": 28,
   "id": "7e66c647",
   "metadata": {},
   "outputs": [],
   "source": [
    "def hand_wrist_distance(coords_array):\n",
    "    \n",
    "    wrist_distance = np.zeros(shape = (21, 1), dtype = float)\n",
    "    \n",
    "    for num in range(len(coords_array)):\n",
    "        wrist_distance[num] = (((coords_array[0][0] - coords_array[num][0])**2) + ((coords_array[0][1] - coords_array[num][1])**2) + ((coords_array[0][2] - coords_array[num][2])**2))**0.5\n",
    "        \n",
    "    return wrist_distance"
   ]
  },
  {
   "cell_type": "code",
   "execution_count": 29,
   "id": "eb24235b",
   "metadata": {},
   "outputs": [],
   "source": [
    "def extract_feature_points(results):\n",
    "    \n",
    "    l_shift_coords = np.zeros(shape = (21, 3), dtype = float)\n",
    "    r_shift_coords = np.zeros(shape = (21, 3), dtype = float)\n",
    "    \n",
    "    l_h_wrist_distance = np.zeros(shape = (21, 1), dtype = float)\n",
    "    r_h_wrist_distance = np.zeros(shape = (21, 1), dtype = float)\n",
    "    \n",
    "    if results:\n",
    "        l_shift_coords, r_shift_coords = get_coords(results)\n",
    "        \n",
    "        if results.left_hand_landmarks:\n",
    "            l_h_wrist_distance = hand_wrist_distance(l_shift_coords)\n",
    "        \n",
    "        if results.right_hand_landmarks:\n",
    "            r_h_wrist_distance = hand_wrist_distance(r_shift_coords)\n",
    "            \n",
    "    return np.column_stack((l_shift_coords, r_shift_coords, l_h_wrist_distance, r_h_wrist_distance)).flatten()"
   ]
  },
  {
   "cell_type": "code",
   "execution_count": 30,
   "id": "79dd9487",
   "metadata": {},
   "outputs": [],
   "source": [
    "for action in range(len(actions)):\n",
    "    for seqNo in range(no_sequences):\n",
    "        for frameNo in range(no_frames):\n",
    "            source_image_path = os.path.join(IMAGESET_FOLDER, actions[action], str(seqNo))\n",
    "            image = cv2.imread(os.path.join(source_image_path, str(frameNo) + '.jpg'))\n",
    "            \n",
    "            image = cv2.flip(image, 1)\n",
    "            \n",
    "            image, results = mediapipe_detection(image, holistic)\n",
    "        \n",
    "            render_landmarks(image, results)\n",
    "            \n",
    "            frame_features = extract_feature_points(results)\n",
    "            \n",
    "            saved_image_path = os.path.join(KEYPOINT_FOLDER, actions[action], str(seqNo))\n",
    "            \n",
    "            image = cv2.flip(image, 1)\n",
    "            try:\n",
    "                os.makedirs(saved_image_path)\n",
    "            except:\n",
    "                pass\n",
    "            \n",
    "            cv2.imwrite(os.path.join(saved_image_path, str(frameNo) + '.jpg'), image)\n",
    "            \n",
    "            npy_path = os.path.join(DATASET_FOLDER, actions[action], str(seqNo))\n",
    "            \n",
    "            try:\n",
    "                os.makedirs(npy_path)\n",
    "            except:\n",
    "                pass\n",
    "            np.save(os.path.join(npy_path, str(frameNo)), frame_features)"
   ]
  },
  {
   "cell_type": "code",
   "execution_count": null,
   "id": "98be688a",
   "metadata": {},
   "outputs": [],
   "source": []
  }
 ],
 "metadata": {
  "kernelspec": {
   "display_name": "Python 3 (ipykernel)",
   "language": "python",
   "name": "python3"
  },
  "language_info": {
   "codemirror_mode": {
    "name": "ipython",
    "version": 3
   },
   "file_extension": ".py",
   "mimetype": "text/x-python",
   "name": "python",
   "nbconvert_exporter": "python",
   "pygments_lexer": "ipython3",
   "version": "3.9.7"
  }
 },
 "nbformat": 4,
 "nbformat_minor": 5
}
