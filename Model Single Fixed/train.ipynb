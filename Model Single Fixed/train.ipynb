{
 "cells": [
  {
   "cell_type": "code",
   "execution_count": 1,
   "id": "2f488045",
   "metadata": {},
   "outputs": [],
   "source": [
    "import cv2\n",
    "import numpy as np\n",
    "import os\n",
    "from matplotlib import pyplot as plt\n",
    "import mediapipe as mp\n",
    "\n",
    "from sklearn.model_selection import train_test_split\n",
    "from sklearn.metrics import multilabel_confusion_matrix, accuracy_score, confusion_matrix, f1_score\n",
    "\n",
    "from tensorflow.keras.utils import to_categorical\n",
    "from tensorflow.keras.models import Sequential\n",
    "from tensorflow.keras.layers import LSTM, Dense\n",
    "from tensorflow.keras.callbacks import TensorBoard"
   ]
  },
  {
   "cell_type": "code",
   "execution_count": 2,
   "id": "7bd64a15",
   "metadata": {},
   "outputs": [],
   "source": [
    "mp_holistic = mp.solutions.holistic\n",
    "mp_drawing = mp.solutions.drawing_utils\n",
    "holistic = mp_holistic.Holistic(min_detection_confidence = 0.8, min_tracking_confidence = 0.5)"
   ]
  },
  {
   "cell_type": "code",
   "execution_count": 3,
   "id": "ff01524d",
   "metadata": {},
   "outputs": [],
   "source": [
    "IMAGESET_FOLDER = os.path.join('Imageset')\n",
    "KEYPOINT_FOLDER = os.path.join('Extracted Hand Landmarks')\n",
    "DATASET_FOLDER = os.path.join('Dataset')\n",
    "actions = np.array(['I_word', 'hello', 'my', 'india'])\n",
    "no_sequences = 120\n",
    "no_frames = 30"
   ]
  },
  {
   "cell_type": "code",
   "execution_count": 4,
   "id": "b3b5337e",
   "metadata": {},
   "outputs": [],
   "source": [
    "log_dir = os.path.join('Logs')\n",
    "tb_callbacks = TensorBoard(log_dir = log_dir)"
   ]
  },
  {
   "cell_type": "code",
   "execution_count": 47,
   "id": "d20f47b4",
   "metadata": {},
   "outputs": [],
   "source": [
    "label_map = {label:num for num, label in enumerate(actions)}\n",
    "\n",
    "sequences, labels= [], []\n",
    "for action in range(len(actions)):\n",
    "    for sequence in range(no_sequences):\n",
    "        window = []\n",
    "        for frame_num in range(no_frames):\n",
    "            res = np.load(os.path.join(DATASET_FOLDER, actions[action], str(sequence), \"{}.npy\".format(frame_num)))\n",
    "            window.append(res)\n",
    "        sequences.append(window)\n",
    "        labels.append(label_map[actions[action]])\n",
    "        \n",
    "x = np.array(sequences)\n",
    "y = to_categorical(labels).astype(int)\n",
    "\n",
    "x_train, x_test, y_train, y_test = train_test_split(x, y, test_size = 0.2)"
   ]
  },
  {
   "cell_type": "code",
   "execution_count": 48,
   "id": "638a769f",
   "metadata": {},
   "outputs": [
    {
     "data": {
      "text/plain": [
       "(384, 30, 178)"
      ]
     },
     "execution_count": 48,
     "metadata": {},
     "output_type": "execute_result"
    }
   ],
   "source": [
    "x_train.shape"
   ]
  },
  {
   "cell_type": "code",
   "execution_count": 49,
   "id": "be408803",
   "metadata": {},
   "outputs": [],
   "source": [
    "model = Sequential()\n",
    "model.add(LSTM(64, return_sequences = True, activation = 'relu', input_shape = (30, 178)))\n",
    "model.add(LSTM(128, return_sequences = True, activation = 'relu'))\n",
    "model.add(LSTM(64, return_sequences = False, activation = 'relu'))\n",
    "model.add(Dense(64, activation = 'relu'))\n",
    "model.add(Dense(32, activation = 'relu'))\n",
    "model.add(Dense(actions.shape[0], activation = 'softmax'))\n",
    "model.compile(optimizer = 'Adam', loss = 'categorical_crossentropy', metrics = ['categorical_accuracy'])"
   ]
  },
  {
   "cell_type": "code",
   "execution_count": 50,
   "id": "ca722729",
   "metadata": {},
   "outputs": [
    {
     "name": "stdout",
     "output_type": "stream",
     "text": [
      "Model: \"sequential_4\"\n",
      "_________________________________________________________________\n",
      " Layer (type)                Output Shape              Param #   \n",
      "=================================================================\n",
      " lstm_12 (LSTM)              (None, 30, 64)            62208     \n",
      "                                                                 \n",
      " lstm_13 (LSTM)              (None, 30, 128)           98816     \n",
      "                                                                 \n",
      " lstm_14 (LSTM)              (None, 64)                49408     \n",
      "                                                                 \n",
      " dense_12 (Dense)            (None, 64)                4160      \n",
      "                                                                 \n",
      " dense_13 (Dense)            (None, 32)                2080      \n",
      "                                                                 \n",
      " dense_14 (Dense)            (None, 4)                 132       \n",
      "                                                                 \n",
      "=================================================================\n",
      "Total params: 216,804\n",
      "Trainable params: 216,804\n",
      "Non-trainable params: 0\n",
      "_________________________________________________________________\n"
     ]
    }
   ],
   "source": [
    "model.summary()"
   ]
  },
  {
   "cell_type": "code",
   "execution_count": 59,
   "id": "d83de0fd",
   "metadata": {},
   "outputs": [
    {
     "name": "stdout",
     "output_type": "stream",
     "text": [
      "Epoch 1/200\n",
      "12/12 [==============================] - 1s 50ms/step - loss: 2.2662 - categorical_accuracy: 0.9115 - val_loss: 8.5385 - val_categorical_accuracy: 0.9375\n",
      "Epoch 2/200\n",
      "12/12 [==============================] - 1s 48ms/step - loss: 2.1514 - categorical_accuracy: 0.9167 - val_loss: 6.2117 - val_categorical_accuracy: 0.8125\n",
      "Epoch 3/200\n",
      "12/12 [==============================] - 1s 45ms/step - loss: 2.8685 - categorical_accuracy: 0.9089 - val_loss: 2.3242 - val_categorical_accuracy: 0.9062\n",
      "Epoch 4/200\n",
      "12/12 [==============================] - 1s 48ms/step - loss: 2.1260 - categorical_accuracy: 0.9193 - val_loss: 4.9970 - val_categorical_accuracy: 0.8958\n",
      "Epoch 5/200\n",
      "12/12 [==============================] - 1s 47ms/step - loss: 3.9859 - categorical_accuracy: 0.9036 - val_loss: 2.7896 - val_categorical_accuracy: 0.9583\n",
      "Epoch 6/200\n",
      "12/12 [==============================] - 1s 51ms/step - loss: 10.1907 - categorical_accuracy: 0.8984 - val_loss: 15.6293 - val_categorical_accuracy: 0.9479\n",
      "Epoch 7/200\n",
      "12/12 [==============================] - 1s 51ms/step - loss: 3.9762 - categorical_accuracy: 0.9323 - val_loss: 7.2940 - val_categorical_accuracy: 0.9479\n",
      "Epoch 8/200\n",
      "12/12 [==============================] - 1s 46ms/step - loss: 3.1775 - categorical_accuracy: 0.8958 - val_loss: 16.3173 - val_categorical_accuracy: 0.9167\n",
      "Epoch 9/200\n",
      "12/12 [==============================] - 1s 52ms/step - loss: 10.8644 - categorical_accuracy: 0.8854 - val_loss: 5.0832 - val_categorical_accuracy: 0.9479\n",
      "Epoch 10/200\n",
      "12/12 [==============================] - 1s 45ms/step - loss: 0.7812 - categorical_accuracy: 0.9271 - val_loss: 1.8108 - val_categorical_accuracy: 0.9167\n",
      "Epoch 11/200\n",
      "12/12 [==============================] - 1s 50ms/step - loss: 1.4087 - categorical_accuracy: 0.9010 - val_loss: 10.1812 - val_categorical_accuracy: 0.8229\n",
      "Epoch 12/200\n",
      "12/12 [==============================] - 1s 44ms/step - loss: 3.1468 - categorical_accuracy: 0.8880 - val_loss: 10.8684 - val_categorical_accuracy: 0.7917\n",
      "Epoch 13/200\n",
      "12/12 [==============================] - 1s 46ms/step - loss: 3.7007 - categorical_accuracy: 0.8672 - val_loss: 8.0466 - val_categorical_accuracy: 0.8646\n",
      "Epoch 14/200\n",
      "12/12 [==============================] - 1s 53ms/step - loss: 5.1056 - categorical_accuracy: 0.8281 - val_loss: 6.5259 - val_categorical_accuracy: 0.8646\n",
      "Epoch 15/200\n",
      "12/12 [==============================] - 1s 46ms/step - loss: 5.4964 - categorical_accuracy: 0.8255 - val_loss: 13.9741 - val_categorical_accuracy: 0.8125\n",
      "Epoch 16/200\n",
      "12/12 [==============================] - 1s 45ms/step - loss: 3.4160 - categorical_accuracy: 0.8958 - val_loss: 6.2217 - val_categorical_accuracy: 0.9375\n",
      "Epoch 17/200\n",
      "12/12 [==============================] - 1s 44ms/step - loss: 1.0537 - categorical_accuracy: 0.9401 - val_loss: 6.6107 - val_categorical_accuracy: 0.8958\n",
      "Epoch 18/200\n",
      "12/12 [==============================] - 1s 51ms/step - loss: 0.9793 - categorical_accuracy: 0.9635 - val_loss: 1.2421 - val_categorical_accuracy: 0.9271\n",
      "Epoch 19/200\n",
      "12/12 [==============================] - 1s 54ms/step - loss: 0.7268 - categorical_accuracy: 0.9401 - val_loss: 5.4597 - val_categorical_accuracy: 0.9271\n",
      "Epoch 20/200\n",
      "12/12 [==============================] - 1s 45ms/step - loss: 1.0644 - categorical_accuracy: 0.9453 - val_loss: 4.9764 - val_categorical_accuracy: 0.9167\n",
      "Epoch 21/200\n",
      "12/12 [==============================] - 1s 45ms/step - loss: 1.2487 - categorical_accuracy: 0.9427 - val_loss: 4.4447 - val_categorical_accuracy: 0.8750\n",
      "Epoch 22/200\n",
      "12/12 [==============================] - 1s 44ms/step - loss: 1.4062 - categorical_accuracy: 0.9245 - val_loss: 8.1405 - val_categorical_accuracy: 0.8438\n",
      "Epoch 23/200\n",
      "12/12 [==============================] - 1s 59ms/step - loss: 1.5806 - categorical_accuracy: 0.9349 - val_loss: 4.5074 - val_categorical_accuracy: 0.9479\n",
      "Epoch 24/200\n",
      "12/12 [==============================] - 1s 58ms/step - loss: 1.5050 - categorical_accuracy: 0.9349 - val_loss: 5.7828 - val_categorical_accuracy: 0.9375\n",
      "Epoch 25/200\n",
      "12/12 [==============================] - 1s 47ms/step - loss: 1.7023 - categorical_accuracy: 0.9349 - val_loss: 5.3320 - val_categorical_accuracy: 0.9479\n",
      "Epoch 26/200\n",
      "12/12 [==============================] - 1s 46ms/step - loss: 3.0894 - categorical_accuracy: 0.8958 - val_loss: 3.9685 - val_categorical_accuracy: 0.9583\n",
      "Epoch 27/200\n",
      "12/12 [==============================] - 1s 44ms/step - loss: 8.8911 - categorical_accuracy: 0.8516 - val_loss: 29.3079 - val_categorical_accuracy: 0.8438\n",
      "Epoch 28/200\n",
      "12/12 [==============================] - 1s 44ms/step - loss: 26.1523 - categorical_accuracy: 0.7604 - val_loss: 7.2317 - val_categorical_accuracy: 0.8750\n",
      "Epoch 29/200\n",
      "12/12 [==============================] - 1s 44ms/step - loss: 12.3739 - categorical_accuracy: 0.8359 - val_loss: 50.5432 - val_categorical_accuracy: 0.7917\n",
      "Epoch 30/200\n",
      "12/12 [==============================] - 1s 48ms/step - loss: 25.9865 - categorical_accuracy: 0.7630 - val_loss: 13.2944 - val_categorical_accuracy: 0.8542\n",
      "Epoch 31/200\n",
      "12/12 [==============================] - 1s 44ms/step - loss: 6.2443 - categorical_accuracy: 0.8021 - val_loss: 8.0270 - val_categorical_accuracy: 0.7917\n",
      "Epoch 32/200\n",
      "12/12 [==============================] - 1s 43ms/step - loss: 12.9352 - categorical_accuracy: 0.7422 - val_loss: 29.4083 - val_categorical_accuracy: 0.7708\n",
      "Epoch 33/200\n",
      "12/12 [==============================] - 1s 45ms/step - loss: 5.8058 - categorical_accuracy: 0.8281 - val_loss: 20.6826 - val_categorical_accuracy: 0.8021\n",
      "Epoch 34/200\n",
      "12/12 [==============================] - 1s 44ms/step - loss: 3.7870 - categorical_accuracy: 0.8802 - val_loss: 22.2991 - val_categorical_accuracy: 0.7083\n",
      "Epoch 35/200\n",
      "12/12 [==============================] - 1s 48ms/step - loss: 2.8633 - categorical_accuracy: 0.8880 - val_loss: 15.9718 - val_categorical_accuracy: 0.8958\n",
      "Epoch 36/200\n",
      "12/12 [==============================] - 1s 46ms/step - loss: 1.8554 - categorical_accuracy: 0.9036 - val_loss: 12.1510 - val_categorical_accuracy: 0.9062\n",
      "Epoch 37/200\n",
      "12/12 [==============================] - 1s 46ms/step - loss: 1.1151 - categorical_accuracy: 0.9245 - val_loss: 7.6535 - val_categorical_accuracy: 0.9167\n",
      "Epoch 38/200\n",
      "12/12 [==============================] - 1s 43ms/step - loss: 28.0547 - categorical_accuracy: 0.8464 - val_loss: 14.7791 - val_categorical_accuracy: 0.8438\n",
      "Epoch 39/200\n",
      "12/12 [==============================] - 1s 44ms/step - loss: 64.7177 - categorical_accuracy: 0.8047 - val_loss: 189.2166 - val_categorical_accuracy: 0.4896\n",
      "Epoch 40/200\n",
      "12/12 [==============================] - 1s 45ms/step - loss: 989.0889 - categorical_accuracy: 0.3984 - val_loss: 1441.9556 - val_categorical_accuracy: 0.5208\n",
      "Epoch 41/200\n",
      "12/12 [==============================] - 1s 46ms/step - loss: 25813.6113 - categorical_accuracy: 0.3151 - val_loss: 5084.6558 - val_categorical_accuracy: 0.4896\n",
      "Epoch 42/200\n",
      "12/12 [==============================] - 1s 45ms/step - loss: 3056.6436 - categorical_accuracy: 0.3099 - val_loss: 873.5850 - val_categorical_accuracy: 0.1875\n",
      "Epoch 43/200\n",
      "12/12 [==============================] - 1s 42ms/step - loss: 839.4940 - categorical_accuracy: 0.2500 - val_loss: 314.7962 - val_categorical_accuracy: 0.1875\n",
      "Epoch 44/200\n",
      "12/12 [==============================] - 1s 45ms/step - loss: 373.8563 - categorical_accuracy: 0.2630 - val_loss: 240.6808 - val_categorical_accuracy: 0.1771\n",
      "Epoch 45/200\n",
      "12/12 [==============================] - 1s 43ms/step - loss: 201.9707 - categorical_accuracy: 0.2474 - val_loss: 125.1285 - val_categorical_accuracy: 0.3125\n",
      "Epoch 46/200\n",
      "12/12 [==============================] - 1s 48ms/step - loss: 157.0494 - categorical_accuracy: 0.2682 - val_loss: 159.8211 - val_categorical_accuracy: 0.1771\n",
      "Epoch 47/200\n",
      "12/12 [==============================] - 1s 45ms/step - loss: 155.3922 - categorical_accuracy: 0.2266 - val_loss: 295.4885 - val_categorical_accuracy: 0.1771\n",
      "Epoch 48/200\n",
      "12/12 [==============================] - 1s 46ms/step - loss: 134.2856 - categorical_accuracy: 0.1797 - val_loss: 127.3037 - val_categorical_accuracy: 0.1771\n",
      "Epoch 49/200\n",
      "12/12 [==============================] - 1s 44ms/step - loss: 60.9735 - categorical_accuracy: 0.2109 - val_loss: 40.3135 - val_categorical_accuracy: 0.0729\n"
     ]
    },
    {
     "name": "stdout",
     "output_type": "stream",
     "text": [
      "Epoch 50/200\n",
      "12/12 [==============================] - 1s 45ms/step - loss: 53.0387 - categorical_accuracy: 0.2083 - val_loss: 19.2918 - val_categorical_accuracy: 0.2917\n",
      "Epoch 51/200\n",
      "12/12 [==============================] - 1s 44ms/step - loss: 35.4326 - categorical_accuracy: 0.2552 - val_loss: 30.5877 - val_categorical_accuracy: 0.3438\n",
      "Epoch 52/200\n",
      "12/12 [==============================] - 1s 47ms/step - loss: 19.0806 - categorical_accuracy: 0.3281 - val_loss: 26.5764 - val_categorical_accuracy: 0.1771\n",
      "Epoch 53/200\n",
      "12/12 [==============================] - 1s 43ms/step - loss: 27.3250 - categorical_accuracy: 0.2891 - val_loss: 77.7948 - val_categorical_accuracy: 0.2917\n",
      "Epoch 54/200\n",
      "12/12 [==============================] - 1s 44ms/step - loss: 40.7738 - categorical_accuracy: 0.2995 - val_loss: 38.7593 - val_categorical_accuracy: 0.2292\n",
      "Epoch 55/200\n",
      "12/12 [==============================] - 1s 44ms/step - loss: 24.4196 - categorical_accuracy: 0.2734 - val_loss: 26.6660 - val_categorical_accuracy: 0.3229\n",
      "Epoch 56/200\n",
      "12/12 [==============================] - 1s 43ms/step - loss: 28.7796 - categorical_accuracy: 0.3203 - val_loss: 21.4809 - val_categorical_accuracy: 0.7396\n",
      "Epoch 57/200\n",
      "12/12 [==============================] - 1s 48ms/step - loss: 15.7044 - categorical_accuracy: 0.3880 - val_loss: 8.8140 - val_categorical_accuracy: 0.4896\n",
      "Epoch 58/200\n",
      "12/12 [==============================] - 1s 44ms/step - loss: 5.0528 - categorical_accuracy: 0.5260 - val_loss: 4.6523 - val_categorical_accuracy: 0.3854\n",
      "Epoch 59/200\n",
      "12/12 [==============================] - 1s 45ms/step - loss: 1.0638 - categorical_accuracy: 0.8125 - val_loss: 0.5154 - val_categorical_accuracy: 0.9375\n",
      "Epoch 60/200\n",
      "12/12 [==============================] - 1s 43ms/step - loss: 0.6302 - categorical_accuracy: 0.8672 - val_loss: 1.3666 - val_categorical_accuracy: 0.7708\n",
      "Epoch 61/200\n",
      "12/12 [==============================] - 1s 45ms/step - loss: 1.1012 - categorical_accuracy: 0.7552 - val_loss: 0.9949 - val_categorical_accuracy: 0.8542\n",
      "Epoch 62/200\n",
      "12/12 [==============================] - 1s 46ms/step - loss: 0.3199 - categorical_accuracy: 0.9219 - val_loss: 0.6127 - val_categorical_accuracy: 0.9062\n",
      "Epoch 63/200\n",
      "12/12 [==============================] - 1s 47ms/step - loss: 0.2959 - categorical_accuracy: 0.9297 - val_loss: 1.0878 - val_categorical_accuracy: 0.6979\n",
      "Epoch 64/200\n",
      "12/12 [==============================] - 1s 44ms/step - loss: 0.3110 - categorical_accuracy: 0.9036 - val_loss: 0.5822 - val_categorical_accuracy: 0.8542\n",
      "Epoch 65/200\n",
      "12/12 [==============================] - 1s 43ms/step - loss: 0.2578 - categorical_accuracy: 0.9401 - val_loss: 0.4475 - val_categorical_accuracy: 0.9583\n",
      "Epoch 66/200\n",
      "12/12 [==============================] - 1s 44ms/step - loss: 0.3151 - categorical_accuracy: 0.9271 - val_loss: 0.5499 - val_categorical_accuracy: 0.9479\n",
      "Epoch 67/200\n",
      "12/12 [==============================] - 1s 43ms/step - loss: 0.3762 - categorical_accuracy: 0.9245 - val_loss: 0.5209 - val_categorical_accuracy: 0.9479\n",
      "Epoch 68/200\n",
      "12/12 [==============================] - 1s 47ms/step - loss: 0.4043 - categorical_accuracy: 0.9193 - val_loss: 4.3239 - val_categorical_accuracy: 0.5000\n",
      "Epoch 69/200\n",
      "12/12 [==============================] - 1s 43ms/step - loss: 4.1495 - categorical_accuracy: 0.6458 - val_loss: 0.6892 - val_categorical_accuracy: 0.8854\n",
      "Epoch 70/200\n",
      "12/12 [==============================] - 1s 45ms/step - loss: 1.5277 - categorical_accuracy: 0.8073 - val_loss: 1.4588 - val_categorical_accuracy: 0.8854\n",
      "Epoch 71/200\n",
      "12/12 [==============================] - 1s 43ms/step - loss: 0.6140 - categorical_accuracy: 0.9167 - val_loss: 0.6512 - val_categorical_accuracy: 0.8958\n",
      "Epoch 72/200\n",
      "12/12 [==============================] - 1s 46ms/step - loss: 0.3931 - categorical_accuracy: 0.9401 - val_loss: 0.6993 - val_categorical_accuracy: 0.9479\n",
      "Epoch 73/200\n",
      "12/12 [==============================] - 1s 46ms/step - loss: 0.2126 - categorical_accuracy: 0.9401 - val_loss: 0.6181 - val_categorical_accuracy: 0.9688\n",
      "Epoch 74/200\n",
      "12/12 [==============================] - 1s 48ms/step - loss: 0.2429 - categorical_accuracy: 0.9505 - val_loss: 0.4909 - val_categorical_accuracy: 0.9583\n",
      "Epoch 75/200\n",
      "12/12 [==============================] - 1s 42ms/step - loss: 0.1876 - categorical_accuracy: 0.9557 - val_loss: 0.5292 - val_categorical_accuracy: 0.9583\n",
      "Epoch 76/200\n",
      "12/12 [==============================] - 1s 45ms/step - loss: 0.2331 - categorical_accuracy: 0.9479 - val_loss: 0.5385 - val_categorical_accuracy: 0.9375\n",
      "Epoch 77/200\n",
      "12/12 [==============================] - 1s 47ms/step - loss: 0.1823 - categorical_accuracy: 0.9609 - val_loss: 0.5036 - val_categorical_accuracy: 0.9583\n",
      "Epoch 78/200\n",
      "12/12 [==============================] - 1s 50ms/step - loss: 0.1783 - categorical_accuracy: 0.9531 - val_loss: 0.5059 - val_categorical_accuracy: 0.9583\n",
      "Epoch 79/200\n",
      "12/12 [==============================] - 1s 47ms/step - loss: 0.2231 - categorical_accuracy: 0.9349 - val_loss: 0.5866 - val_categorical_accuracy: 0.9375\n",
      "Epoch 80/200\n",
      "12/12 [==============================] - 1s 46ms/step - loss: 0.3448 - categorical_accuracy: 0.9167 - val_loss: 1.0411 - val_categorical_accuracy: 0.9062\n",
      "Epoch 81/200\n",
      "12/12 [==============================] - 1s 44ms/step - loss: 0.2931 - categorical_accuracy: 0.9427 - val_loss: 0.5409 - val_categorical_accuracy: 0.9479\n",
      "Epoch 82/200\n",
      "12/12 [==============================] - 1s 44ms/step - loss: 0.2067 - categorical_accuracy: 0.9557 - val_loss: 0.4146 - val_categorical_accuracy: 0.9688\n",
      "Epoch 83/200\n",
      "12/12 [==============================] - 1s 45ms/step - loss: 0.1965 - categorical_accuracy: 0.9609 - val_loss: 0.5091 - val_categorical_accuracy: 0.9688\n",
      "Epoch 84/200\n",
      "12/12 [==============================] - 1s 46ms/step - loss: 0.2823 - categorical_accuracy: 0.9323 - val_loss: 0.5934 - val_categorical_accuracy: 0.9375\n",
      "Epoch 85/200\n",
      "12/12 [==============================] - 1s 47ms/step - loss: 0.2263 - categorical_accuracy: 0.9427 - val_loss: 0.5405 - val_categorical_accuracy: 0.8854\n",
      "Epoch 86/200\n",
      "12/12 [==============================] - 1s 43ms/step - loss: 0.5268 - categorical_accuracy: 0.9349 - val_loss: 0.5464 - val_categorical_accuracy: 0.9271\n",
      "Epoch 87/200\n",
      "12/12 [==============================] - 1s 45ms/step - loss: 0.2432 - categorical_accuracy: 0.9297 - val_loss: 0.5685 - val_categorical_accuracy: 0.9792\n",
      "Epoch 88/200\n",
      "12/12 [==============================] - 1s 44ms/step - loss: 0.1542 - categorical_accuracy: 0.9479 - val_loss: 0.8145 - val_categorical_accuracy: 0.9792\n",
      "Epoch 89/200\n",
      "12/12 [==============================] - 1s 45ms/step - loss: 0.1954 - categorical_accuracy: 0.9427 - val_loss: 0.7022 - val_categorical_accuracy: 0.9792\n",
      "Epoch 90/200\n",
      "12/12 [==============================] - 1s 47ms/step - loss: 0.1665 - categorical_accuracy: 0.9557 - val_loss: 0.5661 - val_categorical_accuracy: 0.9583\n",
      "Epoch 91/200\n",
      "12/12 [==============================] - 1s 43ms/step - loss: 0.1734 - categorical_accuracy: 0.9479 - val_loss: 0.4768 - val_categorical_accuracy: 0.9688\n",
      "Epoch 92/200\n",
      "12/12 [==============================] - 1s 46ms/step - loss: 0.1139 - categorical_accuracy: 0.9531 - val_loss: 0.3512 - val_categorical_accuracy: 0.9688\n",
      "Epoch 93/200\n",
      "12/12 [==============================] - 1s 42ms/step - loss: 0.1207 - categorical_accuracy: 0.9609 - val_loss: 0.4703 - val_categorical_accuracy: 0.9792\n",
      "Epoch 94/200\n",
      "12/12 [==============================] - 1s 46ms/step - loss: 0.1123 - categorical_accuracy: 0.9635 - val_loss: 0.4653 - val_categorical_accuracy: 0.9583\n",
      "Epoch 95/200\n",
      "12/12 [==============================] - 1s 44ms/step - loss: 0.1838 - categorical_accuracy: 0.9479 - val_loss: 0.5158 - val_categorical_accuracy: 0.9167\n",
      "Epoch 96/200\n",
      "12/12 [==============================] - 1s 47ms/step - loss: 0.0974 - categorical_accuracy: 0.9714 - val_loss: 0.4184 - val_categorical_accuracy: 0.9792\n",
      "Epoch 97/200\n",
      "12/12 [==============================] - 1s 44ms/step - loss: 0.0834 - categorical_accuracy: 0.9688 - val_loss: 0.6320 - val_categorical_accuracy: 0.8958\n",
      "Epoch 98/200\n",
      "12/12 [==============================] - 1s 45ms/step - loss: 0.1503 - categorical_accuracy: 0.9557 - val_loss: 0.5807 - val_categorical_accuracy: 0.9167\n"
     ]
    },
    {
     "name": "stdout",
     "output_type": "stream",
     "text": [
      "Epoch 99/200\n",
      "12/12 [==============================] - 1s 42ms/step - loss: 0.1252 - categorical_accuracy: 0.9661 - val_loss: 0.5622 - val_categorical_accuracy: 0.9167\n",
      "Epoch 100/200\n",
      "12/12 [==============================] - 1s 47ms/step - loss: 0.1127 - categorical_accuracy: 0.9740 - val_loss: 0.4758 - val_categorical_accuracy: 0.9688\n",
      "Epoch 101/200\n",
      "12/12 [==============================] - 1s 45ms/step - loss: 0.0735 - categorical_accuracy: 0.9740 - val_loss: 0.4357 - val_categorical_accuracy: 0.9792\n",
      "Epoch 102/200\n",
      "12/12 [==============================] - 1s 44ms/step - loss: 0.1126 - categorical_accuracy: 0.9714 - val_loss: 0.4554 - val_categorical_accuracy: 0.9792\n",
      "Epoch 103/200\n",
      "12/12 [==============================] - 1s 43ms/step - loss: 0.1288 - categorical_accuracy: 0.9505 - val_loss: 0.4671 - val_categorical_accuracy: 0.9792\n",
      "Epoch 104/200\n",
      "12/12 [==============================] - 1s 44ms/step - loss: 0.1032 - categorical_accuracy: 0.9740 - val_loss: 0.4758 - val_categorical_accuracy: 0.9792\n",
      "Epoch 105/200\n",
      "12/12 [==============================] - 1s 44ms/step - loss: 0.1345 - categorical_accuracy: 0.9635 - val_loss: 0.7078 - val_categorical_accuracy: 0.9062\n",
      "Epoch 106/200\n",
      "12/12 [==============================] - 1s 45ms/step - loss: 0.5624 - categorical_accuracy: 0.9115 - val_loss: 0.4996 - val_categorical_accuracy: 0.9688\n",
      "Epoch 107/200\n",
      "12/12 [==============================] - 1s 45ms/step - loss: 0.1655 - categorical_accuracy: 0.9505 - val_loss: 0.4734 - val_categorical_accuracy: 0.9688\n",
      "Epoch 108/200\n",
      "12/12 [==============================] - 1s 44ms/step - loss: 0.3501 - categorical_accuracy: 0.9349 - val_loss: 0.5820 - val_categorical_accuracy: 0.9479\n",
      "Epoch 109/200\n",
      "12/12 [==============================] - 1s 48ms/step - loss: 0.2930 - categorical_accuracy: 0.9401 - val_loss: 0.4078 - val_categorical_accuracy: 0.9688\n",
      "Epoch 110/200\n",
      "12/12 [==============================] - 1s 44ms/step - loss: 0.1716 - categorical_accuracy: 0.9583 - val_loss: 1.0529 - val_categorical_accuracy: 0.8854\n",
      "Epoch 111/200\n",
      "12/12 [==============================] - 1s 47ms/step - loss: 0.2400 - categorical_accuracy: 0.9531 - val_loss: 0.4739 - val_categorical_accuracy: 0.9583\n",
      "Epoch 112/200\n",
      "12/12 [==============================] - 1s 45ms/step - loss: 0.1214 - categorical_accuracy: 0.9635 - val_loss: 0.4802 - val_categorical_accuracy: 0.9792\n",
      "Epoch 113/200\n",
      "12/12 [==============================] - 1s 44ms/step - loss: 0.0548 - categorical_accuracy: 0.9740 - val_loss: 0.5567 - val_categorical_accuracy: 0.9688\n",
      "Epoch 114/200\n",
      "12/12 [==============================] - 1s 44ms/step - loss: 0.0601 - categorical_accuracy: 0.9766 - val_loss: 0.5039 - val_categorical_accuracy: 0.9688\n",
      "Epoch 115/200\n",
      "12/12 [==============================] - 1s 45ms/step - loss: 0.0542 - categorical_accuracy: 0.9844 - val_loss: 0.5084 - val_categorical_accuracy: 0.9792\n",
      "Epoch 116/200\n",
      "12/12 [==============================] - 1s 47ms/step - loss: 0.1297 - categorical_accuracy: 0.9609 - val_loss: 0.5890 - val_categorical_accuracy: 0.9792\n",
      "Epoch 117/200\n",
      "12/12 [==============================] - 1s 45ms/step - loss: 0.2312 - categorical_accuracy: 0.9505 - val_loss: 0.4513 - val_categorical_accuracy: 0.9688\n",
      "Epoch 118/200\n",
      "12/12 [==============================] - 1s 45ms/step - loss: 0.0893 - categorical_accuracy: 0.9766 - val_loss: 0.6755 - val_categorical_accuracy: 0.9479\n",
      "Epoch 119/200\n",
      "12/12 [==============================] - 1s 43ms/step - loss: 0.1836 - categorical_accuracy: 0.9453 - val_loss: 1.1954 - val_categorical_accuracy: 0.8646\n",
      "Epoch 120/200\n",
      "12/12 [==============================] - 1s 45ms/step - loss: 0.1779 - categorical_accuracy: 0.9479 - val_loss: 0.8423 - val_categorical_accuracy: 0.8958\n",
      "Epoch 121/200\n",
      "12/12 [==============================] - 1s 42ms/step - loss: 0.2199 - categorical_accuracy: 0.9479 - val_loss: 0.6648 - val_categorical_accuracy: 0.9479\n",
      "Epoch 122/200\n",
      "12/12 [==============================] - 1s 48ms/step - loss: 0.0818 - categorical_accuracy: 0.9714 - val_loss: 0.5940 - val_categorical_accuracy: 0.9479\n",
      "Epoch 123/200\n",
      "12/12 [==============================] - 1s 44ms/step - loss: 0.0712 - categorical_accuracy: 0.9766 - val_loss: 0.5172 - val_categorical_accuracy: 0.9792\n",
      "Epoch 124/200\n",
      "12/12 [==============================] - 1s 44ms/step - loss: 0.0667 - categorical_accuracy: 0.9818 - val_loss: 0.5303 - val_categorical_accuracy: 0.9792\n",
      "Epoch 125/200\n",
      "12/12 [==============================] - 1s 44ms/step - loss: 0.0992 - categorical_accuracy: 0.9688 - val_loss: 0.6046 - val_categorical_accuracy: 0.9479\n",
      "Epoch 126/200\n",
      "12/12 [==============================] - 1s 44ms/step - loss: 0.1989 - categorical_accuracy: 0.9479 - val_loss: 0.5512 - val_categorical_accuracy: 0.9688\n",
      "Epoch 127/200\n",
      "12/12 [==============================] - 1s 44ms/step - loss: 0.0994 - categorical_accuracy: 0.9766 - val_loss: 0.4837 - val_categorical_accuracy: 0.9792\n",
      "Epoch 128/200\n",
      "12/12 [==============================] - 1s 46ms/step - loss: 0.0953 - categorical_accuracy: 0.9714 - val_loss: 0.4958 - val_categorical_accuracy: 0.9792\n",
      "Epoch 129/200\n",
      "12/12 [==============================] - 1s 43ms/step - loss: 0.0574 - categorical_accuracy: 0.9792 - val_loss: 0.5115 - val_categorical_accuracy: 0.9792\n",
      "Epoch 130/200\n",
      "12/12 [==============================] - 1s 43ms/step - loss: 0.0572 - categorical_accuracy: 0.9844 - val_loss: 0.5145 - val_categorical_accuracy: 0.9792\n",
      "Epoch 131/200\n",
      "12/12 [==============================] - 1s 45ms/step - loss: 0.1854 - categorical_accuracy: 0.9531 - val_loss: 0.4942 - val_categorical_accuracy: 0.9688\n",
      "Epoch 132/200\n",
      "12/12 [==============================] - 1s 43ms/step - loss: 0.2104 - categorical_accuracy: 0.9531 - val_loss: 0.5069 - val_categorical_accuracy: 0.9688\n",
      "Epoch 133/200\n",
      "12/12 [==============================] - 1s 48ms/step - loss: 0.2009 - categorical_accuracy: 0.9401 - val_loss: 0.5045 - val_categorical_accuracy: 0.9792\n",
      "Epoch 134/200\n",
      "12/12 [==============================] - 1s 44ms/step - loss: 0.1039 - categorical_accuracy: 0.9583 - val_loss: 0.5052 - val_categorical_accuracy: 0.9792\n",
      "Epoch 135/200\n",
      "12/12 [==============================] - 1s 44ms/step - loss: 0.1059 - categorical_accuracy: 0.9635 - val_loss: 0.5223 - val_categorical_accuracy: 0.9792\n",
      "Epoch 136/200\n",
      "12/12 [==============================] - 1s 43ms/step - loss: 0.0926 - categorical_accuracy: 0.9714 - val_loss: 0.5805 - val_categorical_accuracy: 0.9792\n",
      "Epoch 137/200\n",
      "12/12 [==============================] - 1s 44ms/step - loss: 0.1229 - categorical_accuracy: 0.9557 - val_loss: 0.5446 - val_categorical_accuracy: 0.9792\n",
      "Epoch 138/200\n",
      "12/12 [==============================] - 1s 46ms/step - loss: 0.0753 - categorical_accuracy: 0.9766 - val_loss: 0.5677 - val_categorical_accuracy: 0.9792\n",
      "Epoch 139/200\n",
      "12/12 [==============================] - 1s 46ms/step - loss: 0.1174 - categorical_accuracy: 0.9688 - val_loss: 0.6011 - val_categorical_accuracy: 0.9792\n",
      "Epoch 140/200\n",
      "12/12 [==============================] - 1s 43ms/step - loss: 0.1924 - categorical_accuracy: 0.9557 - val_loss: 0.5432 - val_categorical_accuracy: 0.9792\n",
      "Epoch 141/200\n",
      "12/12 [==============================] - 1s 44ms/step - loss: 0.3418 - categorical_accuracy: 0.9531 - val_loss: 0.5687 - val_categorical_accuracy: 0.9896\n",
      "Epoch 142/200\n",
      "12/12 [==============================] - 1s 45ms/step - loss: 0.0999 - categorical_accuracy: 0.9766 - val_loss: 0.5488 - val_categorical_accuracy: 0.9792\n",
      "Epoch 143/200\n",
      "12/12 [==============================] - 1s 43ms/step - loss: 0.1379 - categorical_accuracy: 0.9661 - val_loss: 0.3829 - val_categorical_accuracy: 0.9792\n",
      "Epoch 144/200\n",
      "12/12 [==============================] - 1s 48ms/step - loss: 0.0989 - categorical_accuracy: 0.9688 - val_loss: 0.5272 - val_categorical_accuracy: 0.9479\n",
      "Epoch 145/200\n",
      "12/12 [==============================] - 1s 43ms/step - loss: 0.2303 - categorical_accuracy: 0.9557 - val_loss: 0.4363 - val_categorical_accuracy: 0.9688\n",
      "Epoch 146/200\n",
      "12/12 [==============================] - 1s 46ms/step - loss: 0.1923 - categorical_accuracy: 0.9661 - val_loss: 0.3437 - val_categorical_accuracy: 0.9792\n",
      "Epoch 147/200\n",
      "12/12 [==============================] - 1s 41ms/step - loss: 0.0989 - categorical_accuracy: 0.9714 - val_loss: 0.3494 - val_categorical_accuracy: 0.9688\n"
     ]
    },
    {
     "name": "stdout",
     "output_type": "stream",
     "text": [
      "Epoch 148/200\n",
      "12/12 [==============================] - 1s 45ms/step - loss: 0.0501 - categorical_accuracy: 0.9870 - val_loss: 0.3356 - val_categorical_accuracy: 0.9792\n",
      "Epoch 149/200\n",
      "12/12 [==============================] - 1s 44ms/step - loss: 0.0949 - categorical_accuracy: 0.9766 - val_loss: 0.3614 - val_categorical_accuracy: 0.9792\n",
      "Epoch 150/200\n",
      "12/12 [==============================] - 1s 47ms/step - loss: 0.0567 - categorical_accuracy: 0.9792 - val_loss: 0.3591 - val_categorical_accuracy: 0.9896\n",
      "Epoch 151/200\n",
      "12/12 [==============================] - 1s 42ms/step - loss: 0.0750 - categorical_accuracy: 0.9740 - val_loss: 0.3964 - val_categorical_accuracy: 0.9583\n",
      "Epoch 152/200\n",
      "12/12 [==============================] - 1s 44ms/step - loss: 0.0559 - categorical_accuracy: 0.9818 - val_loss: 0.4699 - val_categorical_accuracy: 0.9479\n",
      "Epoch 153/200\n",
      "12/12 [==============================] - 1s 42ms/step - loss: 0.0540 - categorical_accuracy: 0.9844 - val_loss: 0.4137 - val_categorical_accuracy: 0.9792\n",
      "Epoch 154/200\n",
      "12/12 [==============================] - 1s 45ms/step - loss: 0.0836 - categorical_accuracy: 0.9740 - val_loss: 0.3673 - val_categorical_accuracy: 0.9792\n",
      "Epoch 155/200\n",
      "12/12 [==============================] - 1s 46ms/step - loss: 0.0937 - categorical_accuracy: 0.9688 - val_loss: 0.4279 - val_categorical_accuracy: 0.9792\n",
      "Epoch 156/200\n",
      "12/12 [==============================] - 1s 44ms/step - loss: 0.1011 - categorical_accuracy: 0.9740 - val_loss: 0.4239 - val_categorical_accuracy: 0.9792\n",
      "Epoch 157/200\n",
      "12/12 [==============================] - 1s 46ms/step - loss: 0.0492 - categorical_accuracy: 0.9818 - val_loss: 0.4013 - val_categorical_accuracy: 0.9896\n",
      "Epoch 158/200\n",
      "12/12 [==============================] - 1s 43ms/step - loss: 0.0337 - categorical_accuracy: 0.9870 - val_loss: 0.4271 - val_categorical_accuracy: 0.9792\n",
      "Epoch 159/200\n",
      "12/12 [==============================] - 1s 45ms/step - loss: 0.1713 - categorical_accuracy: 0.9557 - val_loss: 0.6487 - val_categorical_accuracy: 0.9167\n",
      "Epoch 160/200\n",
      "12/12 [==============================] - 1s 45ms/step - loss: 0.3797 - categorical_accuracy: 0.9271 - val_loss: 0.7558 - val_categorical_accuracy: 0.9167\n",
      "Epoch 161/200\n",
      "12/12 [==============================] - 1s 46ms/step - loss: 0.2489 - categorical_accuracy: 0.9479 - val_loss: 0.4516 - val_categorical_accuracy: 0.9792\n",
      "Epoch 162/200\n",
      "12/12 [==============================] - 1s 42ms/step - loss: 0.2360 - categorical_accuracy: 0.9505 - val_loss: 0.4558 - val_categorical_accuracy: 0.9792\n",
      "Epoch 163/200\n",
      "12/12 [==============================] - 1s 44ms/step - loss: 0.2126 - categorical_accuracy: 0.9714 - val_loss: 0.6440 - val_categorical_accuracy: 0.9792\n",
      "Epoch 164/200\n",
      "12/12 [==============================] - 1s 43ms/step - loss: 0.2267 - categorical_accuracy: 0.9427 - val_loss: 0.5373 - val_categorical_accuracy: 0.9792\n",
      "Epoch 165/200\n",
      "12/12 [==============================] - 1s 45ms/step - loss: 0.1228 - categorical_accuracy: 0.9661 - val_loss: 0.5115 - val_categorical_accuracy: 0.9792\n",
      "Epoch 166/200\n",
      "12/12 [==============================] - 1s 46ms/step - loss: 0.0568 - categorical_accuracy: 0.9740 - val_loss: 0.4796 - val_categorical_accuracy: 0.9583\n",
      "Epoch 167/200\n",
      "12/12 [==============================] - 1s 43ms/step - loss: 0.1318 - categorical_accuracy: 0.9688 - val_loss: 0.5932 - val_categorical_accuracy: 0.9792\n",
      "Epoch 168/200\n",
      "12/12 [==============================] - 1s 45ms/step - loss: 0.1580 - categorical_accuracy: 0.9635 - val_loss: 0.5172 - val_categorical_accuracy: 0.9583\n",
      "Epoch 169/200\n",
      "12/12 [==============================] - 1s 43ms/step - loss: 0.1412 - categorical_accuracy: 0.9661 - val_loss: 0.5775 - val_categorical_accuracy: 0.9479\n",
      "Epoch 170/200\n",
      "12/12 [==============================] - 1s 43ms/step - loss: 0.0847 - categorical_accuracy: 0.9740 - val_loss: 0.4121 - val_categorical_accuracy: 0.9792\n",
      "Epoch 171/200\n",
      "12/12 [==============================] - 1s 46ms/step - loss: 0.0954 - categorical_accuracy: 0.9766 - val_loss: 0.4099 - val_categorical_accuracy: 0.9792\n",
      "Epoch 172/200\n",
      "12/12 [==============================] - 1s 46ms/step - loss: 0.0554 - categorical_accuracy: 0.9818 - val_loss: 0.4254 - val_categorical_accuracy: 0.9792\n",
      "Epoch 173/200\n",
      "12/12 [==============================] - 1s 42ms/step - loss: 0.1291 - categorical_accuracy: 0.9740 - val_loss: 0.6030 - val_categorical_accuracy: 0.9479\n",
      "Epoch 174/200\n",
      "12/12 [==============================] - 1s 44ms/step - loss: 0.0667 - categorical_accuracy: 0.9792 - val_loss: 0.4585 - val_categorical_accuracy: 0.9896\n",
      "Epoch 175/200\n",
      "12/12 [==============================] - 1s 42ms/step - loss: 0.0587 - categorical_accuracy: 0.9792 - val_loss: 0.5524 - val_categorical_accuracy: 0.9583\n",
      "Epoch 176/200\n",
      "12/12 [==============================] - 1s 47ms/step - loss: 0.1033 - categorical_accuracy: 0.9740 - val_loss: 1.2736 - val_categorical_accuracy: 0.8542\n",
      "Epoch 177/200\n",
      "12/12 [==============================] - 1s 44ms/step - loss: 0.3245 - categorical_accuracy: 0.9557 - val_loss: 0.8579 - val_categorical_accuracy: 0.8958\n",
      "Epoch 178/200\n",
      "12/12 [==============================] - 1s 45ms/step - loss: 0.2007 - categorical_accuracy: 0.9557 - val_loss: 0.5774 - val_categorical_accuracy: 0.9583\n",
      "Epoch 179/200\n",
      "12/12 [==============================] - 1s 41ms/step - loss: 0.0645 - categorical_accuracy: 0.9740 - val_loss: 0.5393 - val_categorical_accuracy: 0.9792\n",
      "Epoch 180/200\n",
      "12/12 [==============================] - 1s 44ms/step - loss: 0.1344 - categorical_accuracy: 0.9740 - val_loss: 0.5280 - val_categorical_accuracy: 0.9792\n",
      "Epoch 181/200\n",
      "12/12 [==============================] - 1s 43ms/step - loss: 0.0422 - categorical_accuracy: 0.9870 - val_loss: 0.4851 - val_categorical_accuracy: 0.9792\n",
      "Epoch 182/200\n",
      "12/12 [==============================] - 1s 46ms/step - loss: 0.0667 - categorical_accuracy: 0.9818 - val_loss: 0.4903 - val_categorical_accuracy: 0.9792\n",
      "Epoch 183/200\n",
      "12/12 [==============================] - 1s 45ms/step - loss: 0.0344 - categorical_accuracy: 0.9844 - val_loss: 0.5266 - val_categorical_accuracy: 0.9792\n",
      "Epoch 184/200\n",
      "12/12 [==============================] - 1s 43ms/step - loss: 0.0566 - categorical_accuracy: 0.9870 - val_loss: 0.5072 - val_categorical_accuracy: 0.9792\n",
      "Epoch 185/200\n",
      "12/12 [==============================] - 1s 43ms/step - loss: 0.0519 - categorical_accuracy: 0.9792 - val_loss: 0.5623 - val_categorical_accuracy: 0.9792\n",
      "Epoch 186/200\n",
      "12/12 [==============================] - 1s 42ms/step - loss: 0.1113 - categorical_accuracy: 0.9740 - val_loss: 0.5136 - val_categorical_accuracy: 0.9792\n",
      "Epoch 187/200\n",
      "12/12 [==============================] - 1s 47ms/step - loss: 0.0638 - categorical_accuracy: 0.9714 - val_loss: 0.5150 - val_categorical_accuracy: 0.9792\n",
      "Epoch 188/200\n",
      "12/12 [==============================] - 1s 45ms/step - loss: 0.1030 - categorical_accuracy: 0.9740 - val_loss: 0.5115 - val_categorical_accuracy: 0.9792\n",
      "Epoch 189/200\n",
      "12/12 [==============================] - 1s 45ms/step - loss: 0.1368 - categorical_accuracy: 0.9661 - val_loss: 0.5177 - val_categorical_accuracy: 0.9792\n",
      "Epoch 190/200\n",
      "12/12 [==============================] - 1s 43ms/step - loss: 0.1483 - categorical_accuracy: 0.9792 - val_loss: 0.8163 - val_categorical_accuracy: 0.9688\n",
      "Epoch 191/200\n",
      "12/12 [==============================] - 1s 47ms/step - loss: 0.1802 - categorical_accuracy: 0.9714 - val_loss: 0.6653 - val_categorical_accuracy: 0.9688\n",
      "Epoch 192/200\n",
      "12/12 [==============================] - 1s 43ms/step - loss: 0.2819 - categorical_accuracy: 0.9505 - val_loss: 1.1232 - val_categorical_accuracy: 0.9271\n",
      "Epoch 193/200\n",
      "12/12 [==============================] - 1s 47ms/step - loss: 0.3097 - categorical_accuracy: 0.9297 - val_loss: 1.0584 - val_categorical_accuracy: 0.9375\n",
      "Epoch 194/200\n",
      "12/12 [==============================] - 1s 45ms/step - loss: 0.3594 - categorical_accuracy: 0.9427 - val_loss: 1.2249 - val_categorical_accuracy: 0.9167\n",
      "Epoch 195/200\n",
      "12/12 [==============================] - 1s 42ms/step - loss: 0.3639 - categorical_accuracy: 0.9505 - val_loss: 0.8389 - val_categorical_accuracy: 0.9896\n",
      "Epoch 196/200\n",
      "12/12 [==============================] - 1s 43ms/step - loss: 0.2647 - categorical_accuracy: 0.9609 - val_loss: 0.9232 - val_categorical_accuracy: 0.9479\n"
     ]
    },
    {
     "name": "stdout",
     "output_type": "stream",
     "text": [
      "Epoch 197/200\n",
      "12/12 [==============================] - 1s 42ms/step - loss: 0.2235 - categorical_accuracy: 0.9609 - val_loss: 0.6419 - val_categorical_accuracy: 0.9792\n",
      "Epoch 198/200\n",
      "12/12 [==============================] - 1s 47ms/step - loss: 0.2102 - categorical_accuracy: 0.9740 - val_loss: 1.6512 - val_categorical_accuracy: 0.8333\n",
      "Epoch 199/200\n",
      "12/12 [==============================] - 1s 44ms/step - loss: 0.3879 - categorical_accuracy: 0.9427 - val_loss: 0.8215 - val_categorical_accuracy: 0.9375\n",
      "Epoch 200/200\n",
      "12/12 [==============================] - 1s 45ms/step - loss: 0.1989 - categorical_accuracy: 0.9740 - val_loss: 0.8027 - val_categorical_accuracy: 0.9792\n"
     ]
    }
   ],
   "source": [
    "learn = model.fit(\n",
    "    x_train, \n",
    "    y_train, \n",
    "    validation_data = (x_test, y_test), \n",
    "    epochs = 200, \n",
    "    callbacks = [tb_callbacks]\n",
    ")"
   ]
  },
  {
   "cell_type": "code",
   "execution_count": 67,
   "id": "18895e39",
   "metadata": {},
   "outputs": [],
   "source": [
    "# model.save('SingleFixed.h5')"
   ]
  },
  {
   "cell_type": "code",
   "execution_count": 56,
   "id": "6cb8e062",
   "metadata": {},
   "outputs": [
    {
     "data": {
      "image/png": "[encoded data removed]",
      "text/plain": [
       "<Figure size 720x360 with 1 Axes>"
      ]
     },
     "metadata": {
      "needs_background": "light"
     },
     "output_type": "display_data"
    }
   ],
   "source": [
    "fig, loss_graph = plt.subplots(figsize=(10, 5))\n",
    "# acc_ax = loss_ax.twinx()\n",
    "\n",
    "loss_graph.plot(learn.history['loss'], 'y', label='train loss')\n",
    "loss_graph.plot(learn.history['val_loss'], 'b', label='val loss')\n",
    "loss_graph.set_xlabel('epoch')\n",
    "loss_graph.set_ylabel('loss')\n",
    "loss_graph.legend(loc = 'upper right')\n",
    "plt.savefig('SingleFixed_loss_plot_curve.jpg')\n",
    "plt.show()"
   ]
  },
  {
   "cell_type": "code",
   "execution_count": 57,
   "id": "2ccc18e0",
   "metadata": {},
   "outputs": [
    {
     "data": {
      "image/png": "[encoded data removed]",
      "text/plain": [
       "<Figure size 720x360 with 1 Axes>"
      ]
     },
     "metadata": {
      "needs_background": "light"
     },
     "output_type": "display_data"
    }
   ],
   "source": [
    "fig, acc_graph = plt.subplots(figsize = (10, 5))\n",
    "\n",
    "acc_graph.plot(learn.history['categorical_accuracy'], 'b', label='train acc')\n",
    "acc_graph.plot(learn.history['val_categorical_accuracy'], 'g', label='val acc')\n",
    "acc_graph.set_xlabel('epoch')\n",
    "acc_graph.set_ylabel('accuracy')\n",
    "acc_graph.set_ylim([0, 1.5])\n",
    "acc_graph.legend(loc = 'upper left')\n",
    "plt.savefig('SingleFixed_train_plot_curve.jpg')\n",
    "plt.show()"
   ]
  },
  {
   "cell_type": "code",
   "execution_count": 60,
   "id": "e998144c",
   "metadata": {},
   "outputs": [],
   "source": [
    "x_pred = model.predict(x_test)"
   ]
  },
  {
   "cell_type": "code",
   "execution_count": 61,
   "id": "96d6d737",
   "metadata": {},
   "outputs": [],
   "source": [
    "y_true = np.argmax(y_test, axis = 1).tolist()"
   ]
  },
  {
   "cell_type": "code",
   "execution_count": 62,
   "id": "2d0cfea5",
   "metadata": {},
   "outputs": [],
   "source": [
    "x_pred = np.argmax(x_pred, axis = 1).tolist()"
   ]
  },
  {
   "cell_type": "code",
   "execution_count": 63,
   "id": "04a3b7d2",
   "metadata": {},
   "outputs": [
    {
     "data": {
      "text/plain": [
       "[2,\n",
       " 3,\n",
       " 0,\n",
       " 0,\n",
       " 1,\n",
       " 2,\n",
       " 2,\n",
       " 3,\n",
       " 1,\n",
       " 3,\n",
       " 2,\n",
       " 2,\n",
       " 3,\n",
       " 3,\n",
       " 1,\n",
       " 1,\n",
       " 0,\n",
       " 3,\n",
       " 0,\n",
       " 2,\n",
       " 0,\n",
       " 1,\n",
       " 3,\n",
       " 3,\n",
       " 2,\n",
       " 2,\n",
       " 2,\n",
       " 1,\n",
       " 3,\n",
       " 0,\n",
       " 0,\n",
       " 2,\n",
       " 2,\n",
       " 2,\n",
       " 1,\n",
       " 3,\n",
       " 2,\n",
       " 2,\n",
       " 1,\n",
       " 1,\n",
       " 2,\n",
       " 1,\n",
       " 1,\n",
       " 3,\n",
       " 1,\n",
       " 0,\n",
       " 1,\n",
       " 1,\n",
       " 2,\n",
       " 0,\n",
       " 2,\n",
       " 1,\n",
       " 2,\n",
       " 2,\n",
       " 3,\n",
       " 1,\n",
       " 0,\n",
       " 1,\n",
       " 1,\n",
       " 1,\n",
       " 0,\n",
       " 3,\n",
       " 0,\n",
       " 2,\n",
       " 2,\n",
       " 2,\n",
       " 2,\n",
       " 3,\n",
       " 0,\n",
       " 1,\n",
       " 3,\n",
       " 2,\n",
       " 2,\n",
       " 1,\n",
       " 2,\n",
       " 0,\n",
       " 0,\n",
       " 1,\n",
       " 1,\n",
       " 2,\n",
       " 1,\n",
       " 1,\n",
       " 2,\n",
       " 2,\n",
       " 3,\n",
       " 0,\n",
       " 1,\n",
       " 2,\n",
       " 2,\n",
       " 1,\n",
       " 1,\n",
       " 1,\n",
       " 3,\n",
       " 1,\n",
       " 1,\n",
       " 1]"
      ]
     },
     "execution_count": 63,
     "metadata": {},
     "output_type": "execute_result"
    }
   ],
   "source": [
    "x_pred"
   ]
  },
  {
   "cell_type": "code",
   "execution_count": 64,
   "id": "cf427ef5",
   "metadata": {},
   "outputs": [
    {
     "data": {
      "text/plain": [
       "[2,\n",
       " 3,\n",
       " 0,\n",
       " 0,\n",
       " 1,\n",
       " 2,\n",
       " 2,\n",
       " 3,\n",
       " 1,\n",
       " 3,\n",
       " 2,\n",
       " 2,\n",
       " 3,\n",
       " 3,\n",
       " 1,\n",
       " 1,\n",
       " 0,\n",
       " 3,\n",
       " 0,\n",
       " 2,\n",
       " 0,\n",
       " 1,\n",
       " 3,\n",
       " 3,\n",
       " 2,\n",
       " 2,\n",
       " 2,\n",
       " 1,\n",
       " 3,\n",
       " 0,\n",
       " 0,\n",
       " 2,\n",
       " 2,\n",
       " 2,\n",
       " 1,\n",
       " 3,\n",
       " 2,\n",
       " 2,\n",
       " 1,\n",
       " 1,\n",
       " 2,\n",
       " 1,\n",
       " 0,\n",
       " 3,\n",
       " 1,\n",
       " 0,\n",
       " 1,\n",
       " 1,\n",
       " 2,\n",
       " 0,\n",
       " 0,\n",
       " 1,\n",
       " 2,\n",
       " 2,\n",
       " 3,\n",
       " 1,\n",
       " 0,\n",
       " 1,\n",
       " 1,\n",
       " 1,\n",
       " 0,\n",
       " 3,\n",
       " 0,\n",
       " 2,\n",
       " 2,\n",
       " 2,\n",
       " 2,\n",
       " 3,\n",
       " 0,\n",
       " 1,\n",
       " 3,\n",
       " 2,\n",
       " 2,\n",
       " 1,\n",
       " 2,\n",
       " 0,\n",
       " 0,\n",
       " 1,\n",
       " 1,\n",
       " 2,\n",
       " 1,\n",
       " 1,\n",
       " 2,\n",
       " 2,\n",
       " 3,\n",
       " 0,\n",
       " 1,\n",
       " 2,\n",
       " 2,\n",
       " 1,\n",
       " 1,\n",
       " 1,\n",
       " 3,\n",
       " 1,\n",
       " 1,\n",
       " 1]"
      ]
     },
     "execution_count": 64,
     "metadata": {},
     "output_type": "execute_result"
    }
   ],
   "source": [
    "y_true"
   ]
  },
  {
   "cell_type": "code",
   "execution_count": 65,
   "id": "3b2c4b70",
   "metadata": {},
   "outputs": [],
   "source": [
    "mul_conf_mx = multilabel_confusion_matrix(y_true, x_pred)"
   ]
  },
  {
   "cell_type": "code",
   "execution_count": 49,
   "id": "6a9199a1",
   "metadata": {
    "scrolled": true
   },
   "outputs": [
    {
     "data": {
      "text/plain": [
       "array([[[70,  0],\n",
       "        [ 1, 25]],\n",
       "\n",
       "       [[77,  0],\n",
       "        [ 0, 19]],\n",
       "\n",
       "       [[71,  1],\n",
       "        [ 0, 24]],\n",
       "\n",
       "       [[69,  0],\n",
       "        [ 0, 27]]], dtype=int64)"
      ]
     },
     "execution_count": 49,
     "metadata": {},
     "output_type": "execute_result"
    }
   ],
   "source": [
    "mul_conf_mx"
   ]
  },
  {
   "cell_type": "code",
   "execution_count": 50,
   "id": "ec5d6e22",
   "metadata": {},
   "outputs": [],
   "source": [
    "conf_mx = confusion_matrix(y_true, x_pred)"
   ]
  },
  {
   "cell_type": "code",
   "execution_count": 51,
   "id": "c1fcd57a",
   "metadata": {},
   "outputs": [
    {
     "data": {
      "text/plain": [
       "array([[25,  0,  1,  0],\n",
       "       [ 0, 19,  0,  0],\n",
       "       [ 0,  0, 24,  0],\n",
       "       [ 0,  0,  0, 27]], dtype=int64)"
      ]
     },
     "execution_count": 51,
     "metadata": {},
     "output_type": "execute_result"
    }
   ],
   "source": [
    "conf_mx"
   ]
  },
  {
   "cell_type": "code",
   "execution_count": 66,
   "id": "78149874",
   "metadata": {
    "collapsed": true
   },
   "outputs": [
    {
     "data": {
      "text/plain": [
       "0.9791666666666666"
      ]
     },
     "execution_count": 66,
     "metadata": {},
     "output_type": "execute_result"
    }
   ],
   "source": [
    "# accuracy_score(y_true, x_pred)"
   ]
  },
  {
   "cell_type": "code",
   "execution_count": 52,
   "id": "939b2a9f",
   "metadata": {},
   "outputs": [
    {
     "data": {
      "text/plain": [
       "0.9895833333333334"
      ]
     },
     "execution_count": 52,
     "metadata": {},
     "output_type": "execute_result"
    }
   ],
   "source": [
    "accuracy_score(y_true, x_pred)"
   ]
  },
  {
   "cell_type": "code",
   "execution_count": 58,
   "id": "46584419",
   "metadata": {},
   "outputs": [
    {
     "data": {
      "text/plain": [
       "0.9895875016673336"
      ]
     },
     "execution_count": 58,
     "metadata": {},
     "output_type": "execute_result"
    }
   ],
   "source": [
    "f1_score(y_true, x_pred, average = 'weighted')"
   ]
  },
  {
   "cell_type": "code",
   "execution_count": 59,
   "id": "aff21f46",
   "metadata": {},
   "outputs": [
    {
     "name": "stdout",
     "output_type": "stream",
     "text": [
      "[0. 1. 2. 3.]\n"
     ]
    },
    {
     "data": {
      "text/plain": [
       "<Figure size 6480x6480 with 0 Axes>"
      ]
     },
     "execution_count": 59,
     "metadata": {},
     "output_type": "execute_result"
    },
    {
     "data": {
      "image/png": "[encoded data removed]",
      "text/plain": [
       "<Figure size 432x288 with 2 Axes>"
      ]
     },
     "metadata": {
      "needs_background": "light"
     },
     "output_type": "display_data"
    },
    {
     "data": {
      "text/plain": [
       "<Figure size 6480x6480 with 0 Axes>"
      ]
     },
     "metadata": {},
     "output_type": "display_data"
    }
   ],
   "source": [
    "ticks = np.linspace(0, 3, num = 4)\n",
    "print(ticks)\n",
    "# ticks = actions\n",
    "plt.imshow(conf_mx, interpolation = 'none')\n",
    "plt.colorbar()\n",
    "plt.xticks(ticks, fontsize = 6)\n",
    "plt.yticks(ticks, fontsize = 6)\n",
    "plt.savefig('SingleFixed_confusion_matrix.jpg')\n",
    "plt.figure(figsize = (90, 90))"
   ]
  }
 ],
 "metadata": {
  "kernelspec": {
   "display_name": "Python 3 (ipykernel)",
   "language": "python",
   "name": "python3"
  },
  "language_info": {
   "codemirror_mode": {
    "name": "ipython",
    "version": 3
   },
   "file_extension": ".py",
   "mimetype": "text/x-python",
   "name": "python",
   "nbconvert_exporter": "python",
   "pygments_lexer": "ipython3",
   "version": "3.9.7"
  }
 },
 "nbformat": 4,
 "nbformat_minor": 5
}
