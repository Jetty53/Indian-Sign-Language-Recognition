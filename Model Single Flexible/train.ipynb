{
 "cells": [
  {
   "cell_type": "code",
   "execution_count": 1,
   "id": "2f488045",
   "metadata": {},
   "outputs": [],
   "source": [
    "import cv2\n",
    "import numpy as np\n",
    "import os\n",
    "from matplotlib import pyplot as plt\n",
    "import mediapipe as mp\n",
    "\n",
    "from sklearn.model_selection import train_test_split\n",
    "from sklearn.metrics import multilabel_confusion_matrix, accuracy_score, confusion_matrix, f1_score\n",
    "\n",
    "from tensorflow.keras.utils import to_categorical\n",
    "from tensorflow.keras.models import Sequential\n",
    "from tensorflow.keras.layers import LSTM, Dense\n",
    "from tensorflow.keras.callbacks import TensorBoard\n",
    "from tensorflow import keras"
   ]
  },
  {
   "cell_type": "code",
   "execution_count": 2,
   "id": "7bd64a15",
   "metadata": {},
   "outputs": [],
   "source": [
    "mp_holistic = mp.solutions.holistic\n",
    "mp_drawing = mp.solutions.drawing_utils\n",
    "holistic = mp_holistic.Holistic(min_detection_confidence = 0.8, min_tracking_confidence = 0.5)"
   ]
  },
  {
   "cell_type": "code",
   "execution_count": 3,
   "id": "ff01524d",
   "metadata": {},
   "outputs": [],
   "source": [
    "IMAGESET_FOLDER = os.path.join('Imageset')\n",
    "KEYPOINT_FOLDER = os.path.join('Extracted Hand Landmarks')\n",
    "DATASET_FOLDER = os.path.join('Dataset')\n",
    "actions = np.array(['--', 'L', 'name', 'this', 'jayga'])\n",
    "no_sequences = 120\n",
    "no_frames = 30"
   ]
  },
  {
   "cell_type": "code",
   "execution_count": 4,
   "id": "b3b5337e",
   "metadata": {},
   "outputs": [],
   "source": [
    "log_dir = os.path.join('Logs')\n",
    "tb_callbacks = TensorBoard(log_dir = log_dir)"
   ]
  },
  {
   "cell_type": "code",
   "execution_count": 5,
   "id": "d20f47b4",
   "metadata": {},
   "outputs": [],
   "source": [
    "label_map = {label:num for num, label in enumerate(actions)}\n",
    "\n",
    "sequences, labels= [], []\n",
    "for action in range(len(actions)):\n",
    "    for sequence in range(no_sequences):\n",
    "        window = []\n",
    "        for frame_num in range(no_frames):\n",
    "            res = np.load(os.path.join(DATASET_FOLDER, actions[action], str(sequence), \"{}.npy\".format(frame_num)))\n",
    "            window.append(res)\n",
    "        sequences.append(window)\n",
    "        labels.append(label_map[actions[action]])\n",
    "        \n",
    "x = np.array(sequences)\n",
    "y = to_categorical(labels).astype(int)\n",
    "\n",
    "x_train, x_test, y_train, y_test = train_test_split(x, y, test_size = 0.2)\n",
    "# x_train, x_rem, y_train, y_rem = train_test_split(x, y, train_size = 0.8)\n",
    "# x_valid, x_test, y_valid, y_test = train_test_split(x_rem, y_rem, train_size = 0.5)"
   ]
  },
  {
   "cell_type": "code",
   "execution_count": 6,
   "id": "52a389a5",
   "metadata": {},
   "outputs": [
    {
     "data": {
      "text/plain": [
       "(600, 30, 168)"
      ]
     },
     "execution_count": 6,
     "metadata": {},
     "output_type": "execute_result"
    }
   ],
   "source": [
    "x.shape"
   ]
  },
  {
   "cell_type": "code",
   "execution_count": 7,
   "id": "be408803",
   "metadata": {},
   "outputs": [],
   "source": [
    "model = Sequential()\n",
    "model.add(LSTM(64, return_sequences = True, activation = 'relu', input_shape = (30, 168)))\n",
    "model.add(LSTM(128, return_sequences = True, activation = 'relu'))\n",
    "model.add(LSTM(64, return_sequences = False, activation = 'relu'))\n",
    "model.add(Dense(64, activation = 'relu'))\n",
    "model.add(Dense(32, activation = 'relu'))\n",
    "model.add(Dense(actions.shape[0], activation = 'softmax'))\n",
    "model.compile(optimizer = 'Adam', loss = 'categorical_crossentropy', metrics = ['categorical_accuracy'])"
   ]
  },
  {
   "cell_type": "code",
   "execution_count": 8,
   "id": "97d78be6",
   "metadata": {},
   "outputs": [
    {
     "name": "stdout",
     "output_type": "stream",
     "text": [
      "Model: \"sequential\"\n",
      "_________________________________________________________________\n",
      " Layer (type)                Output Shape              Param #   \n",
      "=================================================================\n",
      " lstm (LSTM)                 (None, 30, 64)            59648     \n",
      "                                                                 \n",
      " lstm_1 (LSTM)               (None, 30, 128)           98816     \n",
      "                                                                 \n",
      " lstm_2 (LSTM)               (None, 64)                49408     \n",
      "                                                                 \n",
      " dense (Dense)               (None, 64)                4160      \n",
      "                                                                 \n",
      " dense_1 (Dense)             (None, 32)                2080      \n",
      "                                                                 \n",
      " dense_2 (Dense)             (None, 5)                 165       \n",
      "                                                                 \n",
      "=================================================================\n",
      "Total params: 214,277\n",
      "Trainable params: 214,277\n",
      "Non-trainable params: 0\n",
      "_________________________________________________________________\n"
     ]
    }
   ],
   "source": [
    "model.summary()"
   ]
  },
  {
   "cell_type": "code",
   "execution_count": 17,
   "id": "d83de0fd",
   "metadata": {},
   "outputs": [
    {
     "name": "stdout",
     "output_type": "stream",
     "text": [
      "Epoch 1/200\n",
      "15/15 [==============================] - 2s 93ms/step - loss: 0.0920 - categorical_accuracy: 0.9625 - val_loss: 0.6045 - val_categorical_accuracy: 0.9083\n",
      "Epoch 2/200\n",
      "15/15 [==============================] - 1s 89ms/step - loss: 0.1793 - categorical_accuracy: 0.9354 - val_loss: 0.5769 - val_categorical_accuracy: 0.9250\n",
      "Epoch 3/200\n",
      "15/15 [==============================] - 1s 87ms/step - loss: 0.2124 - categorical_accuracy: 0.9104 - val_loss: 0.6805 - val_categorical_accuracy: 0.8917\n",
      "Epoch 4/200\n",
      "15/15 [==============================] - 1s 87ms/step - loss: 0.1115 - categorical_accuracy: 0.9750 - val_loss: 0.5465 - val_categorical_accuracy: 0.9167\n",
      "Epoch 5/200\n",
      "15/15 [==============================] - 1s 89ms/step - loss: 0.0774 - categorical_accuracy: 0.9812 - val_loss: 0.5762 - val_categorical_accuracy: 0.9583\n",
      "Epoch 6/200\n",
      "15/15 [==============================] - 1s 87ms/step - loss: 0.0721 - categorical_accuracy: 0.9833 - val_loss: 0.7203 - val_categorical_accuracy: 0.9083\n",
      "Epoch 7/200\n",
      "15/15 [==============================] - 1s 87ms/step - loss: 0.1573 - categorical_accuracy: 0.9417 - val_loss: 0.6233 - val_categorical_accuracy: 0.9500\n",
      "Epoch 8/200\n",
      "15/15 [==============================] - 1s 88ms/step - loss: 0.0752 - categorical_accuracy: 0.9750 - val_loss: 0.6170 - val_categorical_accuracy: 0.9500\n",
      "Epoch 9/200\n",
      "15/15 [==============================] - 1s 85ms/step - loss: 0.0657 - categorical_accuracy: 0.9833 - val_loss: 0.6200 - val_categorical_accuracy: 0.9333\n",
      "Epoch 10/200\n",
      "15/15 [==============================] - 1s 89ms/step - loss: 0.0542 - categorical_accuracy: 0.9833 - val_loss: 0.6116 - val_categorical_accuracy: 0.9583\n",
      "Epoch 11/200\n",
      "15/15 [==============================] - 1s 87ms/step - loss: 0.0525 - categorical_accuracy: 0.9875 - val_loss: 0.6430 - val_categorical_accuracy: 0.9417\n",
      "Epoch 12/200\n",
      "15/15 [==============================] - 1s 89ms/step - loss: 0.0791 - categorical_accuracy: 0.9750 - val_loss: 0.6316 - val_categorical_accuracy: 0.9500\n",
      "Epoch 13/200\n",
      "15/15 [==============================] - 1s 88ms/step - loss: 0.0599 - categorical_accuracy: 0.9812 - val_loss: 0.6544 - val_categorical_accuracy: 0.9500\n",
      "Epoch 14/200\n",
      "15/15 [==============================] - 1s 86ms/step - loss: 0.0661 - categorical_accuracy: 0.9771 - val_loss: 0.6550 - val_categorical_accuracy: 0.9500\n",
      "Epoch 15/200\n",
      "15/15 [==============================] - 1s 88ms/step - loss: 0.1005 - categorical_accuracy: 0.9625 - val_loss: 0.6844 - val_categorical_accuracy: 0.9167\n",
      "Epoch 16/200\n",
      "15/15 [==============================] - 1s 88ms/step - loss: 0.0425 - categorical_accuracy: 0.9896 - val_loss: 0.6756 - val_categorical_accuracy: 0.9500\n",
      "Epoch 17/200\n",
      "15/15 [==============================] - 1s 85ms/step - loss: 0.0433 - categorical_accuracy: 0.9854 - val_loss: 0.6515 - val_categorical_accuracy: 0.9500\n",
      "Epoch 18/200\n",
      "15/15 [==============================] - 1s 88ms/step - loss: 0.0593 - categorical_accuracy: 0.9792 - val_loss: 0.5371 - val_categorical_accuracy: 0.9500\n",
      "Epoch 19/200\n",
      "15/15 [==============================] - 1s 88ms/step - loss: 0.0839 - categorical_accuracy: 0.9750 - val_loss: 0.4961 - val_categorical_accuracy: 0.9500\n",
      "Epoch 20/200\n",
      "15/15 [==============================] - 1s 87ms/step - loss: 0.1464 - categorical_accuracy: 0.9458 - val_loss: 0.5968 - val_categorical_accuracy: 0.9167\n",
      "Epoch 21/200\n",
      "15/15 [==============================] - 1s 88ms/step - loss: 0.0784 - categorical_accuracy: 0.9792 - val_loss: 0.5384 - val_categorical_accuracy: 0.9083\n",
      "Epoch 22/200\n",
      "15/15 [==============================] - 1s 86ms/step - loss: 0.0748 - categorical_accuracy: 0.9750 - val_loss: 0.5117 - val_categorical_accuracy: 0.9167\n",
      "Epoch 23/200\n",
      "15/15 [==============================] - 1s 87ms/step - loss: 0.0404 - categorical_accuracy: 0.9937 - val_loss: 0.5119 - val_categorical_accuracy: 0.9583\n",
      "Epoch 24/200\n",
      "15/15 [==============================] - 1s 88ms/step - loss: 0.0555 - categorical_accuracy: 0.9708 - val_loss: 0.5580 - val_categorical_accuracy: 0.9417\n",
      "Epoch 25/200\n",
      "15/15 [==============================] - 1s 86ms/step - loss: 0.0542 - categorical_accuracy: 0.9833 - val_loss: 0.5223 - val_categorical_accuracy: 0.9500\n",
      "Epoch 26/200\n",
      "15/15 [==============================] - 1s 89ms/step - loss: 0.0472 - categorical_accuracy: 0.9875 - val_loss: 0.5637 - val_categorical_accuracy: 0.9583\n",
      "Epoch 27/200\n",
      "15/15 [==============================] - 1s 89ms/step - loss: 0.1231 - categorical_accuracy: 0.9604 - val_loss: 0.6317 - val_categorical_accuracy: 0.9083\n",
      "Epoch 28/200\n",
      "15/15 [==============================] - 1s 87ms/step - loss: 0.1016 - categorical_accuracy: 0.9625 - val_loss: 0.5204 - val_categorical_accuracy: 0.9583\n",
      "Epoch 29/200\n",
      "15/15 [==============================] - 1s 88ms/step - loss: 0.0547 - categorical_accuracy: 0.9854 - val_loss: 0.5288 - val_categorical_accuracy: 0.9583\n",
      "Epoch 30/200\n",
      "15/15 [==============================] - 1s 87ms/step - loss: 0.0428 - categorical_accuracy: 0.9812 - val_loss: 0.5537 - val_categorical_accuracy: 0.9500\n",
      "Epoch 31/200\n",
      "15/15 [==============================] - 1s 87ms/step - loss: 0.0469 - categorical_accuracy: 0.9854 - val_loss: 0.5574 - val_categorical_accuracy: 0.9500\n",
      "Epoch 32/200\n",
      "15/15 [==============================] - 1s 89ms/step - loss: 0.0693 - categorical_accuracy: 0.9792 - val_loss: 0.5460 - val_categorical_accuracy: 0.9500\n",
      "Epoch 33/200\n",
      "15/15 [==============================] - 1s 87ms/step - loss: 0.0651 - categorical_accuracy: 0.9750 - val_loss: 0.5424 - val_categorical_accuracy: 0.9500\n",
      "Epoch 34/200\n",
      "15/15 [==============================] - 1s 88ms/step - loss: 0.0438 - categorical_accuracy: 0.9854 - val_loss: 0.5800 - val_categorical_accuracy: 0.9500\n",
      "Epoch 35/200\n",
      "15/15 [==============================] - 1s 89ms/step - loss: 0.0352 - categorical_accuracy: 0.9875 - val_loss: 0.5447 - val_categorical_accuracy: 0.9583\n",
      "Epoch 36/200\n",
      "15/15 [==============================] - 1s 86ms/step - loss: 0.0310 - categorical_accuracy: 0.9917 - val_loss: 0.5591 - val_categorical_accuracy: 0.9500\n",
      "Epoch 37/200\n",
      "15/15 [==============================] - 1s 88ms/step - loss: 0.0340 - categorical_accuracy: 0.9875 - val_loss: 0.5764 - val_categorical_accuracy: 0.9500\n",
      "Epoch 38/200\n",
      "15/15 [==============================] - 1s 89ms/step - loss: 0.0331 - categorical_accuracy: 0.9875 - val_loss: 0.6883 - val_categorical_accuracy: 0.9583\n",
      "Epoch 39/200\n",
      "15/15 [==============================] - 1s 86ms/step - loss: 0.0544 - categorical_accuracy: 0.9812 - val_loss: 0.6901 - val_categorical_accuracy: 0.9083\n",
      "Epoch 40/200\n",
      "15/15 [==============================] - 1s 87ms/step - loss: 0.1103 - categorical_accuracy: 0.9646 - val_loss: 0.5243 - val_categorical_accuracy: 0.9500\n",
      "Epoch 41/200\n",
      "15/15 [==============================] - 1s 84ms/step - loss: 0.0374 - categorical_accuracy: 0.9896 - val_loss: 0.5430 - val_categorical_accuracy: 0.9500\n",
      "Epoch 42/200\n",
      "15/15 [==============================] - 1s 80ms/step - loss: 0.0515 - categorical_accuracy: 0.9875 - val_loss: 0.5907 - val_categorical_accuracy: 0.9500\n",
      "Epoch 43/200\n",
      "15/15 [==============================] - 1s 80ms/step - loss: 0.0639 - categorical_accuracy: 0.9812 - val_loss: 0.6058 - val_categorical_accuracy: 0.9583\n",
      "Epoch 44/200\n",
      "15/15 [==============================] - 1s 83ms/step - loss: 0.1288 - categorical_accuracy: 0.9563 - val_loss: 0.6453 - val_categorical_accuracy: 0.9500\n",
      "Epoch 45/200\n",
      "15/15 [==============================] - 1s 86ms/step - loss: 0.2996 - categorical_accuracy: 0.9062 - val_loss: 0.5545 - val_categorical_accuracy: 0.9333\n",
      "Epoch 46/200\n",
      "15/15 [==============================] - 1s 87ms/step - loss: 0.1026 - categorical_accuracy: 0.9708 - val_loss: 0.4712 - val_categorical_accuracy: 0.9583\n",
      "Epoch 47/200\n",
      "15/15 [==============================] - 1s 85ms/step - loss: 0.1049 - categorical_accuracy: 0.9750 - val_loss: 0.4754 - val_categorical_accuracy: 0.9667\n",
      "Epoch 48/200\n",
      "15/15 [==============================] - 1s 87ms/step - loss: 0.0926 - categorical_accuracy: 0.9812 - val_loss: 0.4565 - val_categorical_accuracy: 0.9583\n",
      "Epoch 49/200\n",
      "15/15 [==============================] - 1s 87ms/step - loss: 0.0747 - categorical_accuracy: 0.9854 - val_loss: 0.5216 - val_categorical_accuracy: 0.9500\n",
      "Epoch 50/200\n"
     ]
    },
    {
     "name": "stdout",
     "output_type": "stream",
     "text": [
      "15/15 [==============================] - 1s 86ms/step - loss: 0.0625 - categorical_accuracy: 0.9875 - val_loss: 0.5160 - val_categorical_accuracy: 0.9667\n",
      "Epoch 51/200\n",
      "15/15 [==============================] - 1s 87ms/step - loss: 0.0514 - categorical_accuracy: 0.9896 - val_loss: 0.5417 - val_categorical_accuracy: 0.9417\n",
      "Epoch 52/200\n",
      "15/15 [==============================] - 1s 86ms/step - loss: 0.0532 - categorical_accuracy: 0.9875 - val_loss: 0.5139 - val_categorical_accuracy: 0.9583\n",
      "Epoch 53/200\n",
      "15/15 [==============================] - 1s 87ms/step - loss: 0.0416 - categorical_accuracy: 0.9917 - val_loss: 0.5133 - val_categorical_accuracy: 0.9667\n",
      "Epoch 54/200\n",
      "15/15 [==============================] - 1s 88ms/step - loss: 0.0502 - categorical_accuracy: 0.9875 - val_loss: 0.5160 - val_categorical_accuracy: 0.9667\n",
      "Epoch 55/200\n",
      "15/15 [==============================] - 1s 88ms/step - loss: 0.0416 - categorical_accuracy: 0.9917 - val_loss: 0.5915 - val_categorical_accuracy: 0.9417\n",
      "Epoch 56/200\n",
      "15/15 [==============================] - 1s 87ms/step - loss: 0.0529 - categorical_accuracy: 0.9854 - val_loss: 0.5361 - val_categorical_accuracy: 0.9583\n",
      "Epoch 57/200\n",
      "15/15 [==============================] - 1s 90ms/step - loss: 0.0745 - categorical_accuracy: 0.9729 - val_loss: 0.7755 - val_categorical_accuracy: 0.8750\n",
      "Epoch 58/200\n",
      "15/15 [==============================] - 1s 87ms/step - loss: 0.0975 - categorical_accuracy: 0.9667 - val_loss: 0.5243 - val_categorical_accuracy: 0.9583\n",
      "Epoch 59/200\n",
      "15/15 [==============================] - 1s 89ms/step - loss: 0.0374 - categorical_accuracy: 0.9875 - val_loss: 0.5268 - val_categorical_accuracy: 0.9667\n",
      "Epoch 60/200\n",
      "15/15 [==============================] - 1s 88ms/step - loss: 0.0276 - categorical_accuracy: 0.9937 - val_loss: 0.5442 - val_categorical_accuracy: 0.9667\n",
      "Epoch 61/200\n",
      "15/15 [==============================] - 1s 87ms/step - loss: 0.0324 - categorical_accuracy: 0.9937 - val_loss: 0.5405 - val_categorical_accuracy: 0.9667\n",
      "Epoch 62/200\n",
      "15/15 [==============================] - 1s 89ms/step - loss: 0.0279 - categorical_accuracy: 0.9937 - val_loss: 0.5402 - val_categorical_accuracy: 0.9750\n",
      "Epoch 63/200\n",
      "15/15 [==============================] - 1s 86ms/step - loss: 0.0284 - categorical_accuracy: 0.9937 - val_loss: 0.5464 - val_categorical_accuracy: 0.9667\n",
      "Epoch 64/200\n",
      "15/15 [==============================] - 1s 85ms/step - loss: 0.0335 - categorical_accuracy: 0.9917 - val_loss: 0.5687 - val_categorical_accuracy: 0.9583\n",
      "Epoch 65/200\n",
      "15/15 [==============================] - 1s 88ms/step - loss: 0.0608 - categorical_accuracy: 0.9750 - val_loss: 0.6092 - val_categorical_accuracy: 0.9417\n",
      "Epoch 66/200\n",
      "15/15 [==============================] - 1s 86ms/step - loss: 0.0595 - categorical_accuracy: 0.9771 - val_loss: 0.5812 - val_categorical_accuracy: 0.9500\n",
      "Epoch 67/200\n",
      "15/15 [==============================] - 1s 85ms/step - loss: 0.0916 - categorical_accuracy: 0.9625 - val_loss: 0.5391 - val_categorical_accuracy: 0.9583\n",
      "Epoch 68/200\n",
      "15/15 [==============================] - 1s 87ms/step - loss: 0.0412 - categorical_accuracy: 0.9917 - val_loss: 0.5243 - val_categorical_accuracy: 0.9583\n",
      "Epoch 69/200\n",
      "15/15 [==============================] - 1s 86ms/step - loss: 0.0286 - categorical_accuracy: 0.9937 - val_loss: 0.5432 - val_categorical_accuracy: 0.9583\n",
      "Epoch 70/200\n",
      "15/15 [==============================] - 1s 87ms/step - loss: 0.0367 - categorical_accuracy: 0.9937 - val_loss: 0.5313 - val_categorical_accuracy: 0.9667\n",
      "Epoch 71/200\n",
      "15/15 [==============================] - 1s 88ms/step - loss: 0.0366 - categorical_accuracy: 0.9917 - val_loss: 0.5478 - val_categorical_accuracy: 0.9667\n",
      "Epoch 72/200\n",
      "15/15 [==============================] - 1s 87ms/step - loss: 0.0246 - categorical_accuracy: 0.9917 - val_loss: 0.5397 - val_categorical_accuracy: 0.9667\n",
      "Epoch 73/200\n",
      "15/15 [==============================] - 1s 90ms/step - loss: 0.0313 - categorical_accuracy: 0.9937 - val_loss: 0.5498 - val_categorical_accuracy: 0.9750\n",
      "Epoch 74/200\n",
      "15/15 [==============================] - 1s 88ms/step - loss: 0.0290 - categorical_accuracy: 0.9937 - val_loss: 0.5530 - val_categorical_accuracy: 0.9750\n",
      "Epoch 75/200\n",
      "15/15 [==============================] - 1s 88ms/step - loss: 0.0330 - categorical_accuracy: 0.9937 - val_loss: 0.5689 - val_categorical_accuracy: 0.9667\n",
      "Epoch 76/200\n",
      "15/15 [==============================] - 1s 90ms/step - loss: 0.0211 - categorical_accuracy: 0.9937 - val_loss: 0.5593 - val_categorical_accuracy: 0.9750\n",
      "Epoch 77/200\n",
      "15/15 [==============================] - 1s 86ms/step - loss: 0.0260 - categorical_accuracy: 0.9937 - val_loss: 0.5950 - val_categorical_accuracy: 0.9417\n",
      "Epoch 78/200\n",
      "15/15 [==============================] - 1s 80ms/step - loss: 0.0410 - categorical_accuracy: 0.9896 - val_loss: 0.5826 - val_categorical_accuracy: 0.9583\n",
      "Epoch 79/200\n",
      "15/15 [==============================] - 1s 91ms/step - loss: 0.0246 - categorical_accuracy: 0.9937 - val_loss: 0.5661 - val_categorical_accuracy: 0.9750\n",
      "Epoch 80/200\n",
      "15/15 [==============================] - 1s 87ms/step - loss: 0.0283 - categorical_accuracy: 0.9937 - val_loss: 0.5709 - val_categorical_accuracy: 0.9750\n",
      "Epoch 81/200\n",
      "15/15 [==============================] - 1s 87ms/step - loss: 0.0228 - categorical_accuracy: 0.9937 - val_loss: 0.7117 - val_categorical_accuracy: 0.9083\n",
      "Epoch 82/200\n",
      "15/15 [==============================] - 1s 89ms/step - loss: 0.0198 - categorical_accuracy: 0.9896 - val_loss: 0.5876 - val_categorical_accuracy: 0.9667\n",
      "Epoch 83/200\n",
      "15/15 [==============================] - 1s 87ms/step - loss: 0.0308 - categorical_accuracy: 0.9917 - val_loss: 0.6498 - val_categorical_accuracy: 0.9250\n",
      "Epoch 84/200\n",
      "15/15 [==============================] - 1s 87ms/step - loss: 0.0427 - categorical_accuracy: 0.9854 - val_loss: 0.5544 - val_categorical_accuracy: 0.9667\n",
      "Epoch 85/200\n",
      "15/15 [==============================] - 1s 87ms/step - loss: 0.0463 - categorical_accuracy: 0.9833 - val_loss: 0.5887 - val_categorical_accuracy: 0.9500\n",
      "Epoch 86/200\n",
      "15/15 [==============================] - 1s 88ms/step - loss: 0.0692 - categorical_accuracy: 0.9708 - val_loss: 0.8021 - val_categorical_accuracy: 0.8667\n",
      "Epoch 87/200\n",
      "15/15 [==============================] - 1s 89ms/step - loss: 0.1103 - categorical_accuracy: 0.9625 - val_loss: 0.6103 - val_categorical_accuracy: 0.9667\n",
      "Epoch 88/200\n",
      "15/15 [==============================] - 1s 86ms/step - loss: 0.0744 - categorical_accuracy: 0.9750 - val_loss: 0.5412 - val_categorical_accuracy: 0.9583\n",
      "Epoch 89/200\n",
      "15/15 [==============================] - 1s 87ms/step - loss: 0.0331 - categorical_accuracy: 0.9937 - val_loss: 0.5105 - val_categorical_accuracy: 0.9667\n",
      "Epoch 90/200\n",
      "15/15 [==============================] - 1s 87ms/step - loss: 0.0344 - categorical_accuracy: 0.9917 - val_loss: 0.5069 - val_categorical_accuracy: 0.9750\n",
      "Epoch 91/200\n",
      "15/15 [==============================] - 1s 88ms/step - loss: 0.0339 - categorical_accuracy: 0.9937 - val_loss: 0.5078 - val_categorical_accuracy: 0.9667\n",
      "Epoch 92/200\n",
      "15/15 [==============================] - 1s 87ms/step - loss: 0.0289 - categorical_accuracy: 0.9937 - val_loss: 0.4972 - val_categorical_accuracy: 0.9667\n",
      "Epoch 93/200\n",
      "15/15 [==============================] - 1s 87ms/step - loss: 0.0312 - categorical_accuracy: 0.9917 - val_loss: 0.5251 - val_categorical_accuracy: 0.9667\n",
      "Epoch 94/200\n",
      "15/15 [==============================] - 1s 86ms/step - loss: 0.0262 - categorical_accuracy: 0.9937 - val_loss: 0.5231 - val_categorical_accuracy: 0.9750\n",
      "Epoch 95/200\n",
      "15/15 [==============================] - 1s 87ms/step - loss: 0.0258 - categorical_accuracy: 0.9937 - val_loss: 0.5391 - val_categorical_accuracy: 0.9667\n",
      "Epoch 96/200\n",
      "15/15 [==============================] - 1s 87ms/step - loss: 0.0303 - categorical_accuracy: 0.9937 - val_loss: 0.5289 - val_categorical_accuracy: 0.9750\n",
      "Epoch 97/200\n",
      "15/15 [==============================] - 1s 85ms/step - loss: 0.0261 - categorical_accuracy: 0.9937 - val_loss: 0.5351 - val_categorical_accuracy: 0.9667\n",
      "Epoch 98/200\n",
      "15/15 [==============================] - 1s 88ms/step - loss: 0.0284 - categorical_accuracy: 0.9917 - val_loss: 0.5386 - val_categorical_accuracy: 0.9667\n",
      "Epoch 99/200\n"
     ]
    },
    {
     "name": "stdout",
     "output_type": "stream",
     "text": [
      "15/15 [==============================] - 1s 85ms/step - loss: 0.0277 - categorical_accuracy: 0.9937 - val_loss: 0.5737 - val_categorical_accuracy: 0.9500\n",
      "Epoch 100/200\n",
      "15/15 [==============================] - 1s 87ms/step - loss: 0.0307 - categorical_accuracy: 0.9958 - val_loss: 0.5550 - val_categorical_accuracy: 0.9667\n",
      "Epoch 101/200\n",
      "15/15 [==============================] - 1s 89ms/step - loss: 0.0259 - categorical_accuracy: 0.9917 - val_loss: 0.5505 - val_categorical_accuracy: 0.9750\n",
      "Epoch 102/200\n",
      "15/15 [==============================] - 1s 86ms/step - loss: 0.0336 - categorical_accuracy: 0.9875 - val_loss: 0.5590 - val_categorical_accuracy: 0.9583\n",
      "Epoch 103/200\n",
      "15/15 [==============================] - 1s 86ms/step - loss: 0.0308 - categorical_accuracy: 0.9875 - val_loss: 0.5439 - val_categorical_accuracy: 0.9667\n",
      "Epoch 104/200\n",
      "15/15 [==============================] - 1s 82ms/step - loss: 0.0272 - categorical_accuracy: 0.9937 - val_loss: 0.5579 - val_categorical_accuracy: 0.9667\n",
      "Epoch 105/200\n",
      "15/15 [==============================] - 1s 85ms/step - loss: 0.0284 - categorical_accuracy: 0.9937 - val_loss: 0.5590 - val_categorical_accuracy: 0.9667\n",
      "Epoch 106/200\n",
      "15/15 [==============================] - 1s 89ms/step - loss: 0.0254 - categorical_accuracy: 0.9937 - val_loss: 0.5661 - val_categorical_accuracy: 0.9750\n",
      "Epoch 107/200\n",
      "15/15 [==============================] - 1s 86ms/step - loss: 0.0248 - categorical_accuracy: 0.9937 - val_loss: 0.5825 - val_categorical_accuracy: 0.9667\n",
      "Epoch 108/200\n",
      "15/15 [==============================] - 1s 85ms/step - loss: 0.0256 - categorical_accuracy: 0.9937 - val_loss: 0.5716 - val_categorical_accuracy: 0.9750\n",
      "Epoch 109/200\n",
      "15/15 [==============================] - 1s 88ms/step - loss: 0.0297 - categorical_accuracy: 0.9937 - val_loss: 0.5755 - val_categorical_accuracy: 0.9667\n",
      "Epoch 110/200\n",
      "15/15 [==============================] - 1s 84ms/step - loss: 0.0279 - categorical_accuracy: 0.9937 - val_loss: 0.5955 - val_categorical_accuracy: 0.9583\n",
      "Epoch 111/200\n",
      "15/15 [==============================] - 1s 80ms/step - loss: 0.0277 - categorical_accuracy: 0.9937 - val_loss: 0.5738 - val_categorical_accuracy: 0.9583\n",
      "Epoch 112/200\n",
      "15/15 [==============================] - 1s 82ms/step - loss: 0.0276 - categorical_accuracy: 0.9937 - val_loss: 0.5780 - val_categorical_accuracy: 0.9583\n",
      "Epoch 113/200\n",
      "15/15 [==============================] - 1s 82ms/step - loss: 0.0404 - categorical_accuracy: 0.9896 - val_loss: 0.6230 - val_categorical_accuracy: 0.9500\n",
      "Epoch 114/200\n",
      "15/15 [==============================] - 1s 84ms/step - loss: 0.0433 - categorical_accuracy: 0.9854 - val_loss: 0.6470 - val_categorical_accuracy: 0.9250\n",
      "Epoch 115/200\n",
      "15/15 [==============================] - 1s 89ms/step - loss: 0.0391 - categorical_accuracy: 0.9896 - val_loss: 0.5851 - val_categorical_accuracy: 0.9417\n",
      "Epoch 116/200\n",
      "15/15 [==============================] - 1s 84ms/step - loss: 0.0239 - categorical_accuracy: 0.9937 - val_loss: 0.5797 - val_categorical_accuracy: 0.9583\n",
      "Epoch 117/200\n",
      "15/15 [==============================] - 1s 87ms/step - loss: 0.0301 - categorical_accuracy: 0.9917 - val_loss: 0.5680 - val_categorical_accuracy: 0.9583\n",
      "Epoch 118/200\n",
      "15/15 [==============================] - 1s 88ms/step - loss: 0.0359 - categorical_accuracy: 0.9896 - val_loss: 0.5330 - val_categorical_accuracy: 0.9667\n",
      "Epoch 119/200\n",
      "15/15 [==============================] - 1s 85ms/step - loss: 0.0330 - categorical_accuracy: 0.9896 - val_loss: 0.5429 - val_categorical_accuracy: 0.9583\n",
      "Epoch 120/200\n",
      "15/15 [==============================] - 1s 86ms/step - loss: 0.0269 - categorical_accuracy: 0.9937 - val_loss: 0.5576 - val_categorical_accuracy: 0.9583\n",
      "Epoch 121/200\n",
      "15/15 [==============================] - 1s 88ms/step - loss: 0.0251 - categorical_accuracy: 0.9937 - val_loss: 0.5769 - val_categorical_accuracy: 0.9667\n",
      "Epoch 122/200\n",
      "15/15 [==============================] - 1s 87ms/step - loss: 0.0255 - categorical_accuracy: 0.9937 - val_loss: 0.5544 - val_categorical_accuracy: 0.9667\n",
      "Epoch 123/200\n",
      "15/15 [==============================] - 1s 89ms/step - loss: 0.0333 - categorical_accuracy: 0.9937 - val_loss: 0.5656 - val_categorical_accuracy: 0.9667\n",
      "Epoch 124/200\n",
      "15/15 [==============================] - 1s 89ms/step - loss: 0.0271 - categorical_accuracy: 0.9937 - val_loss: 0.5696 - val_categorical_accuracy: 0.9750\n",
      "Epoch 125/200\n",
      "15/15 [==============================] - 1s 86ms/step - loss: 0.0273 - categorical_accuracy: 0.9937 - val_loss: 0.5722 - val_categorical_accuracy: 0.9667\n",
      "Epoch 126/200\n",
      "15/15 [==============================] - 1s 88ms/step - loss: 0.0285 - categorical_accuracy: 0.9937 - val_loss: 0.5635 - val_categorical_accuracy: 0.9667\n",
      "Epoch 127/200\n",
      "15/15 [==============================] - 1s 86ms/step - loss: 0.0227 - categorical_accuracy: 0.9937 - val_loss: 0.5631 - val_categorical_accuracy: 0.9667\n",
      "Epoch 128/200\n",
      "15/15 [==============================] - 1s 87ms/step - loss: 0.0269 - categorical_accuracy: 0.9937 - val_loss: 0.5937 - val_categorical_accuracy: 0.9500\n",
      "Epoch 129/200\n",
      "15/15 [==============================] - 1s 89ms/step - loss: 0.0422 - categorical_accuracy: 0.9792 - val_loss: 0.5966 - val_categorical_accuracy: 0.9583\n",
      "Epoch 130/200\n",
      "15/15 [==============================] - 1s 86ms/step - loss: 0.0280 - categorical_accuracy: 0.9896 - val_loss: 0.5746 - val_categorical_accuracy: 0.9667\n",
      "Epoch 131/200\n",
      "15/15 [==============================] - 1s 87ms/step - loss: 0.0266 - categorical_accuracy: 0.9937 - val_loss: 0.5846 - val_categorical_accuracy: 0.9667\n",
      "Epoch 132/200\n",
      "15/15 [==============================] - 1s 87ms/step - loss: 0.0248 - categorical_accuracy: 0.9937 - val_loss: 0.6347 - val_categorical_accuracy: 0.9583\n",
      "Epoch 133/200\n",
      "15/15 [==============================] - 1s 85ms/step - loss: 0.0335 - categorical_accuracy: 0.9896 - val_loss: 0.5843 - val_categorical_accuracy: 0.9583\n",
      "Epoch 134/200\n",
      "15/15 [==============================] - 1s 88ms/step - loss: 0.0455 - categorical_accuracy: 0.9854 - val_loss: 0.7817 - val_categorical_accuracy: 0.8917\n",
      "Epoch 135/200\n",
      "15/15 [==============================] - 1s 86ms/step - loss: 0.0664 - categorical_accuracy: 0.9688 - val_loss: 0.6547 - val_categorical_accuracy: 0.9583\n",
      "Epoch 136/200\n",
      "15/15 [==============================] - 1s 85ms/step - loss: 0.0541 - categorical_accuracy: 0.9917 - val_loss: 0.6042 - val_categorical_accuracy: 0.9750\n",
      "Epoch 137/200\n",
      "15/15 [==============================] - 1s 88ms/step - loss: 0.0409 - categorical_accuracy: 0.9917 - val_loss: 0.5570 - val_categorical_accuracy: 0.9667\n",
      "Epoch 138/200\n",
      "15/15 [==============================] - 1s 85ms/step - loss: 0.0370 - categorical_accuracy: 0.9875 - val_loss: 0.5677 - val_categorical_accuracy: 0.9667\n",
      "Epoch 139/200\n",
      "15/15 [==============================] - 1s 85ms/step - loss: 0.0217 - categorical_accuracy: 0.9937 - val_loss: 0.5686 - val_categorical_accuracy: 0.9750\n",
      "Epoch 140/200\n",
      "15/15 [==============================] - 1s 88ms/step - loss: 0.0238 - categorical_accuracy: 0.9937 - val_loss: 0.5716 - val_categorical_accuracy: 0.9667\n",
      "Epoch 141/200\n",
      "15/15 [==============================] - 1s 86ms/step - loss: 0.0237 - categorical_accuracy: 0.9937 - val_loss: 0.5880 - val_categorical_accuracy: 0.9750\n",
      "Epoch 142/200\n",
      "15/15 [==============================] - 1s 87ms/step - loss: 0.0299 - categorical_accuracy: 0.9937 - val_loss: 0.5834 - val_categorical_accuracy: 0.9667\n",
      "Epoch 143/200\n",
      "15/15 [==============================] - 1s 86ms/step - loss: 0.0242 - categorical_accuracy: 0.9937 - val_loss: 0.5830 - val_categorical_accuracy: 0.9667\n",
      "Epoch 144/200\n",
      "15/15 [==============================] - 1s 86ms/step - loss: 0.0237 - categorical_accuracy: 0.9917 - val_loss: 0.6228 - val_categorical_accuracy: 0.9500\n",
      "Epoch 145/200\n",
      "15/15 [==============================] - 1s 89ms/step - loss: 0.0410 - categorical_accuracy: 0.9896 - val_loss: 0.6055 - val_categorical_accuracy: 0.9667\n",
      "Epoch 146/200\n",
      "15/15 [==============================] - 1s 86ms/step - loss: 0.0235 - categorical_accuracy: 0.9896 - val_loss: 0.6824 - val_categorical_accuracy: 0.9500\n",
      "Epoch 147/200\n",
      "15/15 [==============================] - 1s 85ms/step - loss: 0.0762 - categorical_accuracy: 0.9688 - val_loss: 0.6035 - val_categorical_accuracy: 0.9417\n"
     ]
    },
    {
     "name": "stdout",
     "output_type": "stream",
     "text": [
      "Epoch 148/200\n",
      "15/15 [==============================] - 1s 87ms/step - loss: 0.0589 - categorical_accuracy: 0.9854 - val_loss: 0.5491 - val_categorical_accuracy: 0.9583\n",
      "Epoch 149/200\n",
      "15/15 [==============================] - 1s 85ms/step - loss: 0.0368 - categorical_accuracy: 0.9917 - val_loss: 0.5478 - val_categorical_accuracy: 0.9667\n",
      "Epoch 150/200\n",
      "15/15 [==============================] - 1s 87ms/step - loss: 0.0391 - categorical_accuracy: 0.9875 - val_loss: 0.5586 - val_categorical_accuracy: 0.9583\n",
      "Epoch 151/200\n",
      "15/15 [==============================] - 1s 88ms/step - loss: 0.0489 - categorical_accuracy: 0.9812 - val_loss: 0.5809 - val_categorical_accuracy: 0.9667\n",
      "Epoch 152/200\n",
      "15/15 [==============================] - 1s 86ms/step - loss: 0.0373 - categorical_accuracy: 0.9896 - val_loss: 0.5842 - val_categorical_accuracy: 0.9667\n",
      "Epoch 153/200\n",
      "15/15 [==============================] - 1s 89ms/step - loss: 0.1151 - categorical_accuracy: 0.9563 - val_loss: 0.6357 - val_categorical_accuracy: 0.9333\n",
      "Epoch 154/200\n",
      "15/15 [==============================] - 1s 87ms/step - loss: 0.0766 - categorical_accuracy: 0.9792 - val_loss: 0.5119 - val_categorical_accuracy: 0.9583\n",
      "Epoch 155/200\n",
      "15/15 [==============================] - 1s 86ms/step - loss: 0.0475 - categorical_accuracy: 0.9917 - val_loss: 0.5658 - val_categorical_accuracy: 0.9667\n",
      "Epoch 156/200\n",
      "15/15 [==============================] - 1s 88ms/step - loss: 0.0333 - categorical_accuracy: 0.9917 - val_loss: 0.5001 - val_categorical_accuracy: 0.9750\n",
      "Epoch 157/200\n",
      "15/15 [==============================] - 1s 84ms/step - loss: 0.0321 - categorical_accuracy: 0.9917 - val_loss: 0.5306 - val_categorical_accuracy: 0.9667\n",
      "Epoch 158/200\n",
      "15/15 [==============================] - 1s 87ms/step - loss: 0.0306 - categorical_accuracy: 0.9917 - val_loss: 0.5419 - val_categorical_accuracy: 0.9667\n",
      "Epoch 159/200\n",
      "15/15 [==============================] - 1s 88ms/step - loss: 0.0264 - categorical_accuracy: 0.9937 - val_loss: 0.5635 - val_categorical_accuracy: 0.9667\n",
      "Epoch 160/200\n",
      "15/15 [==============================] - 1s 87ms/step - loss: 0.0216 - categorical_accuracy: 0.9937 - val_loss: 0.5668 - val_categorical_accuracy: 0.9667\n",
      "Epoch 161/200\n",
      "15/15 [==============================] - 1s 89ms/step - loss: 0.0282 - categorical_accuracy: 0.9937 - val_loss: 0.5814 - val_categorical_accuracy: 0.9667\n",
      "Epoch 162/200\n",
      "15/15 [==============================] - 1s 86ms/step - loss: 0.0395 - categorical_accuracy: 0.9875 - val_loss: 0.5880 - val_categorical_accuracy: 0.9667\n",
      "Epoch 163/200\n",
      "15/15 [==============================] - 1s 87ms/step - loss: 0.0365 - categorical_accuracy: 0.9917 - val_loss: 0.5949 - val_categorical_accuracy: 0.9667\n",
      "Epoch 164/200\n",
      "15/15 [==============================] - 1s 88ms/step - loss: 0.0328 - categorical_accuracy: 0.9896 - val_loss: 0.5675 - val_categorical_accuracy: 0.9667\n",
      "Epoch 165/200\n",
      "15/15 [==============================] - 1s 87ms/step - loss: 0.0285 - categorical_accuracy: 0.9896 - val_loss: 0.5621 - val_categorical_accuracy: 0.9667\n",
      "Epoch 166/200\n",
      "15/15 [==============================] - 1s 86ms/step - loss: 0.0227 - categorical_accuracy: 0.9937 - val_loss: 0.5769 - val_categorical_accuracy: 0.9750\n",
      "Epoch 167/200\n",
      "15/15 [==============================] - 1s 88ms/step - loss: 0.0235 - categorical_accuracy: 0.9917 - val_loss: 0.6625 - val_categorical_accuracy: 0.9333\n",
      "Epoch 168/200\n",
      "15/15 [==============================] - 1s 86ms/step - loss: 0.0215 - categorical_accuracy: 0.9937 - val_loss: 0.6216 - val_categorical_accuracy: 0.9750\n",
      "Epoch 169/200\n",
      "15/15 [==============================] - 1s 87ms/step - loss: 0.0237 - categorical_accuracy: 0.9937 - val_loss: 0.6383 - val_categorical_accuracy: 0.9667\n",
      "Epoch 170/200\n",
      "15/15 [==============================] - 1s 88ms/step - loss: 0.0247 - categorical_accuracy: 0.9937 - val_loss: 0.6302 - val_categorical_accuracy: 0.9667\n",
      "Epoch 171/200\n",
      "15/15 [==============================] - 1s 86ms/step - loss: 0.0234 - categorical_accuracy: 0.9937 - val_loss: 0.6308 - val_categorical_accuracy: 0.9667\n",
      "Epoch 172/200\n",
      "15/15 [==============================] - 1s 88ms/step - loss: 0.0214 - categorical_accuracy: 0.9958 - val_loss: 0.6264 - val_categorical_accuracy: 0.9667\n",
      "Epoch 173/200\n",
      "15/15 [==============================] - 1s 88ms/step - loss: 0.0309 - categorical_accuracy: 0.9917 - val_loss: 0.7058 - val_categorical_accuracy: 0.9167\n",
      "Epoch 174/200\n",
      "15/15 [==============================] - 1s 86ms/step - loss: 0.0458 - categorical_accuracy: 0.9750 - val_loss: 0.6705 - val_categorical_accuracy: 0.9667\n",
      "Epoch 175/200\n",
      "15/15 [==============================] - 1s 89ms/step - loss: 0.1178 - categorical_accuracy: 0.9646 - val_loss: 0.8520 - val_categorical_accuracy: 0.9083\n",
      "Epoch 176/200\n",
      "15/15 [==============================] - 1s 87ms/step - loss: 0.3157 - categorical_accuracy: 0.9187 - val_loss: 0.6982 - val_categorical_accuracy: 0.9667\n",
      "Epoch 177/200\n",
      "15/15 [==============================] - 1s 86ms/step - loss: 0.0726 - categorical_accuracy: 0.9750 - val_loss: 0.7451 - val_categorical_accuracy: 0.9667\n",
      "Epoch 178/200\n",
      "15/15 [==============================] - 1s 88ms/step - loss: 0.0602 - categorical_accuracy: 0.9875 - val_loss: 0.7644 - val_categorical_accuracy: 0.9583\n",
      "Epoch 179/200\n",
      "15/15 [==============================] - 1s 86ms/step - loss: 0.0456 - categorical_accuracy: 0.9875 - val_loss: 0.6545 - val_categorical_accuracy: 0.9667\n",
      "Epoch 180/200\n",
      "15/15 [==============================] - 1s 87ms/step - loss: 0.0293 - categorical_accuracy: 0.9917 - val_loss: 0.6251 - val_categorical_accuracy: 0.9667\n",
      "Epoch 181/200\n",
      "15/15 [==============================] - 1s 87ms/step - loss: 0.0467 - categorical_accuracy: 0.9854 - val_loss: 0.6488 - val_categorical_accuracy: 0.9750\n",
      "Epoch 182/200\n",
      "15/15 [==============================] - 1s 87ms/step - loss: 0.0375 - categorical_accuracy: 0.9917 - val_loss: 0.6097 - val_categorical_accuracy: 0.9667\n",
      "Epoch 183/200\n",
      "15/15 [==============================] - 1s 89ms/step - loss: 0.0311 - categorical_accuracy: 0.9917 - val_loss: 0.5987 - val_categorical_accuracy: 0.9583\n",
      "Epoch 184/200\n",
      "15/15 [==============================] - 1s 86ms/step - loss: 0.0283 - categorical_accuracy: 0.9937 - val_loss: 0.6027 - val_categorical_accuracy: 0.9667\n",
      "Epoch 185/200\n",
      "15/15 [==============================] - 1s 87ms/step - loss: 0.0264 - categorical_accuracy: 0.9896 - val_loss: 0.6232 - val_categorical_accuracy: 0.9583\n",
      "Epoch 186/200\n",
      "15/15 [==============================] - 1s 84ms/step - loss: 0.0192 - categorical_accuracy: 0.9937 - val_loss: 0.6318 - val_categorical_accuracy: 0.9667\n",
      "Epoch 187/200\n",
      "15/15 [==============================] - 1s 84ms/step - loss: 0.0244 - categorical_accuracy: 0.9937 - val_loss: 0.6339 - val_categorical_accuracy: 0.9667\n",
      "Epoch 188/200\n",
      "15/15 [==============================] - 1s 86ms/step - loss: 0.0265 - categorical_accuracy: 0.9937 - val_loss: 0.6433 - val_categorical_accuracy: 0.9583\n",
      "Epoch 189/200\n",
      "15/15 [==============================] - 1s 87ms/step - loss: 0.0240 - categorical_accuracy: 0.9958 - val_loss: 0.6708 - val_categorical_accuracy: 0.9667\n",
      "Epoch 190/200\n",
      "15/15 [==============================] - 1s 85ms/step - loss: 0.0298 - categorical_accuracy: 0.9896 - val_loss: 0.6843 - val_categorical_accuracy: 0.9583\n",
      "Epoch 191/200\n",
      "15/15 [==============================] - 1s 87ms/step - loss: 0.0496 - categorical_accuracy: 0.9875 - val_loss: 0.7568 - val_categorical_accuracy: 0.9583\n",
      "Epoch 192/200\n",
      "15/15 [==============================] - 1s 87ms/step - loss: 0.0583 - categorical_accuracy: 0.9792 - val_loss: 0.6663 - val_categorical_accuracy: 0.9583\n",
      "Epoch 193/200\n",
      "15/15 [==============================] - 1s 85ms/step - loss: 0.0291 - categorical_accuracy: 0.9896 - val_loss: 0.6120 - val_categorical_accuracy: 0.9667\n",
      "Epoch 194/200\n",
      "15/15 [==============================] - 1s 88ms/step - loss: 0.0241 - categorical_accuracy: 0.9896 - val_loss: 0.6325 - val_categorical_accuracy: 0.9750\n",
      "Epoch 195/200\n",
      "15/15 [==============================] - 1s 88ms/step - loss: 0.0175 - categorical_accuracy: 0.9979 - val_loss: 0.6436 - val_categorical_accuracy: 0.9583\n",
      "Epoch 196/200\n",
      "15/15 [==============================] - 1s 86ms/step - loss: 0.0230 - categorical_accuracy: 0.9958 - val_loss: 0.6617 - val_categorical_accuracy: 0.9667\n"
     ]
    },
    {
     "name": "stdout",
     "output_type": "stream",
     "text": [
      "Epoch 197/200\n",
      "15/15 [==============================] - 1s 87ms/step - loss: 0.0203 - categorical_accuracy: 0.9937 - val_loss: 0.6341 - val_categorical_accuracy: 0.9583\n",
      "Epoch 198/200\n",
      "15/15 [==============================] - 1s 86ms/step - loss: 0.0386 - categorical_accuracy: 0.9917 - val_loss: 0.6150 - val_categorical_accuracy: 0.9667\n",
      "Epoch 199/200\n",
      "15/15 [==============================] - 1s 89ms/step - loss: 0.0182 - categorical_accuracy: 0.9937 - val_loss: 0.6559 - val_categorical_accuracy: 0.9667\n",
      "Epoch 200/200\n",
      "15/15 [==============================] - 1s 86ms/step - loss: 0.0208 - categorical_accuracy: 0.9958 - val_loss: 0.6403 - val_categorical_accuracy: 0.9667\n"
     ]
    }
   ],
   "source": [
    "learn = model.fit(\n",
    "    x_train, \n",
    "    y_train, \n",
    "    validation_data = (x_test, y_test), \n",
    "    epochs = 200, \n",
    "    callbacks = [tb_callbacks]\n",
    ")"
   ]
  },
  {
   "cell_type": "code",
   "execution_count": 9,
   "id": "bcb9101b",
   "metadata": {},
   "outputs": [],
   "source": [
    "# y_pred = model.predict(x_train)"
   ]
  },
  {
   "cell_type": "code",
   "execution_count": 10,
   "id": "29dd49b3",
   "metadata": {
    "collapsed": true
   },
   "outputs": [
    {
     "data": {
      "text/plain": [
       "array([[2.6214767e-22, 6.3766104e-18, 9.6608695e-26, 1.0000000e+00,\n",
       "        0.0000000e+00],\n",
       "       [9.9649328e-01, 9.7991069e-05, 3.3908922e-03, 1.6795091e-06,\n",
       "        1.6181815e-05],\n",
       "       [0.0000000e+00, 1.0000000e+00, 0.0000000e+00, 0.0000000e+00,\n",
       "        0.0000000e+00],\n",
       "       ...,\n",
       "       [0.0000000e+00, 1.0000000e+00, 0.0000000e+00, 0.0000000e+00,\n",
       "        0.0000000e+00],\n",
       "       [3.7405256e-04, 6.5202926e-08, 3.2593057e-04, 1.5272640e-07,\n",
       "        9.9929976e-01],\n",
       "       [9.5392690e-15, 3.0587804e-13, 2.1801468e-15, 1.0000000e+00,\n",
       "        2.3795461e-36]], dtype=float32)"
      ]
     },
     "execution_count": 10,
     "metadata": {},
     "output_type": "execute_result"
    }
   ],
   "source": [
    "# y_pred"
   ]
  },
  {
   "cell_type": "code",
   "execution_count": 11,
   "id": "b35030e8",
   "metadata": {},
   "outputs": [
    {
     "data": {
      "text/plain": [
       "array([2.6214767e-22, 6.3766104e-18, 9.6608695e-26, 1.0000000e+00,\n",
       "       0.0000000e+00], dtype=float32)"
      ]
     },
     "execution_count": 11,
     "metadata": {},
     "output_type": "execute_result"
    }
   ],
   "source": [
    "# y_pred[0]"
   ]
  },
  {
   "cell_type": "code",
   "execution_count": 12,
   "id": "0186e9e8",
   "metadata": {},
   "outputs": [
    {
     "data": {
      "text/plain": [
       "5"
      ]
     },
     "execution_count": 12,
     "metadata": {},
     "output_type": "execute_result"
    }
   ],
   "source": [
    "# len(y_train[0])"
   ]
  },
  {
   "cell_type": "code",
   "execution_count": 121,
   "id": "82fdab45",
   "metadata": {},
   "outputs": [],
   "source": [
    "# !pip install --upgrade pip"
   ]
  },
  {
   "cell_type": "code",
   "execution_count": 122,
   "id": "191f1137",
   "metadata": {},
   "outputs": [],
   "source": [
    "# !pip install --upgrade tensorflow"
   ]
  },
  {
   "cell_type": "code",
   "execution_count": 30,
   "id": "e65d8660",
   "metadata": {},
   "outputs": [],
   "source": [
    "# import tensorflow as tf\n",
    "# import tensorflow_probability as tfp"
   ]
  },
  {
   "cell_type": "code",
   "execution_count": 31,
   "id": "28fbc233",
   "metadata": {},
   "outputs": [],
   "source": [
    "# num_bins = 50\n",
    "# labels_true = tf.convert_to_tensor(y_train, dtype=tf.int32, name='labels_true') #[48, 2]\n",
    "# logits = tf.convert_to_tensor(y_pred, dtype=tf.float32, name='logits') #[48, ]"
   ]
  },
  {
   "cell_type": "code",
   "execution_count": 125,
   "id": "0e631f56",
   "metadata": {
    "collapsed": true
   },
   "outputs": [
    {
     "data": {
      "text/plain": [
       "<tf.Tensor: shape=(48, 2), dtype=float32, numpy=\n",
       "array([[0., 1.],\n",
       "       [0., 1.],\n",
       "       [1., 0.],\n",
       "       [0., 1.],\n",
       "       [0., 1.],\n",
       "       [0., 1.],\n",
       "       [1., 0.],\n",
       "       [0., 1.],\n",
       "       [1., 0.],\n",
       "       [1., 0.],\n",
       "       [1., 0.],\n",
       "       [0., 1.],\n",
       "       [1., 0.],\n",
       "       [0., 1.],\n",
       "       [1., 0.],\n",
       "       [1., 0.],\n",
       "       [1., 0.],\n",
       "       [0., 1.],\n",
       "       [1., 0.],\n",
       "       [0., 1.],\n",
       "       [0., 1.],\n",
       "       [1., 0.],\n",
       "       [0., 1.],\n",
       "       [1., 0.],\n",
       "       [0., 1.],\n",
       "       [0., 1.],\n",
       "       [1., 0.],\n",
       "       [0., 1.],\n",
       "       [1., 0.],\n",
       "       [1., 0.],\n",
       "       [1., 0.],\n",
       "       [1., 0.],\n",
       "       [0., 1.],\n",
       "       [1., 0.],\n",
       "       [1., 0.],\n",
       "       [1., 0.],\n",
       "       [0., 1.],\n",
       "       [0., 1.],\n",
       "       [1., 0.],\n",
       "       [1., 0.],\n",
       "       [0., 1.],\n",
       "       [0., 1.],\n",
       "       [0., 1.],\n",
       "       [1., 0.],\n",
       "       [0., 1.],\n",
       "       [0., 1.],\n",
       "       [0., 1.],\n",
       "       [0., 1.]], dtype=float32)>"
      ]
     },
     "execution_count": 125,
     "metadata": {},
     "output_type": "execute_result"
    }
   ],
   "source": [
    "# logits"
   ]
  },
  {
   "cell_type": "code",
   "execution_count": 126,
   "id": "f963bc7d",
   "metadata": {
    "collapsed": true
   },
   "outputs": [
    {
     "ename": "InvalidArgumentError",
     "evalue": "Incompatible shapes: [48] vs. [48,2] [Op:Equal]",
     "output_type": "error",
     "traceback": [
      "\u001b[1;31m---------------------------------------------------------------------------\u001b[0m",
      "\u001b[1;31mInvalidArgumentError\u001b[0m                      Traceback (most recent call last)",
      "\u001b[1;32m~\\AppData\\Local\\Temp/ipykernel_18608/252385446.py\u001b[0m in \u001b[0;36m<module>\u001b[1;34m\u001b[0m\n\u001b[1;32m----> 1\u001b[1;33m tfp.stats.expected_calibration_error(num_bins=num_bins, \n\u001b[0m\u001b[0;32m      2\u001b[0m                                      \u001b[0mlogits\u001b[0m\u001b[1;33m=\u001b[0m\u001b[0mlogits\u001b[0m\u001b[1;33m,\u001b[0m\u001b[1;33m\u001b[0m\u001b[1;33m\u001b[0m\u001b[0m\n\u001b[0;32m      3\u001b[0m                                      labels_true=labels_true)\n",
      "\u001b[1;32m~\\anaconda3\\lib\\site-packages\\tensorflow_probability\\python\\stats\\calibration.py\u001b[0m in \u001b[0;36mexpected_calibration_error\u001b[1;34m(num_bins, logits, labels_true, labels_predicted, name)\u001b[0m\n\u001b[0;32m    300\u001b[0m     \u001b[1;31m# {incorrect,correct}x{0,1,..,num_bins-1}, as well as the empirical averages\u001b[0m\u001b[1;33m\u001b[0m\u001b[1;33m\u001b[0m\u001b[0m\n\u001b[0;32m    301\u001b[0m     \u001b[1;31m# of predicted probabilities in each probability bin.\u001b[0m\u001b[1;33m\u001b[0m\u001b[1;33m\u001b[0m\u001b[0m\n\u001b[1;32m--> 302\u001b[1;33m     event_bin_counts, pmean_observed = _compute_calibration_bin_statistics(\n\u001b[0m\u001b[0;32m    303\u001b[0m         \u001b[0mnum_bins\u001b[0m\u001b[1;33m,\u001b[0m \u001b[0mlogits\u001b[0m\u001b[1;33m=\u001b[0m\u001b[0mlogits\u001b[0m\u001b[1;33m,\u001b[0m \u001b[0mlabels_true\u001b[0m\u001b[1;33m=\u001b[0m\u001b[0mlabels_true\u001b[0m\u001b[1;33m,\u001b[0m\u001b[1;33m\u001b[0m\u001b[1;33m\u001b[0m\u001b[0m\n\u001b[0;32m    304\u001b[0m         labels_predicted=labels_predicted)\n",
      "\u001b[1;32m~\\anaconda3\\lib\\site-packages\\tensorflow_probability\\python\\stats\\calibration.py\u001b[0m in \u001b[0;36m_compute_calibration_bin_statistics\u001b[1;34m(num_bins, logits, labels_true, labels_predicted)\u001b[0m\n\u001b[0;32m    229\u001b[0m     \u001b[0mpred_y\u001b[0m \u001b[1;33m=\u001b[0m \u001b[0mlabels_predicted\u001b[0m\u001b[1;33m\u001b[0m\u001b[1;33m\u001b[0m\u001b[0m\n\u001b[0;32m    230\u001b[0m \u001b[1;33m\u001b[0m\u001b[0m\n\u001b[1;32m--> 231\u001b[1;33m   \u001b[0mcorrect\u001b[0m \u001b[1;33m=\u001b[0m \u001b[0mtf\u001b[0m\u001b[1;33m.\u001b[0m\u001b[0mcast\u001b[0m\u001b[1;33m(\u001b[0m\u001b[0mtf\u001b[0m\u001b[1;33m.\u001b[0m\u001b[0mequal\u001b[0m\u001b[1;33m(\u001b[0m\u001b[0mpred_y\u001b[0m\u001b[1;33m,\u001b[0m \u001b[0mlabels_true\u001b[0m\u001b[1;33m)\u001b[0m\u001b[1;33m,\u001b[0m \u001b[0mtf\u001b[0m\u001b[1;33m.\u001b[0m\u001b[0mint32\u001b[0m\u001b[1;33m)\u001b[0m\u001b[1;33m\u001b[0m\u001b[1;33m\u001b[0m\u001b[0m\n\u001b[0m\u001b[0;32m    232\u001b[0m \u001b[1;33m\u001b[0m\u001b[0m\n\u001b[0;32m    233\u001b[0m   \u001b[1;31m# Collect predicted probabilities of decisions\u001b[0m\u001b[1;33m\u001b[0m\u001b[1;33m\u001b[0m\u001b[0m\n",
      "\u001b[1;32m~\\anaconda3\\lib\\site-packages\\tensorflow\\python\\util\\traceback_utils.py\u001b[0m in \u001b[0;36merror_handler\u001b[1;34m(*args, **kwargs)\u001b[0m\n\u001b[0;32m    151\u001b[0m     \u001b[1;32mexcept\u001b[0m \u001b[0mException\u001b[0m \u001b[1;32mas\u001b[0m \u001b[0me\u001b[0m\u001b[1;33m:\u001b[0m\u001b[1;33m\u001b[0m\u001b[1;33m\u001b[0m\u001b[0m\n\u001b[0;32m    152\u001b[0m       \u001b[0mfiltered_tb\u001b[0m \u001b[1;33m=\u001b[0m \u001b[0m_process_traceback_frames\u001b[0m\u001b[1;33m(\u001b[0m\u001b[0me\u001b[0m\u001b[1;33m.\u001b[0m\u001b[0m__traceback__\u001b[0m\u001b[1;33m)\u001b[0m\u001b[1;33m\u001b[0m\u001b[1;33m\u001b[0m\u001b[0m\n\u001b[1;32m--> 153\u001b[1;33m       \u001b[1;32mraise\u001b[0m \u001b[0me\u001b[0m\u001b[1;33m.\u001b[0m\u001b[0mwith_traceback\u001b[0m\u001b[1;33m(\u001b[0m\u001b[0mfiltered_tb\u001b[0m\u001b[1;33m)\u001b[0m \u001b[1;32mfrom\u001b[0m \u001b[1;32mNone\u001b[0m\u001b[1;33m\u001b[0m\u001b[1;33m\u001b[0m\u001b[0m\n\u001b[0m\u001b[0;32m    154\u001b[0m     \u001b[1;32mfinally\u001b[0m\u001b[1;33m:\u001b[0m\u001b[1;33m\u001b[0m\u001b[1;33m\u001b[0m\u001b[0m\n\u001b[0;32m    155\u001b[0m       \u001b[1;32mdel\u001b[0m \u001b[0mfiltered_tb\u001b[0m\u001b[1;33m\u001b[0m\u001b[1;33m\u001b[0m\u001b[0m\n",
      "\u001b[1;32m~\\anaconda3\\lib\\site-packages\\tensorflow\\python\\framework\\ops.py\u001b[0m in \u001b[0;36mraise_from_not_ok_status\u001b[1;34m(e, name)\u001b[0m\n\u001b[0;32m   7184\u001b[0m \u001b[1;32mdef\u001b[0m \u001b[0mraise_from_not_ok_status\u001b[0m\u001b[1;33m(\u001b[0m\u001b[0me\u001b[0m\u001b[1;33m,\u001b[0m \u001b[0mname\u001b[0m\u001b[1;33m)\u001b[0m\u001b[1;33m:\u001b[0m\u001b[1;33m\u001b[0m\u001b[1;33m\u001b[0m\u001b[0m\n\u001b[0;32m   7185\u001b[0m   \u001b[0me\u001b[0m\u001b[1;33m.\u001b[0m\u001b[0mmessage\u001b[0m \u001b[1;33m+=\u001b[0m \u001b[1;33m(\u001b[0m\u001b[1;34m\" name: \"\u001b[0m \u001b[1;33m+\u001b[0m \u001b[0mname\u001b[0m \u001b[1;32mif\u001b[0m \u001b[0mname\u001b[0m \u001b[1;32mis\u001b[0m \u001b[1;32mnot\u001b[0m \u001b[1;32mNone\u001b[0m \u001b[1;32melse\u001b[0m \u001b[1;34m\"\"\u001b[0m\u001b[1;33m)\u001b[0m\u001b[1;33m\u001b[0m\u001b[1;33m\u001b[0m\u001b[0m\n\u001b[1;32m-> 7186\u001b[1;33m   \u001b[1;32mraise\u001b[0m \u001b[0mcore\u001b[0m\u001b[1;33m.\u001b[0m\u001b[0m_status_to_exception\u001b[0m\u001b[1;33m(\u001b[0m\u001b[0me\u001b[0m\u001b[1;33m)\u001b[0m \u001b[1;32mfrom\u001b[0m \u001b[1;32mNone\u001b[0m  \u001b[1;31m# pylint: disable=protected-access\u001b[0m\u001b[1;33m\u001b[0m\u001b[1;33m\u001b[0m\u001b[0m\n\u001b[0m\u001b[0;32m   7187\u001b[0m \u001b[1;33m\u001b[0m\u001b[0m\n\u001b[0;32m   7188\u001b[0m \u001b[1;33m\u001b[0m\u001b[0m\n",
      "\u001b[1;31mInvalidArgumentError\u001b[0m: Incompatible shapes: [48] vs. [48,2] [Op:Equal]"
     ]
    }
   ],
   "source": [
    "# tfp.stats.expected_calibration_error(num_bins=num_bins, \n",
    "#                                      logits=logits, \n",
    "#                                      labels_true=labels_true)"
   ]
  },
  {
   "cell_type": "code",
   "execution_count": 32,
   "id": "e5a7f4c0",
   "metadata": {},
   "outputs": [],
   "source": [
    "# temp = tf.Variable(initial_value=1.0, trainable=True, dtype=tf.float32) "
   ]
  },
  {
   "cell_type": "code",
   "execution_count": 151,
   "id": "29911655",
   "metadata": {},
   "outputs": [
    {
     "data": {
      "text/plain": [
       "(48, 2)"
      ]
     },
     "execution_count": 151,
     "metadata": {},
     "output_type": "execute_result"
    }
   ],
   "source": [
    "# y_train.shape"
   ]
  },
  {
   "cell_type": "code",
   "execution_count": 33,
   "id": "80728bf3",
   "metadata": {},
   "outputs": [],
   "source": [
    "# def compute_loss():\n",
    "#     y_pred_model_w_temp = tf.math.divide(y_pred, temp)\n",
    "#     loss = tf.reduce_mean(tf.nn.softmax_cross_entropy_with_logits(\\\n",
    "#                                 tf.convert_to_tensor(y_train), y_pred_model_w_temp))\n",
    "#     return loss"
   ]
  },
  {
   "cell_type": "code",
   "execution_count": 34,
   "id": "1f378bba",
   "metadata": {},
   "outputs": [
    {
     "name": "stdout",
     "output_type": "stream",
     "text": [
      "Temperature Initial value: 1.0\n",
      "Temperature Final value: 0.13068178296089172\n"
     ]
    }
   ],
   "source": [
    "# optimizer = tf.optimizers.Adam(learning_rate=0.01)\n",
    "\n",
    "# print('Temperature Initial value: {}'.format(temp.numpy()))\n",
    "\n",
    "# for i in range(300):\n",
    "#     opts = optimizer.minimize(compute_loss, var_list=[temp])\n",
    "\n",
    "\n",
    "# print('Temperature Final value: {}'.format(temp.numpy()))"
   ]
  },
  {
   "cell_type": "code",
   "execution_count": 36,
   "id": "9bd61ff2",
   "metadata": {},
   "outputs": [],
   "source": [
    "# y_pred_model_w_temp = tf.math.divide(y_pred, temp)\n",
    "# num_bins = 50\n",
    "# labels_true = tf.convert_to_tensor(y_train, dtype=tf.int32, name='labels_true')\n",
    "# logits = tf.convert_to_tensor(y_pred_model_w_temp, dtype=tf.float32, name='logits')\n",
    "\n",
    "# tfp.stats.expected_calibration_error(num_bins=num_bins, \n",
    "#                                      logits=logits, \n",
    "#                                      labels_true=labels_true)"
   ]
  },
  {
   "cell_type": "code",
   "execution_count": 137,
   "id": "bfa992c6",
   "metadata": {},
   "outputs": [
    {
     "data": {
      "text/plain": [
       "48"
      ]
     },
     "execution_count": 137,
     "metadata": {},
     "output_type": "execute_result"
    }
   ],
   "source": [
    "# len(y_pred_model_w_temp.numpy())"
   ]
  },
  {
   "cell_type": "code",
   "execution_count": 37,
   "id": "4f668a03",
   "metadata": {},
   "outputs": [
    {
     "data": {
      "text/plain": [
       "'this'"
      ]
     },
     "execution_count": 37,
     "metadata": {},
     "output_type": "execute_result"
    }
   ],
   "source": [
    "# actions[np.argmax(y_pred_model_w_temp.numpy()[3])]"
   ]
  },
  {
   "cell_type": "code",
   "execution_count": 25,
   "id": "18895e39",
   "metadata": {},
   "outputs": [],
   "source": [
    "# model.save('SingleFlexible.h5')"
   ]
  },
  {
   "cell_type": "code",
   "execution_count": 44,
   "id": "6cb8e062",
   "metadata": {},
   "outputs": [
    {
     "data": {
      "image/png": "[encoded data removed]",
      "text/plain": [
       "<Figure size 720x360 with 1 Axes>"
      ]
     },
     "metadata": {
      "needs_background": "light"
     },
     "output_type": "display_data"
    }
   ],
   "source": [
    "fig, loss_graph = plt.subplots(figsize=(10, 5))\n",
    "# acc_ax = loss_ax.twinx()\n",
    "\n",
    "loss_graph.plot(learn.history['loss'], 'y', label='train loss')\n",
    "loss_graph.plot(learn.history['val_loss'], 'b', label='val loss')\n",
    "loss_graph.set_xlabel('epoch')\n",
    "loss_graph.set_ylabel('loss')\n",
    "loss_graph.legend(loc = 'upper left')\n",
    "\n",
    "plt.savefig('SingleFixed_loss_plot_curve.jpg')\n",
    "plt.show()"
   ]
  },
  {
   "cell_type": "code",
   "execution_count": 45,
   "id": "2ccc18e0",
   "metadata": {},
   "outputs": [
    {
     "data": {
      "image/png": "[encoded data removed]",
      "text/plain": [
       "<Figure size 720x360 with 1 Axes>"
      ]
     },
     "metadata": {
      "needs_background": "light"
     },
     "output_type": "display_data"
    }
   ],
   "source": [
    "fig, acc_graph = plt.subplots(figsize = (10, 5))\n",
    "\n",
    "acc_graph.plot(learn.history['categorical_accuracy'], 'b', label='train acc')\n",
    "acc_graph.plot(learn.history['val_categorical_accuracy'], 'g', label='val acc')\n",
    "acc_graph.set_xlabel('epoch')\n",
    "acc_graph.set_ylabel('accuracy')\n",
    "acc_graph.set_ylim([0, 1.5])\n",
    "acc_graph.legend(loc = 'upper left')\n",
    "\n",
    "plt.savefig('SingleFixed_train_plot_curve.jpg')\n",
    "plt.show()"
   ]
  },
  {
   "cell_type": "code",
   "execution_count": 18,
   "id": "1d8c0255",
   "metadata": {},
   "outputs": [],
   "source": [
    "x_pred = model.predict(x_test)"
   ]
  },
  {
   "cell_type": "code",
   "execution_count": 19,
   "id": "e998144c",
   "metadata": {},
   "outputs": [],
   "source": [
    "y_true = np.argmax(y_test, axis = 1).tolist()"
   ]
  },
  {
   "cell_type": "code",
   "execution_count": 20,
   "id": "96d6d737",
   "metadata": {},
   "outputs": [],
   "source": [
    "x_pred = np.argmax(x_pred, axis = 1).tolist()"
   ]
  },
  {
   "cell_type": "code",
   "execution_count": 21,
   "id": "2d0cfea5",
   "metadata": {},
   "outputs": [
    {
     "data": {
      "text/plain": [
       "[2,\n",
       " 1,\n",
       " 4,\n",
       " 1,\n",
       " 2,\n",
       " 1,\n",
       " 1,\n",
       " 0,\n",
       " 1,\n",
       " 4,\n",
       " 0,\n",
       " 3,\n",
       " 1,\n",
       " 4,\n",
       " 0,\n",
       " 2,\n",
       " 4,\n",
       " 1,\n",
       " 2,\n",
       " 1,\n",
       " 3,\n",
       " 0,\n",
       " 3,\n",
       " 0,\n",
       " 2,\n",
       " 4,\n",
       " 2,\n",
       " 4,\n",
       " 1,\n",
       " 0,\n",
       " 3,\n",
       " 1,\n",
       " 4,\n",
       " 1,\n",
       " 3,\n",
       " 1,\n",
       " 2,\n",
       " 3,\n",
       " 4,\n",
       " 0,\n",
       " 1,\n",
       " 3,\n",
       " 0,\n",
       " 3,\n",
       " 2,\n",
       " 0,\n",
       " 2,\n",
       " 4,\n",
       " 3,\n",
       " 3,\n",
       " 3,\n",
       " 1,\n",
       " 2,\n",
       " 1,\n",
       " 1,\n",
       " 0,\n",
       " 4,\n",
       " 1,\n",
       " 1,\n",
       " 2,\n",
       " 0,\n",
       " 2,\n",
       " 4,\n",
       " 0,\n",
       " 0,\n",
       " 3,\n",
       " 2,\n",
       " 1,\n",
       " 2,\n",
       " 1,\n",
       " 3,\n",
       " 2,\n",
       " 0,\n",
       " 4,\n",
       " 0,\n",
       " 0,\n",
       " 3,\n",
       " 0,\n",
       " 4,\n",
       " 2,\n",
       " 1,\n",
       " 0,\n",
       " 0,\n",
       " 2,\n",
       " 0,\n",
       " 3,\n",
       " 4,\n",
       " 2,\n",
       " 1,\n",
       " 4,\n",
       " 2,\n",
       " 3,\n",
       " 1,\n",
       " 0,\n",
       " 1,\n",
       " 1,\n",
       " 1,\n",
       " 1,\n",
       " 2,\n",
       " 3,\n",
       " 0,\n",
       " 2,\n",
       " 1,\n",
       " 1,\n",
       " 2,\n",
       " 4,\n",
       " 2,\n",
       " 3,\n",
       " 4,\n",
       " 1,\n",
       " 0,\n",
       " 0,\n",
       " 2,\n",
       " 4,\n",
       " 3,\n",
       " 2,\n",
       " 0,\n",
       " 2,\n",
       " 0,\n",
       " 1]"
      ]
     },
     "execution_count": 21,
     "metadata": {},
     "output_type": "execute_result"
    }
   ],
   "source": [
    "x_pred"
   ]
  },
  {
   "cell_type": "code",
   "execution_count": 22,
   "id": "dee1cf51",
   "metadata": {},
   "outputs": [
    {
     "data": {
      "text/plain": [
       "[2,\n",
       " 1,\n",
       " 4,\n",
       " 1,\n",
       " 2,\n",
       " 1,\n",
       " 1,\n",
       " 0,\n",
       " 1,\n",
       " 4,\n",
       " 0,\n",
       " 3,\n",
       " 1,\n",
       " 4,\n",
       " 0,\n",
       " 2,\n",
       " 4,\n",
       " 1,\n",
       " 2,\n",
       " 1,\n",
       " 3,\n",
       " 0,\n",
       " 3,\n",
       " 0,\n",
       " 2,\n",
       " 4,\n",
       " 2,\n",
       " 4,\n",
       " 1,\n",
       " 0,\n",
       " 3,\n",
       " 1,\n",
       " 4,\n",
       " 1,\n",
       " 3,\n",
       " 1,\n",
       " 2,\n",
       " 3,\n",
       " 4,\n",
       " 0,\n",
       " 1,\n",
       " 3,\n",
       " 0,\n",
       " 3,\n",
       " 2,\n",
       " 0,\n",
       " 2,\n",
       " 4,\n",
       " 3,\n",
       " 3,\n",
       " 3,\n",
       " 1,\n",
       " 2,\n",
       " 1,\n",
       " 1,\n",
       " 0,\n",
       " 4,\n",
       " 1,\n",
       " 1,\n",
       " 2,\n",
       " 0,\n",
       " 2,\n",
       " 4,\n",
       " 0,\n",
       " 0,\n",
       " 3,\n",
       " 2,\n",
       " 1,\n",
       " 2,\n",
       " 1,\n",
       " 3,\n",
       " 2,\n",
       " 0,\n",
       " 4,\n",
       " 0,\n",
       " 0,\n",
       " 3,\n",
       " 2,\n",
       " 4,\n",
       " 3,\n",
       " 1,\n",
       " 0,\n",
       " 0,\n",
       " 2,\n",
       " 0,\n",
       " 3,\n",
       " 4,\n",
       " 2,\n",
       " 1,\n",
       " 4,\n",
       " 2,\n",
       " 3,\n",
       " 1,\n",
       " 0,\n",
       " 1,\n",
       " 1,\n",
       " 1,\n",
       " 1,\n",
       " 2,\n",
       " 3,\n",
       " 0,\n",
       " 2,\n",
       " 1,\n",
       " 1,\n",
       " 3,\n",
       " 4,\n",
       " 2,\n",
       " 3,\n",
       " 4,\n",
       " 1,\n",
       " 0,\n",
       " 0,\n",
       " 2,\n",
       " 4,\n",
       " 3,\n",
       " 0,\n",
       " 0,\n",
       " 2,\n",
       " 0,\n",
       " 1]"
      ]
     },
     "execution_count": 22,
     "metadata": {},
     "output_type": "execute_result"
    }
   ],
   "source": [
    "y_true"
   ]
  },
  {
   "cell_type": "code",
   "execution_count": 23,
   "id": "3b2c4b70",
   "metadata": {},
   "outputs": [],
   "source": [
    "mul_conf_mx = multilabel_confusion_matrix(y_true, x_pred)"
   ]
  },
  {
   "cell_type": "code",
   "execution_count": 34,
   "id": "6a9199a1",
   "metadata": {
    "scrolled": true
   },
   "outputs": [
    {
     "data": {
      "text/plain": [
       "array([[[85,  2],\n",
       "        [ 3, 30]],\n",
       "\n",
       "       [[97,  0],\n",
       "        [ 1, 22]],\n",
       "\n",
       "       [[98,  4],\n",
       "        [ 2, 16]],\n",
       "\n",
       "       [[95,  0],\n",
       "        [ 0, 25]],\n",
       "\n",
       "       [[99,  0],\n",
       "        [ 0, 21]]], dtype=int64)"
      ]
     },
     "execution_count": 34,
     "metadata": {},
     "output_type": "execute_result"
    }
   ],
   "source": [
    "mul_conf_mx"
   ]
  },
  {
   "cell_type": "code",
   "execution_count": 35,
   "id": "ec5d6e22",
   "metadata": {},
   "outputs": [],
   "source": [
    "conf_mx = confusion_matrix(y_true, x_pred)"
   ]
  },
  {
   "cell_type": "code",
   "execution_count": 36,
   "id": "c1fcd57a",
   "metadata": {},
   "outputs": [
    {
     "data": {
      "text/plain": [
       "array([[30,  0,  3,  0,  0],\n",
       "       [ 0, 22,  1,  0,  0],\n",
       "       [ 2,  0, 16,  0,  0],\n",
       "       [ 0,  0,  0, 25,  0],\n",
       "       [ 0,  0,  0,  0, 21]], dtype=int64)"
      ]
     },
     "execution_count": 36,
     "metadata": {},
     "output_type": "execute_result"
    }
   ],
   "source": [
    "conf_mx"
   ]
  },
  {
   "cell_type": "code",
   "execution_count": 24,
   "id": "cd1b6031",
   "metadata": {
    "collapsed": true
   },
   "outputs": [
    {
     "data": {
      "text/plain": [
       "0.9666666666666667"
      ]
     },
     "execution_count": 24,
     "metadata": {},
     "output_type": "execute_result"
    }
   ],
   "source": [
    "# accuracy_score(y_true, x_pred)"
   ]
  },
  {
   "cell_type": "code",
   "execution_count": 37,
   "id": "939b2a9f",
   "metadata": {},
   "outputs": [
    {
     "data": {
      "text/plain": [
       "0.95"
      ]
     },
     "execution_count": 37,
     "metadata": {},
     "output_type": "execute_result"
    }
   ],
   "source": [
    "accuracy_score(y_true, x_pred)"
   ]
  },
  {
   "cell_type": "code",
   "execution_count": 56,
   "id": "ea5d9cd1",
   "metadata": {},
   "outputs": [
    {
     "data": {
      "text/plain": [
       "0.9509026840605788"
      ]
     },
     "execution_count": 56,
     "metadata": {},
     "output_type": "execute_result"
    }
   ],
   "source": [
    "f1_score(y_true, x_pred, average = 'weighted')"
   ]
  },
  {
   "cell_type": "code",
   "execution_count": 48,
   "id": "aff21f46",
   "metadata": {},
   "outputs": [
    {
     "name": "stdout",
     "output_type": "stream",
     "text": [
      "[0. 1. 2. 3. 4.]\n"
     ]
    },
    {
     "data": {
      "text/plain": [
       "<Figure size 6480x6480 with 0 Axes>"
      ]
     },
     "execution_count": 48,
     "metadata": {},
     "output_type": "execute_result"
    },
    {
     "data": {
      "image/png": "[encoded data removed]",
      "text/plain": [
       "<Figure size 432x288 with 2 Axes>"
      ]
     },
     "metadata": {
      "needs_background": "light"
     },
     "output_type": "display_data"
    },
    {
     "data": {
      "text/plain": [
       "<Figure size 6480x6480 with 0 Axes>"
      ]
     },
     "metadata": {},
     "output_type": "display_data"
    }
   ],
   "source": [
    "ticks = np.linspace(0, 4, num = 5)\n",
    "print(ticks)\n",
    "# ticks = actions\n",
    "\n",
    "\n",
    "plt.imshow(conf_mx, interpolation = 'none')\n",
    "plt.colorbar()\n",
    "plt.xticks(ticks, fontsize = 6)\n",
    "plt.yticks(ticks, fontsize = 6)\n",
    "plt.savefig('SingleFlexible_confusion_matrix.jpg')\n",
    "plt.figure(figsize = (90, 90))"
   ]
  }
 ],
 "metadata": {
  "kernelspec": {
   "display_name": "Python 3 (ipykernel)",
   "language": "python",
   "name": "python3"
  },
  "language_info": {
   "codemirror_mode": {
    "name": "ipython",
    "version": 3
   },
   "file_extension": ".py",
   "mimetype": "text/x-python",
   "name": "python",
   "nbconvert_exporter": "python",
   "pygments_lexer": "ipython3",
   "version": "3.9.7"
  }
 },
 "nbformat": 4,
 "nbformat_minor": 5
}
